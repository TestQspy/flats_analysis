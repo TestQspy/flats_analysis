{
 "cells": [
  {
   "cell_type": "code",
   "execution_count": 1,
   "metadata": {},
   "outputs": [],
   "source": [
    "import pandas as pd\n",
    "import numpy as np"
   ]
  },
  {
   "cell_type": "code",
   "execution_count": 2,
   "metadata": {
    "scrolled": true
   },
   "outputs": [],
   "source": [
    "df = pd.read_csv(\"data_set_utf8.csv\")"
   ]
  },
  {
   "cell_type": "code",
   "execution_count": 46,
   "metadata": {},
   "outputs": [
    {
     "name": "stdout",
     "output_type": "stream",
     "text": [
      "finish_condition    5865\n",
      "building_type       4338\n",
      "floor_number        2114\n",
      "prod_year           1363\n",
      "district             360\n",
      "price                295\n",
      "price_per_m2         294\n",
      "floor                260\n",
      "room_number            0\n",
      "flat_surface_m2        0\n",
      "market                 0\n",
      "dtype: int64\n"
     ]
    }
   ],
   "source": [
    "print(df.isna().sum().sort_values(ascending=False))\n",
    "# print(df.isna().sum())"
   ]
  },
  {
   "cell_type": "code",
   "execution_count": 47,
   "metadata": {},
   "outputs": [
    {
     "data": {
      "text/plain": [
       "<bound method DataFrame.count of            district      price  price_per_m2  floor  floor_number  prod_year  \\\n",
       "2      Stare Miasto   459000.0        9592.0    4.0           7.0     2022.0   \n",
       "3      Stare Miasto  7500000.0       35361.0    8.0           9.0     2016.0   \n",
       "5            Krzyki  5245000.0       23106.0   20.0          48.0     2012.0   \n",
       "6            Krzyki  4800000.0       27195.0   20.0          48.0     2012.0   \n",
       "9      Stare Miasto  3582800.0       20000.0    9.0          10.0     2021.0   \n",
       "...             ...        ...           ...    ...           ...        ...   \n",
       "15030     Fabryczna   362313.0        7100.0    1.0           4.0     2020.0   \n",
       "15031        Krzyki   362063.0        7575.0    5.0           NaN     2021.0   \n",
       "15032     Fabryczna   362000.0        7094.0    1.0           4.0        NaN   \n",
       "15034     Fabryczna   361900.0        6933.0    0.0           2.0     2021.0   \n",
       "15035     Fabryczna   360000.0        9424.0    1.0           4.0     2021.0   \n",
       "\n",
       "          market    building_type finish_condition  flat_surface_m2  \\\n",
       "2      pierwotny  apartamentowiec   do wykończenia            47.85   \n",
       "3      pierwotny  apartamentowiec  do zamieszkania           212.10   \n",
       "5      pierwotny  apartamentowiec   do wykończenia           227.00   \n",
       "6      pierwotny  apartamentowiec   do wykończenia           176.50   \n",
       "9      pierwotny  apartamentowiec   do wykończenia           179.14   \n",
       "...          ...              ...              ...              ...   \n",
       "15030  pierwotny              NaN   do wykończenia            51.03   \n",
       "15031  pierwotny  apartamentowiec              NaN            47.80   \n",
       "15032  pierwotny             blok              NaN            51.03   \n",
       "15034  pierwotny  apartamentowiec   do wykończenia            52.20   \n",
       "15035  pierwotny              NaN              NaN            38.20   \n",
       "\n",
       "       room_number  \n",
       "2                2  \n",
       "3                4  \n",
       "5                5  \n",
       "6                4  \n",
       "9                6  \n",
       "...            ...  \n",
       "15030            2  \n",
       "15031            3  \n",
       "15032            2  \n",
       "15034            3  \n",
       "15035            2  \n",
       "\n",
       "[9358 rows x 11 columns]>"
      ]
     },
     "execution_count": 47,
     "metadata": {},
     "output_type": "execute_result"
    }
   ],
   "source": [
    "df.dtypes\n",
    "df.describe()\n",
    "df.count"
   ]
  },
  {
   "cell_type": "code",
   "execution_count": 27,
   "metadata": {},
   "outputs": [
    {
     "name": "stdout",
     "output_type": "stream",
     "text": [
      "finish_condition    62.67\n",
      "building_type       46.36\n",
      "floor_number        22.59\n",
      "prod_year           14.57\n",
      "district             3.85\n",
      "price                3.15\n",
      "price_per_m2         3.14\n",
      "floor                2.78\n",
      "room_number          0.00\n",
      "flat_surface_m2      0.00\n",
      "market               0.00\n",
      "dtype: float64\n"
     ]
    }
   ],
   "source": [
    "def missing(dff):\n",
    "    print (round((dff.isnull().sum() * 100/ len(dff)),2).sort_values(ascending=False))\n",
    "\n",
    "missing(df)"
   ]
  },
  {
   "cell_type": "code",
   "execution_count": 36,
   "metadata": {},
   "outputs": [
    {
     "data": {
      "text/html": [
       "<div>\n",
       "<style scoped>\n",
       "    .dataframe tbody tr th:only-of-type {\n",
       "        vertical-align: middle;\n",
       "    }\n",
       "\n",
       "    .dataframe tbody tr th {\n",
       "        vertical-align: top;\n",
       "    }\n",
       "\n",
       "    .dataframe thead th {\n",
       "        text-align: right;\n",
       "    }\n",
       "</style>\n",
       "<table border=\"1\" class=\"dataframe\">\n",
       "  <thead>\n",
       "    <tr style=\"text-align: right;\">\n",
       "      <th></th>\n",
       "      <th>district</th>\n",
       "      <th>price</th>\n",
       "      <th>price_per_m2</th>\n",
       "      <th>floor</th>\n",
       "      <th>floor_number</th>\n",
       "      <th>prod_year</th>\n",
       "      <th>market</th>\n",
       "      <th>building_type</th>\n",
       "      <th>finish_condition</th>\n",
       "      <th>flat_surface_m2</th>\n",
       "      <th>room_number</th>\n",
       "    </tr>\n",
       "  </thead>\n",
       "  <tbody>\n",
       "  </tbody>\n",
       "</table>\n",
       "</div>"
      ],
      "text/plain": [
       "Empty DataFrame\n",
       "Columns: [district, price, price_per_m2, floor, floor_number, prod_year, market, building_type, finish_condition, flat_surface_m2, room_number]\n",
       "Index: []"
      ]
     },
     "execution_count": 36,
     "metadata": {},
     "output_type": "execute_result"
    }
   ],
   "source": [
    "# df.id.unique()\n",
    "# df.district\n",
    "# df.price.mode()\n",
    "# (df.price_per_m2)\n",
    "# df.floor\n",
    "# df.floor_number.unique()\n",
    "df[df.prod_year == 1]\n",
    "# df[df.price < 100000]\n",
    "# nona = 0\n",
    "# for i in df.rent.notna():\n",
    "#     if i:\n",
    "#         nona+=1\n",
    "# print(nona)\n",
    "# len(df[df['rent'] < 900])\n",
    "# df2 = df[df.market == 'wtórny'].index\n",
    "# df.drop(index=df2, inplace=True)\n",
    "# df.market\n",
    "# df.building_type.unique()\n",
    "# df.finish_condition.unique()\n",
    "# df.flat_surface_m2\n",
    "# df.room_number"
   ]
  },
  {
   "cell_type": "code",
   "execution_count": 45,
   "metadata": {
    "scrolled": true
   },
   "outputs": [
    {
     "data": {
      "text/html": [
       "<div>\n",
       "<style scoped>\n",
       "    .dataframe tbody tr th:only-of-type {\n",
       "        vertical-align: middle;\n",
       "    }\n",
       "\n",
       "    .dataframe tbody tr th {\n",
       "        vertical-align: top;\n",
       "    }\n",
       "\n",
       "    .dataframe thead th {\n",
       "        text-align: right;\n",
       "    }\n",
       "</style>\n",
       "<table border=\"1\" class=\"dataframe\">\n",
       "  <thead>\n",
       "    <tr style=\"text-align: right;\">\n",
       "      <th></th>\n",
       "      <th>district</th>\n",
       "      <th>price</th>\n",
       "      <th>price_per_m2</th>\n",
       "      <th>floor</th>\n",
       "      <th>floor_number</th>\n",
       "      <th>prod_year</th>\n",
       "      <th>market</th>\n",
       "      <th>building_type</th>\n",
       "      <th>finish_condition</th>\n",
       "      <th>flat_surface_m2</th>\n",
       "      <th>room_number</th>\n",
       "    </tr>\n",
       "  </thead>\n",
       "  <tbody>\n",
       "    <tr>\n",
       "      <td>2</td>\n",
       "      <td>Stare Miasto</td>\n",
       "      <td>459000.0</td>\n",
       "      <td>9592.0</td>\n",
       "      <td>4.0</td>\n",
       "      <td>7.0</td>\n",
       "      <td>2022.0</td>\n",
       "      <td>pierwotny</td>\n",
       "      <td>apartamentowiec</td>\n",
       "      <td>do wykończenia</td>\n",
       "      <td>47.85</td>\n",
       "      <td>2</td>\n",
       "    </tr>\n",
       "    <tr>\n",
       "      <td>3</td>\n",
       "      <td>Stare Miasto</td>\n",
       "      <td>7500000.0</td>\n",
       "      <td>35361.0</td>\n",
       "      <td>8.0</td>\n",
       "      <td>9.0</td>\n",
       "      <td>2016.0</td>\n",
       "      <td>pierwotny</td>\n",
       "      <td>apartamentowiec</td>\n",
       "      <td>do zamieszkania</td>\n",
       "      <td>212.10</td>\n",
       "      <td>4</td>\n",
       "    </tr>\n",
       "    <tr>\n",
       "      <td>5</td>\n",
       "      <td>Krzyki</td>\n",
       "      <td>5245000.0</td>\n",
       "      <td>23106.0</td>\n",
       "      <td>20.0</td>\n",
       "      <td>48.0</td>\n",
       "      <td>2012.0</td>\n",
       "      <td>pierwotny</td>\n",
       "      <td>apartamentowiec</td>\n",
       "      <td>do wykończenia</td>\n",
       "      <td>227.00</td>\n",
       "      <td>5</td>\n",
       "    </tr>\n",
       "    <tr>\n",
       "      <td>6</td>\n",
       "      <td>Krzyki</td>\n",
       "      <td>4800000.0</td>\n",
       "      <td>27195.0</td>\n",
       "      <td>20.0</td>\n",
       "      <td>48.0</td>\n",
       "      <td>2012.0</td>\n",
       "      <td>pierwotny</td>\n",
       "      <td>apartamentowiec</td>\n",
       "      <td>do wykończenia</td>\n",
       "      <td>176.50</td>\n",
       "      <td>4</td>\n",
       "    </tr>\n",
       "    <tr>\n",
       "      <td>9</td>\n",
       "      <td>Stare Miasto</td>\n",
       "      <td>3582800.0</td>\n",
       "      <td>20000.0</td>\n",
       "      <td>9.0</td>\n",
       "      <td>10.0</td>\n",
       "      <td>2021.0</td>\n",
       "      <td>pierwotny</td>\n",
       "      <td>apartamentowiec</td>\n",
       "      <td>do wykończenia</td>\n",
       "      <td>179.14</td>\n",
       "      <td>6</td>\n",
       "    </tr>\n",
       "    <tr>\n",
       "      <td>...</td>\n",
       "      <td>...</td>\n",
       "      <td>...</td>\n",
       "      <td>...</td>\n",
       "      <td>...</td>\n",
       "      <td>...</td>\n",
       "      <td>...</td>\n",
       "      <td>...</td>\n",
       "      <td>...</td>\n",
       "      <td>...</td>\n",
       "      <td>...</td>\n",
       "      <td>...</td>\n",
       "    </tr>\n",
       "    <tr>\n",
       "      <td>15030</td>\n",
       "      <td>Fabryczna</td>\n",
       "      <td>362313.0</td>\n",
       "      <td>7100.0</td>\n",
       "      <td>1.0</td>\n",
       "      <td>4.0</td>\n",
       "      <td>2020.0</td>\n",
       "      <td>pierwotny</td>\n",
       "      <td>NaN</td>\n",
       "      <td>do wykończenia</td>\n",
       "      <td>51.03</td>\n",
       "      <td>2</td>\n",
       "    </tr>\n",
       "    <tr>\n",
       "      <td>15031</td>\n",
       "      <td>Krzyki</td>\n",
       "      <td>362063.0</td>\n",
       "      <td>7575.0</td>\n",
       "      <td>5.0</td>\n",
       "      <td>NaN</td>\n",
       "      <td>2021.0</td>\n",
       "      <td>pierwotny</td>\n",
       "      <td>apartamentowiec</td>\n",
       "      <td>NaN</td>\n",
       "      <td>47.80</td>\n",
       "      <td>3</td>\n",
       "    </tr>\n",
       "    <tr>\n",
       "      <td>15032</td>\n",
       "      <td>Fabryczna</td>\n",
       "      <td>362000.0</td>\n",
       "      <td>7094.0</td>\n",
       "      <td>1.0</td>\n",
       "      <td>4.0</td>\n",
       "      <td>NaN</td>\n",
       "      <td>pierwotny</td>\n",
       "      <td>blok</td>\n",
       "      <td>NaN</td>\n",
       "      <td>51.03</td>\n",
       "      <td>2</td>\n",
       "    </tr>\n",
       "    <tr>\n",
       "      <td>15034</td>\n",
       "      <td>Fabryczna</td>\n",
       "      <td>361900.0</td>\n",
       "      <td>6933.0</td>\n",
       "      <td>0.0</td>\n",
       "      <td>2.0</td>\n",
       "      <td>2021.0</td>\n",
       "      <td>pierwotny</td>\n",
       "      <td>apartamentowiec</td>\n",
       "      <td>do wykończenia</td>\n",
       "      <td>52.20</td>\n",
       "      <td>3</td>\n",
       "    </tr>\n",
       "    <tr>\n",
       "      <td>15035</td>\n",
       "      <td>Fabryczna</td>\n",
       "      <td>360000.0</td>\n",
       "      <td>9424.0</td>\n",
       "      <td>1.0</td>\n",
       "      <td>4.0</td>\n",
       "      <td>2021.0</td>\n",
       "      <td>pierwotny</td>\n",
       "      <td>NaN</td>\n",
       "      <td>NaN</td>\n",
       "      <td>38.20</td>\n",
       "      <td>2</td>\n",
       "    </tr>\n",
       "  </tbody>\n",
       "</table>\n",
       "<p>9358 rows × 11 columns</p>\n",
       "</div>"
      ],
      "text/plain": [
       "           district      price  price_per_m2  floor  floor_number  prod_year  \\\n",
       "2      Stare Miasto   459000.0        9592.0    4.0           7.0     2022.0   \n",
       "3      Stare Miasto  7500000.0       35361.0    8.0           9.0     2016.0   \n",
       "5            Krzyki  5245000.0       23106.0   20.0          48.0     2012.0   \n",
       "6            Krzyki  4800000.0       27195.0   20.0          48.0     2012.0   \n",
       "9      Stare Miasto  3582800.0       20000.0    9.0          10.0     2021.0   \n",
       "...             ...        ...           ...    ...           ...        ...   \n",
       "15030     Fabryczna   362313.0        7100.0    1.0           4.0     2020.0   \n",
       "15031        Krzyki   362063.0        7575.0    5.0           NaN     2021.0   \n",
       "15032     Fabryczna   362000.0        7094.0    1.0           4.0        NaN   \n",
       "15034     Fabryczna   361900.0        6933.0    0.0           2.0     2021.0   \n",
       "15035     Fabryczna   360000.0        9424.0    1.0           4.0     2021.0   \n",
       "\n",
       "          market    building_type finish_condition  flat_surface_m2  \\\n",
       "2      pierwotny  apartamentowiec   do wykończenia            47.85   \n",
       "3      pierwotny  apartamentowiec  do zamieszkania           212.10   \n",
       "5      pierwotny  apartamentowiec   do wykończenia           227.00   \n",
       "6      pierwotny  apartamentowiec   do wykończenia           176.50   \n",
       "9      pierwotny  apartamentowiec   do wykończenia           179.14   \n",
       "...          ...              ...              ...              ...   \n",
       "15030  pierwotny              NaN   do wykończenia            51.03   \n",
       "15031  pierwotny  apartamentowiec              NaN            47.80   \n",
       "15032  pierwotny             blok              NaN            51.03   \n",
       "15034  pierwotny  apartamentowiec   do wykończenia            52.20   \n",
       "15035  pierwotny              NaN              NaN            38.20   \n",
       "\n",
       "       room_number  \n",
       "2                2  \n",
       "3                4  \n",
       "5                5  \n",
       "6                4  \n",
       "9                6  \n",
       "...            ...  \n",
       "15030            2  \n",
       "15031            3  \n",
       "15032            2  \n",
       "15034            3  \n",
       "15035            2  \n",
       "\n",
       "[9358 rows x 11 columns]"
      ]
     },
     "execution_count": 45,
     "metadata": {},
     "output_type": "execute_result"
    }
   ],
   "source": [
    "# df.loc[df['price'].isna()]\n",
    "df"
   ]
  },
  {
   "cell_type": "code",
   "execution_count": null,
   "metadata": {
    "scrolled": true
   },
   "outputs": [],
   "source": [
    "pd.set_option('display.max_colwidth', -1)\n",
    "df[df['district'].isna()]"
   ]
  },
  {
   "cell_type": "code",
   "execution_count": null,
   "metadata": {},
   "outputs": [],
   "source": [
    "df1 = df.dropna(thresh=9)\n",
    "(df1[df['district'].isna()])"
   ]
  },
  {
   "cell_type": "markdown",
   "metadata": {},
   "source": [
    "#### Id"
   ]
  },
  {
   "cell_type": "code",
   "execution_count": 6,
   "metadata": {},
   "outputs": [],
   "source": [
    "df['id'] = df['id'].apply(lambda x: x.split('_')[1])"
   ]
  },
  {
   "cell_type": "markdown",
   "metadata": {},
   "source": [
    "#### district"
   ]
  },
  {
   "cell_type": "code",
   "execution_count": 7,
   "metadata": {},
   "outputs": [],
   "source": [
    "df['district'] = df['district'].apply(lambda x: np.NaN if x.split(',')[1].strip() == 'dolnośląskie' \n",
    "                                      else x.split(',')[1].strip().replace(\"Rynek\",\"Stare Miasto\").replace(\"Nadodrze\",\"Śródmieście\")) "
   ]
  },
  {
   "cell_type": "markdown",
   "metadata": {},
   "source": [
    "#### Price"
   ]
  },
  {
   "cell_type": "code",
   "execution_count": 8,
   "metadata": {
    "scrolled": true
   },
   "outputs": [],
   "source": [
    "df['price'] = df['price'].apply(lambda x: pd.to_numeric(x.split(' z')[0].strip().replace(' ', '').replace(',','.')) \n",
    "                                if x.lower() != 'zapytaj o cenę' else np.NaN)"
   ]
  },
  {
   "cell_type": "markdown",
   "metadata": {},
   "source": [
    "#### Price per m2"
   ]
  },
  {
   "cell_type": "code",
   "execution_count": 9,
   "metadata": {},
   "outputs": [],
   "source": [
    "df['price_per_m2'] = df['price_per_m2'].apply(lambda x: pd.to_numeric(x.split('z')[0].strip().replace(' ','')) \n",
    "                                              if pd.notna(x) else np.NaN)"
   ]
  },
  {
   "cell_type": "markdown",
   "metadata": {},
   "source": [
    "#### Floor"
   ]
  },
  {
   "cell_type": "code",
   "execution_count": 10,
   "metadata": {},
   "outputs": [],
   "source": [
    "df['floor'] = df['floor'].apply(lambda x: pd.to_numeric(x.split(':')[1].strip().replace('parter','0').replace('suterena','-1').replace('poddasze','3').replace('> 10','20')) \n",
    "                                if pd.notnull(x) or x == '> 10' else np.NaN)"
   ]
  },
  {
   "cell_type": "markdown",
   "metadata": {},
   "source": [
    "#### Floor number"
   ]
  },
  {
   "cell_type": "code",
   "execution_count": 11,
   "metadata": {},
   "outputs": [],
   "source": [
    "df['floor_number'] = df['floor_number'].apply(lambda x: pd.to_numeric(x.split(':')[1].strip()) if pd.notnull(x) else np.NaN)"
   ]
  },
  {
   "cell_type": "markdown",
   "metadata": {},
   "source": [
    "#### Production Year"
   ]
  },
  {
   "cell_type": "code",
   "execution_count": 12,
   "metadata": {},
   "outputs": [],
   "source": [
    "df['prod_year'] = df['prod_year'].apply(lambda x: pd.to_numeric(x.split(':')[1].strip()) if pd.notnull(x) else np.NaN)"
   ]
  },
  {
   "cell_type": "markdown",
   "metadata": {},
   "source": [
    "#### Rent"
   ]
  },
  {
   "cell_type": "code",
   "execution_count": 13,
   "metadata": {},
   "outputs": [],
   "source": [
    "df['rent'] = df['rent'].apply(lambda x: int(x.split(':')[1].split('z')[0].replace(' ','').replace(',','').strip()) \n",
    "                              if pd.notnull(x) else np.NaN)"
   ]
  },
  {
   "cell_type": "markdown",
   "metadata": {},
   "source": [
    "#### Market"
   ]
  },
  {
   "cell_type": "code",
   "execution_count": 14,
   "metadata": {},
   "outputs": [],
   "source": [
    "df['market'] = df['market'].apply(lambda x: x.split(':')[1].strip() if pd.notnull(x) else np.NaN)"
   ]
  },
  {
   "cell_type": "markdown",
   "metadata": {},
   "source": [
    "#### Building Type"
   ]
  },
  {
   "cell_type": "code",
   "execution_count": 15,
   "metadata": {},
   "outputs": [],
   "source": [
    "df['building_type'] = df['building_type'].apply(lambda x: x.split(':')[1].strip() if pd.notnull(x) else np.NaN)"
   ]
  },
  {
   "cell_type": "markdown",
   "metadata": {},
   "source": [
    "#### Finish Condition"
   ]
  },
  {
   "cell_type": "code",
   "execution_count": 16,
   "metadata": {},
   "outputs": [],
   "source": [
    "df['finish_condition'] = df['finish_condition'].apply(lambda x: x.split(':')[1].strip() if pd.notnull(x) else np.NaN)"
   ]
  },
  {
   "cell_type": "markdown",
   "metadata": {},
   "source": [
    "#### Flat Surface m2"
   ]
  },
  {
   "cell_type": "code",
   "execution_count": 17,
   "metadata": {},
   "outputs": [],
   "source": [
    "df['flat_surface_m2'] = df['flat_surface_m2'].apply(lambda x: pd.to_numeric(x.split('m')[0].replace(',','.').strip()) \n",
    "                                                    if pd.notnull(x) else np.NaN)"
   ]
  },
  {
   "cell_type": "markdown",
   "metadata": {},
   "source": [
    "#### Room Number"
   ]
  },
  {
   "cell_type": "code",
   "execution_count": 18,
   "metadata": {},
   "outputs": [],
   "source": [
    "df['room_number'] = df['room_number'].apply(lambda x: pd.to_numeric(x.split(' ')[0].strip().replace('>10','3')) if pd.notnull(x)  else np.NaN)"
   ]
  },
  {
   "cell_type": "code",
   "execution_count": null,
   "metadata": {},
   "outputs": [],
   "source": [
    "df = df.drop(axis=1,labels=['finish_condition','rent'])\n",
    "# filtered_df = df[df[['rent', 'finish_condition', 'building_type', \n",
    "#                      'prod_year','floor_number','district','floor','price','price_per_m2']].notnull().all(1)]\n",
    "df2 = df[df[['prod_year','floor_number','building_type','district','floor','price','price_per_m2']].notnull().all(1)]\n",
    "len(df2)"
   ]
  },
  {
   "cell_type": "code",
   "execution_count": null,
   "metadata": {},
   "outputs": [],
   "source": [
    "def rmissingvaluecol(dff,threshold):\n",
    "    l = []\n",
    "    l = list(dff.drop(dff.loc[:,list((100*(dff.isnull().sum()/len(dff.index))>=threshold))].columns, 1).columns.values)\n",
    "    print(\"# Columns having more than %s percent missing values:\"%threshold,(dff.shape[1] - len(l)))\n",
    "    print(\"Columns:\\n\",list(set(list((dff.columns.values))) - set(l)))\n",
    "    return l\n",
    "\n",
    "\n",
    "rmissingvaluecol(df,50)"
   ]
  },
  {
   "cell_type": "code",
   "execution_count": null,
   "metadata": {},
   "outputs": [],
   "source": []
  },
  {
   "cell_type": "code",
   "execution_count": null,
   "metadata": {},
   "outputs": [],
   "source": []
  },
  {
   "cell_type": "code",
   "execution_count": null,
   "metadata": {},
   "outputs": [],
   "source": [
    "pd.set_option('display.max_rows', df.shape[0]+1)"
   ]
  },
  {
   "cell_type": "code",
   "execution_count": null,
   "metadata": {},
   "outputs": [],
   "source": [
    "len(df[df.isna().any(axis=1)])"
   ]
  },
  {
   "cell_type": "code",
   "execution_count": null,
   "metadata": {},
   "outputs": [],
   "source": [
    "len(df2[df2.isna().any(axis=1)])"
   ]
  },
  {
   "cell_type": "code",
   "execution_count": null,
   "metadata": {},
   "outputs": [],
   "source": [
    "print(df2.isna().sum())"
   ]
  },
  {
   "cell_type": "code",
   "execution_count": 24,
   "metadata": {},
   "outputs": [],
   "source": [
    "df = df.drop(columns=['rent','id'])"
   ]
  },
  {
   "cell_type": "code",
   "execution_count": null,
   "metadata": {},
   "outputs": [],
   "source": [
    "df = df.dropna()"
   ]
  },
  {
   "cell_type": "code",
   "execution_count": null,
   "metadata": {},
   "outputs": [],
   "source": [
    "df2 = df2.dropna()"
   ]
  },
  {
   "cell_type": "code",
   "execution_count": null,
   "metadata": {},
   "outputs": [],
   "source": [
    "len(df2.floor)"
   ]
  }
 ],
 "metadata": {
  "kernelspec": {
   "display_name": "Python 3",
   "language": "python",
   "name": "python3"
  },
  "language_info": {
   "codemirror_mode": {
    "name": "ipython",
    "version": 3
   },
   "file_extension": ".py",
   "mimetype": "text/x-python",
   "name": "python",
   "nbconvert_exporter": "python",
   "pygments_lexer": "ipython3",
   "version": "3.7.4"
  }
 },
 "nbformat": 4,
 "nbformat_minor": 2
}
