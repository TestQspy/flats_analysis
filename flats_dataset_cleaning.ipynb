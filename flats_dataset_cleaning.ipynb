{
 "cells": [
  {
   "cell_type": "code",
   "execution_count": 1,
   "metadata": {},
   "outputs": [],
   "source": [
    "import pandas as pd\n",
    "import numpy as np"
   ]
  },
  {
   "cell_type": "code",
   "execution_count": 2,
   "metadata": {
    "scrolled": true
   },
   "outputs": [],
   "source": [
    "df = pd.read_csv(\"data_set_utf8.csv\")"
   ]
  },
  {
   "cell_type": "code",
   "execution_count": 3,
   "metadata": {},
   "outputs": [
    {
     "data": {
      "text/plain": [
       "id                  object\n",
       "district            object\n",
       "price               object\n",
       "price_per_m2        object\n",
       "floor               object\n",
       "floor_number        object\n",
       "prod_year           object\n",
       "rent                object\n",
       "market              object\n",
       "building_type       object\n",
       "finish_condition    object\n",
       "flat_surface_m2     object\n",
       "room_number         object\n",
       "dtype: object"
      ]
     },
     "execution_count": 3,
     "metadata": {},
     "output_type": "execute_result"
    }
   ],
   "source": [
    "df.dtypes"
   ]
  },
  {
   "cell_type": "code",
   "execution_count": 4,
   "metadata": {},
   "outputs": [
    {
     "data": {
      "text/plain": [
       "(15036, 13)"
      ]
     },
     "execution_count": 4,
     "metadata": {},
     "output_type": "execute_result"
    }
   ],
   "source": [
    "df.shape"
   ]
  },
  {
   "cell_type": "code",
   "execution_count": 5,
   "metadata": {},
   "outputs": [
    {
     "name": "stdout",
     "output_type": "stream",
     "text": [
      "rent                9717\n",
      "finish_condition    8553\n",
      "building_type       5237\n",
      "prod_year           2508\n",
      "floor_number        2454\n",
      "floor                376\n",
      "price_per_m2         296\n",
      "room_number            0\n",
      "flat_surface_m2        0\n",
      "market                 0\n",
      "price                  0\n",
      "district               0\n",
      "id                     0\n",
      "dtype: int64\n"
     ]
    }
   ],
   "source": [
    "print(df.isna().sum().sort_values(ascending=False))\n",
    "# print(df.isna().sum())"
   ]
  },
  {
   "cell_type": "code",
   "execution_count": 6,
   "metadata": {},
   "outputs": [],
   "source": [
    "def missing(dff):\n",
    "    print (round((dff.isnull().sum() * 100/ len(dff)),2).sort_values(ascending=False))"
   ]
  },
  {
   "cell_type": "code",
   "execution_count": 7,
   "metadata": {
    "scrolled": true
   },
   "outputs": [
    {
     "data": {
      "text/html": [
       "<div>\n",
       "<style scoped>\n",
       "    .dataframe tbody tr th:only-of-type {\n",
       "        vertical-align: middle;\n",
       "    }\n",
       "\n",
       "    .dataframe tbody tr th {\n",
       "        vertical-align: top;\n",
       "    }\n",
       "\n",
       "    .dataframe thead th {\n",
       "        text-align: right;\n",
       "    }\n",
       "</style>\n",
       "<table border=\"1\" class=\"dataframe\">\n",
       "  <thead>\n",
       "    <tr style=\"text-align: right;\">\n",
       "      <th></th>\n",
       "      <th>id</th>\n",
       "      <th>district</th>\n",
       "      <th>price</th>\n",
       "      <th>price_per_m2</th>\n",
       "      <th>floor</th>\n",
       "      <th>floor_number</th>\n",
       "      <th>prod_year</th>\n",
       "      <th>rent</th>\n",
       "      <th>market</th>\n",
       "      <th>building_type</th>\n",
       "      <th>finish_condition</th>\n",
       "      <th>flat_surface_m2</th>\n",
       "      <th>room_number</th>\n",
       "    </tr>\n",
       "  </thead>\n",
       "  <tbody>\n",
       "    <tr>\n",
       "      <td>0</td>\n",
       "      <td>offer-item-ad_id48H25</td>\n",
       "      <td>Mieszkanie na sprzedaż: Wrocław, Krzyki</td>\n",
       "      <td>590 000 zł</td>\n",
       "      <td>8 309 zł/m²</td>\n",
       "      <td>Piętro: 3</td>\n",
       "      <td>Liczba pięter: 3</td>\n",
       "      <td>Rok budowy: 1930</td>\n",
       "      <td>NaN</td>\n",
       "      <td>Rynek: wtórny</td>\n",
       "      <td>Rodzaj zabudowy: kamienica</td>\n",
       "      <td>NaN</td>\n",
       "      <td>71,01 m²</td>\n",
       "      <td>6 pokoi</td>\n",
       "    </tr>\n",
       "    <tr>\n",
       "      <td>1</td>\n",
       "      <td>offer-item-ad_id48IAh</td>\n",
       "      <td>Mieszkanie na sprzedaż: Wrocław, Krzyki</td>\n",
       "      <td>585 000 zł</td>\n",
       "      <td>9 286 zł/m²</td>\n",
       "      <td>Piętro: 3</td>\n",
       "      <td>Liczba pięter: 3</td>\n",
       "      <td>Rok budowy: 2008</td>\n",
       "      <td>Czynsz: 375 zł</td>\n",
       "      <td>Rynek: wtórny</td>\n",
       "      <td>Rodzaj zabudowy: apartamentowiec</td>\n",
       "      <td>Stan wykończenia: do zamieszkania</td>\n",
       "      <td>63 m²</td>\n",
       "      <td>2 pokoje</td>\n",
       "    </tr>\n",
       "    <tr>\n",
       "      <td>2</td>\n",
       "      <td>offer-item-ad_id48Ihn</td>\n",
       "      <td>Mieszkanie na sprzedaż: Wrocław, Stare Miasto</td>\n",
       "      <td>459 000 zł</td>\n",
       "      <td>9 592 zł/m²</td>\n",
       "      <td>Piętro: 4</td>\n",
       "      <td>Liczba pięter: 7</td>\n",
       "      <td>Rok budowy: 2022</td>\n",
       "      <td>Czynsz: 420 zł</td>\n",
       "      <td>Rynek: pierwotny</td>\n",
       "      <td>Rodzaj zabudowy: apartamentowiec</td>\n",
       "      <td>Stan wykończenia: do wykończenia</td>\n",
       "      <td>47,85 m²</td>\n",
       "      <td>2 pokoje</td>\n",
       "    </tr>\n",
       "    <tr>\n",
       "      <td>3</td>\n",
       "      <td>offer-item-ad_id47fLE</td>\n",
       "      <td>Mieszkanie na sprzedaż: Wrocław, Stare Miasto</td>\n",
       "      <td>7 500 000 zł</td>\n",
       "      <td>35 361 zł/m²</td>\n",
       "      <td>Piętro: 8</td>\n",
       "      <td>Liczba pięter: 9</td>\n",
       "      <td>Rok budowy: 2016</td>\n",
       "      <td>NaN</td>\n",
       "      <td>Rynek: pierwotny</td>\n",
       "      <td>Rodzaj zabudowy: apartamentowiec</td>\n",
       "      <td>Stan wykończenia: do zamieszkania</td>\n",
       "      <td>212,10 m²</td>\n",
       "      <td>4 pokoje</td>\n",
       "    </tr>\n",
       "    <tr>\n",
       "      <td>4</td>\n",
       "      <td>offer-item-ad_id45AYc</td>\n",
       "      <td>Mieszkanie na sprzedaż: Wrocław, Stare Miasto</td>\n",
       "      <td>7 000 000 zł</td>\n",
       "      <td>32 590 zł/m²</td>\n",
       "      <td>Piętro: 6</td>\n",
       "      <td>Liczba pięter: 6</td>\n",
       "      <td>Rok budowy: 2016</td>\n",
       "      <td>NaN</td>\n",
       "      <td>Rynek: wtórny</td>\n",
       "      <td>Rodzaj zabudowy: apartamentowiec</td>\n",
       "      <td>Stan wykończenia: do zamieszkania</td>\n",
       "      <td>214,79 m²</td>\n",
       "      <td>4 pokoje</td>\n",
       "    </tr>\n",
       "    <tr>\n",
       "      <td>5</td>\n",
       "      <td>offer-item-ad_id44eWl</td>\n",
       "      <td>Mieszkanie na sprzedaż: Wrocław, Krzyki</td>\n",
       "      <td>5 245 000 zł</td>\n",
       "      <td>23 106 zł/m²</td>\n",
       "      <td>Piętro: &gt; 10</td>\n",
       "      <td>Liczba pięter: 48</td>\n",
       "      <td>Rok budowy: 2012</td>\n",
       "      <td>Czynsz: 2 800 zł</td>\n",
       "      <td>Rynek: pierwotny</td>\n",
       "      <td>Rodzaj zabudowy: apartamentowiec</td>\n",
       "      <td>Stan wykończenia: do wykończenia</td>\n",
       "      <td>227 m²</td>\n",
       "      <td>5 pokoi</td>\n",
       "    </tr>\n",
       "    <tr>\n",
       "      <td>6</td>\n",
       "      <td>offer-item-ad_id44gg6</td>\n",
       "      <td>Mieszkanie na sprzedaż: Wrocław, Krzyki</td>\n",
       "      <td>4 800 000 zł</td>\n",
       "      <td>27 195 zł/m²</td>\n",
       "      <td>Piętro: &gt; 10</td>\n",
       "      <td>Liczba pięter: 48</td>\n",
       "      <td>Rok budowy: 2012</td>\n",
       "      <td>Czynsz: 2 000 zł</td>\n",
       "      <td>Rynek: pierwotny</td>\n",
       "      <td>Rodzaj zabudowy: apartamentowiec</td>\n",
       "      <td>Stan wykończenia: do wykończenia</td>\n",
       "      <td>176,50 m²</td>\n",
       "      <td>4 pokoje</td>\n",
       "    </tr>\n",
       "    <tr>\n",
       "      <td>7</td>\n",
       "      <td>offer-item-ad_id48Le4</td>\n",
       "      <td>Mieszkanie na sprzedaż: Wrocław, Krzyki, Południe</td>\n",
       "      <td>4 600 000 zł</td>\n",
       "      <td>34 074 zł/m²</td>\n",
       "      <td>Piętro: &gt; 10</td>\n",
       "      <td>Liczba pięter: 51</td>\n",
       "      <td>Rok budowy: 2012</td>\n",
       "      <td>NaN</td>\n",
       "      <td>Rynek: wtórny</td>\n",
       "      <td>Rodzaj zabudowy: apartamentowiec</td>\n",
       "      <td>Stan wykończenia: do zamieszkania</td>\n",
       "      <td>135 m²</td>\n",
       "      <td>3 pokoje</td>\n",
       "    </tr>\n",
       "    <tr>\n",
       "      <td>8</td>\n",
       "      <td>offer-item-ad_id48jKt</td>\n",
       "      <td>Mieszkanie na sprzedaż: Wrocław, Stare Miasto</td>\n",
       "      <td>4 000 000 zł</td>\n",
       "      <td>29 851 zł/m²</td>\n",
       "      <td>Piętro: 1</td>\n",
       "      <td>Liczba pięter: 3</td>\n",
       "      <td>Rok budowy: 2013</td>\n",
       "      <td>NaN</td>\n",
       "      <td>Rynek: wtórny</td>\n",
       "      <td>Rodzaj zabudowy: apartamentowiec</td>\n",
       "      <td>NaN</td>\n",
       "      <td>134 m²</td>\n",
       "      <td>3 pokoje</td>\n",
       "    </tr>\n",
       "    <tr>\n",
       "      <td>9</td>\n",
       "      <td>offer-item-ad_id450d0</td>\n",
       "      <td>Mieszkanie na sprzedaż: Wrocław, Stare Miasto</td>\n",
       "      <td>3 582 800 zł</td>\n",
       "      <td>20 000 zł/m²</td>\n",
       "      <td>Piętro: 9</td>\n",
       "      <td>Liczba pięter: 10</td>\n",
       "      <td>Rok budowy: 2021</td>\n",
       "      <td>Czynsz: 2 200 zł</td>\n",
       "      <td>Rynek: pierwotny</td>\n",
       "      <td>Rodzaj zabudowy: apartamentowiec</td>\n",
       "      <td>Stan wykończenia: do wykończenia</td>\n",
       "      <td>179,14 m²</td>\n",
       "      <td>6 pokoi</td>\n",
       "    </tr>\n",
       "    <tr>\n",
       "      <td>10</td>\n",
       "      <td>offer-item-ad_id45fE0</td>\n",
       "      <td>Mieszkanie na sprzedaż: Wrocław, Stare Miasto</td>\n",
       "      <td>3 579 400 zł</td>\n",
       "      <td>19 889 zł/m²</td>\n",
       "      <td>Piętro: 9</td>\n",
       "      <td>Liczba pięter: 11</td>\n",
       "      <td>Rok budowy: 2021</td>\n",
       "      <td>Czynsz: 1 200 zł</td>\n",
       "      <td>Rynek: pierwotny</td>\n",
       "      <td>Rodzaj zabudowy: apartamentowiec</td>\n",
       "      <td>Stan wykończenia: do wykończenia</td>\n",
       "      <td>179,97 m²</td>\n",
       "      <td>6 pokoi</td>\n",
       "    </tr>\n",
       "    <tr>\n",
       "      <td>11</td>\n",
       "      <td>offer-item-ad_id48F8M</td>\n",
       "      <td>Mieszkanie na sprzedaż: Wrocław, Krzyki, Borek</td>\n",
       "      <td>3 500 000 zł</td>\n",
       "      <td>13 901 zł/m²</td>\n",
       "      <td>Piętro: parter</td>\n",
       "      <td>Liczba pięter: 2</td>\n",
       "      <td>Rok budowy: 2020</td>\n",
       "      <td>NaN</td>\n",
       "      <td>Rynek: pierwotny</td>\n",
       "      <td>Rodzaj zabudowy: apartamentowiec</td>\n",
       "      <td>Stan wykończenia: do wykończenia</td>\n",
       "      <td>251,78 m²</td>\n",
       "      <td>5 pokoi</td>\n",
       "    </tr>\n",
       "    <tr>\n",
       "      <td>12</td>\n",
       "      <td>offer-item-ad_id40lxC</td>\n",
       "      <td>Mieszkanie na sprzedaż: Wrocław, Stare Miasto</td>\n",
       "      <td>3 500 000 zł</td>\n",
       "      <td>29 476 zł/m²</td>\n",
       "      <td>Piętro: 6</td>\n",
       "      <td>Liczba pięter: 6</td>\n",
       "      <td>Rok budowy: 2016</td>\n",
       "      <td>Czynsz: 1 200 zł</td>\n",
       "      <td>Rynek: wtórny</td>\n",
       "      <td>Rodzaj zabudowy: apartamentowiec</td>\n",
       "      <td>NaN</td>\n",
       "      <td>118,74 m²</td>\n",
       "      <td>4 pokoje</td>\n",
       "    </tr>\n",
       "    <tr>\n",
       "      <td>13</td>\n",
       "      <td>offer-item-ad_id44gjc</td>\n",
       "      <td>Mieszkanie na sprzedaż: Wrocław, Krzyki</td>\n",
       "      <td>3 474 555 zł</td>\n",
       "      <td>18 904 zł/m²</td>\n",
       "      <td>Piętro: &gt; 10</td>\n",
       "      <td>Liczba pięter: 51</td>\n",
       "      <td>Rok budowy: 2012</td>\n",
       "      <td>Czynsz: 2 300 zł</td>\n",
       "      <td>Rynek: pierwotny</td>\n",
       "      <td>Rodzaj zabudowy: apartamentowiec</td>\n",
       "      <td>Stan wykończenia: do wykończenia</td>\n",
       "      <td>183,80 m²</td>\n",
       "      <td>5 pokoi</td>\n",
       "    </tr>\n",
       "    <tr>\n",
       "      <td>14</td>\n",
       "      <td>offer-item-ad_id45aHt</td>\n",
       "      <td>Mieszkanie na sprzedaż: Wrocław, Stare Miasto</td>\n",
       "      <td>3 470 000 zł</td>\n",
       "      <td>19 350 zł/m²</td>\n",
       "      <td>Piętro: 8</td>\n",
       "      <td>Liczba pięter: 10</td>\n",
       "      <td>Rok budowy: 2021</td>\n",
       "      <td>Czynsz: 7 zł</td>\n",
       "      <td>Rynek: pierwotny</td>\n",
       "      <td>Rodzaj zabudowy: apartamentowiec</td>\n",
       "      <td>Stan wykończenia: do wykończenia</td>\n",
       "      <td>179,33 m²</td>\n",
       "      <td>6 pokoi</td>\n",
       "    </tr>\n",
       "    <tr>\n",
       "      <td>15</td>\n",
       "      <td>offer-item-ad_id48GNG</td>\n",
       "      <td>Mieszkanie na sprzedaż: Wrocław, Śródmieście</td>\n",
       "      <td>3 407 270 zł</td>\n",
       "      <td>19 000 zł/m²</td>\n",
       "      <td>Piętro: 8</td>\n",
       "      <td>Liczba pięter: 9</td>\n",
       "      <td>NaN</td>\n",
       "      <td>NaN</td>\n",
       "      <td>Rynek: pierwotny</td>\n",
       "      <td>Rodzaj zabudowy: blok</td>\n",
       "      <td>Stan wykończenia: do wykończenia</td>\n",
       "      <td>179,33 m²</td>\n",
       "      <td>6 pokoi</td>\n",
       "    </tr>\n",
       "    <tr>\n",
       "      <td>16</td>\n",
       "      <td>offer-item-ad_id48DDm</td>\n",
       "      <td>Mieszkanie na sprzedaż: Wrocław, Stare Miasto</td>\n",
       "      <td>3 407 270 zł</td>\n",
       "      <td>18 982 zł/m²</td>\n",
       "      <td>Piętro: 9</td>\n",
       "      <td>Liczba pięter: 10</td>\n",
       "      <td>Rok budowy: 2020</td>\n",
       "      <td>NaN</td>\n",
       "      <td>Rynek: pierwotny</td>\n",
       "      <td>Rodzaj zabudowy: apartamentowiec</td>\n",
       "      <td>NaN</td>\n",
       "      <td>179,50 m²</td>\n",
       "      <td>6 pokoi</td>\n",
       "    </tr>\n",
       "    <tr>\n",
       "      <td>17</td>\n",
       "      <td>offer-item-ad_id48S5e</td>\n",
       "      <td>Mieszkanie na sprzedaż: Wrocław, Śródmieście</td>\n",
       "      <td>3 407 270 zł</td>\n",
       "      <td>18 929 zł/m²</td>\n",
       "      <td>Piętro: 8</td>\n",
       "      <td>Liczba pięter: 10</td>\n",
       "      <td>NaN</td>\n",
       "      <td>NaN</td>\n",
       "      <td>Rynek: pierwotny</td>\n",
       "      <td>NaN</td>\n",
       "      <td>NaN</td>\n",
       "      <td>180 m²</td>\n",
       "      <td>6 pokoi</td>\n",
       "    </tr>\n",
       "    <tr>\n",
       "      <td>18</td>\n",
       "      <td>offer-item-ad_id482Vr</td>\n",
       "      <td>Mieszkanie na sprzedaż: Wrocław, Stare Miasto</td>\n",
       "      <td>3 400 000 zł</td>\n",
       "      <td>18 959 zł/m²</td>\n",
       "      <td>Piętro: 8</td>\n",
       "      <td>Liczba pięter: 10</td>\n",
       "      <td>Rok budowy: 2021</td>\n",
       "      <td>Czynsz: 1 800 zł</td>\n",
       "      <td>Rynek: pierwotny</td>\n",
       "      <td>Rodzaj zabudowy: apartamentowiec</td>\n",
       "      <td>Stan wykończenia: do wykończenia</td>\n",
       "      <td>179,33 m²</td>\n",
       "      <td>6 pokoi</td>\n",
       "    </tr>\n",
       "    <tr>\n",
       "      <td>19</td>\n",
       "      <td>offer-item-ad_id48ndA</td>\n",
       "      <td>Mieszkanie na sprzedaż: Wrocław, Śródmieście, ...</td>\n",
       "      <td>3 391 669 zł</td>\n",
       "      <td>11 090 zł/m²</td>\n",
       "      <td>Piętro: 6</td>\n",
       "      <td>Liczba pięter: 6</td>\n",
       "      <td>NaN</td>\n",
       "      <td>NaN</td>\n",
       "      <td>Rynek: pierwotny</td>\n",
       "      <td>Rodzaj zabudowy: apartamentowiec</td>\n",
       "      <td>NaN</td>\n",
       "      <td>305,82 m²</td>\n",
       "      <td>7 pokoi</td>\n",
       "    </tr>\n",
       "    <tr>\n",
       "      <td>20</td>\n",
       "      <td>offer-item-ad_id45YkZ</td>\n",
       "      <td>Mieszkanie na sprzedaż: Wrocław, Nadodrze</td>\n",
       "      <td>3 391 669 zł</td>\n",
       "      <td>11 283 zł/m²</td>\n",
       "      <td>Piętro: 6</td>\n",
       "      <td>Liczba pięter: 6</td>\n",
       "      <td>Rok budowy: 2015</td>\n",
       "      <td>NaN</td>\n",
       "      <td>Rynek: pierwotny</td>\n",
       "      <td>NaN</td>\n",
       "      <td>NaN</td>\n",
       "      <td>300,61 m²</td>\n",
       "      <td>3 pokoje</td>\n",
       "    </tr>\n",
       "    <tr>\n",
       "      <td>21</td>\n",
       "      <td>offer-item-ad_id44gl7</td>\n",
       "      <td>Mieszkanie na sprzedaż: Wrocław, Krzyki</td>\n",
       "      <td>3 383 816 zł</td>\n",
       "      <td>18 904 zł/m²</td>\n",
       "      <td>Piętro: &gt; 10</td>\n",
       "      <td>Liczba pięter: 51</td>\n",
       "      <td>Rok budowy: 2012</td>\n",
       "      <td>Czynsz: 2 200 zł</td>\n",
       "      <td>Rynek: pierwotny</td>\n",
       "      <td>Rodzaj zabudowy: apartamentowiec</td>\n",
       "      <td>Stan wykończenia: do wykończenia</td>\n",
       "      <td>179 m²</td>\n",
       "      <td>4 pokoje</td>\n",
       "    </tr>\n",
       "    <tr>\n",
       "      <td>22</td>\n",
       "      <td>offer-item-ad_id44eVA</td>\n",
       "      <td>Mieszkanie na sprzedaż: Wrocław, Krzyki</td>\n",
       "      <td>3 300 000 zł</td>\n",
       "      <td>23 109 zł/m²</td>\n",
       "      <td>Piętro: &gt; 10</td>\n",
       "      <td>Liczba pięter: 48</td>\n",
       "      <td>Rok budowy: 2012</td>\n",
       "      <td>Czynsz: 2 000 zł</td>\n",
       "      <td>Rynek: pierwotny</td>\n",
       "      <td>Rodzaj zabudowy: apartamentowiec</td>\n",
       "      <td>Stan wykończenia: do wykończenia</td>\n",
       "      <td>142,80 m²</td>\n",
       "      <td>3 pokoje</td>\n",
       "    </tr>\n",
       "    <tr>\n",
       "      <td>23</td>\n",
       "      <td>offer-item-ad_id488G4</td>\n",
       "      <td>Mieszkanie na sprzedaż: Wrocław, Stare Miasto</td>\n",
       "      <td>3 227 940 zł</td>\n",
       "      <td>18 000 zł/m²</td>\n",
       "      <td>Piętro: 9</td>\n",
       "      <td>Liczba pięter: 10</td>\n",
       "      <td>Rok budowy: 2021</td>\n",
       "      <td>Czynsz: 1 600 zł</td>\n",
       "      <td>Rynek: pierwotny</td>\n",
       "      <td>Rodzaj zabudowy: blok</td>\n",
       "      <td>Stan wykończenia: do wykończenia</td>\n",
       "      <td>179,33 m²</td>\n",
       "      <td>6 pokoi</td>\n",
       "    </tr>\n",
       "    <tr>\n",
       "      <td>24</td>\n",
       "      <td>offer-item-ad_id45HcN</td>\n",
       "      <td>Mieszkanie na sprzedaż: Wrocław, Stare Miasto</td>\n",
       "      <td>3 227 760 zł</td>\n",
       "      <td>18 000 zł/m²</td>\n",
       "      <td>Piętro: 7</td>\n",
       "      <td>Liczba pięter: 11</td>\n",
       "      <td>Rok budowy: 2021</td>\n",
       "      <td>Czynsz: 1 950 zł</td>\n",
       "      <td>Rynek: pierwotny</td>\n",
       "      <td>Rodzaj zabudowy: apartamentowiec</td>\n",
       "      <td>Stan wykończenia: do wykończenia</td>\n",
       "      <td>179,32 m²</td>\n",
       "      <td>6 pokoi</td>\n",
       "    </tr>\n",
       "    <tr>\n",
       "      <td>25</td>\n",
       "      <td>offer-item-ad_id45n6D</td>\n",
       "      <td>Mieszkanie na sprzedaż: Wrocław, Stare Miasto</td>\n",
       "      <td>3 227 760 zł</td>\n",
       "      <td>18 000 zł/m²</td>\n",
       "      <td>Piętro: 7</td>\n",
       "      <td>Liczba pięter: 11</td>\n",
       "      <td>Rok budowy: 2021</td>\n",
       "      <td>Czynsz: 1 200 zł</td>\n",
       "      <td>Rynek: pierwotny</td>\n",
       "      <td>Rodzaj zabudowy: apartamentowiec</td>\n",
       "      <td>Stan wykończenia: do wykończenia</td>\n",
       "      <td>179,32 m²</td>\n",
       "      <td>6 pokoi</td>\n",
       "    </tr>\n",
       "    <tr>\n",
       "      <td>26</td>\n",
       "      <td>offer-item-ad_id48S2X</td>\n",
       "      <td>Mieszkanie na sprzedaż: Wrocław, Nadodrze</td>\n",
       "      <td>3 168 000 zł</td>\n",
       "      <td>17 600 zł/m²</td>\n",
       "      <td>Piętro: 8</td>\n",
       "      <td>Liczba pięter: 10</td>\n",
       "      <td>Rok budowy: 2021</td>\n",
       "      <td>NaN</td>\n",
       "      <td>Rynek: pierwotny</td>\n",
       "      <td>Rodzaj zabudowy: apartamentowiec</td>\n",
       "      <td>NaN</td>\n",
       "      <td>180 m²</td>\n",
       "      <td>6 pokoi</td>\n",
       "    </tr>\n",
       "    <tr>\n",
       "      <td>27</td>\n",
       "      <td>offer-item-ad_id48BnC</td>\n",
       "      <td>Mieszkanie na sprzedaż: Wrocław, Psie Pole, Sw...</td>\n",
       "      <td>1 076 355 zł</td>\n",
       "      <td>11 725 zł/m²</td>\n",
       "      <td>Piętro: 1</td>\n",
       "      <td>Liczba pięter: 5</td>\n",
       "      <td>Rok budowy: 2022</td>\n",
       "      <td>Czynsz: 500 zł</td>\n",
       "      <td>Rynek: pierwotny</td>\n",
       "      <td>Rodzaj zabudowy: apartamentowiec</td>\n",
       "      <td>Stan wykończenia: do wykończenia</td>\n",
       "      <td>91,80 m²</td>\n",
       "      <td>4 pokoje</td>\n",
       "    </tr>\n",
       "    <tr>\n",
       "      <td>28</td>\n",
       "      <td>offer-item-ad_id48amt</td>\n",
       "      <td>Mieszkanie na sprzedaż: Wrocław, Fabryczna, Op...</td>\n",
       "      <td>720 000 zł</td>\n",
       "      <td>6 452 zł/m²</td>\n",
       "      <td>Piętro: 2</td>\n",
       "      <td>Liczba pięter: 2</td>\n",
       "      <td>Rok budowy: 2007</td>\n",
       "      <td>Czynsz: 850 zł</td>\n",
       "      <td>Rynek: wtórny</td>\n",
       "      <td>Rodzaj zabudowy: blok</td>\n",
       "      <td>Stan wykończenia: do zamieszkania</td>\n",
       "      <td>111,59 m²</td>\n",
       "      <td>6 pokoi</td>\n",
       "    </tr>\n",
       "    <tr>\n",
       "      <td>29</td>\n",
       "      <td>offer-item-ad_id47E0g</td>\n",
       "      <td>Mieszkanie na sprzedaż: Wrocław, Krzyki, Gaj</td>\n",
       "      <td>385 000 zł</td>\n",
       "      <td>7 971 zł/m²</td>\n",
       "      <td>Piętro: 2</td>\n",
       "      <td>Liczba pięter: 10</td>\n",
       "      <td>Rok budowy: 1990</td>\n",
       "      <td>NaN</td>\n",
       "      <td>Rynek: wtórny</td>\n",
       "      <td>Rodzaj zabudowy: blok</td>\n",
       "      <td>NaN</td>\n",
       "      <td>48,30 m²</td>\n",
       "      <td>2 pokoje</td>\n",
       "    </tr>\n",
       "  </tbody>\n",
       "</table>\n",
       "</div>"
      ],
      "text/plain": [
       "                       id                                           district  \\\n",
       "0   offer-item-ad_id48H25            Mieszkanie na sprzedaż: Wrocław, Krzyki   \n",
       "1   offer-item-ad_id48IAh            Mieszkanie na sprzedaż: Wrocław, Krzyki   \n",
       "2   offer-item-ad_id48Ihn      Mieszkanie na sprzedaż: Wrocław, Stare Miasto   \n",
       "3   offer-item-ad_id47fLE      Mieszkanie na sprzedaż: Wrocław, Stare Miasto   \n",
       "4   offer-item-ad_id45AYc      Mieszkanie na sprzedaż: Wrocław, Stare Miasto   \n",
       "5   offer-item-ad_id44eWl            Mieszkanie na sprzedaż: Wrocław, Krzyki   \n",
       "6   offer-item-ad_id44gg6            Mieszkanie na sprzedaż: Wrocław, Krzyki   \n",
       "7   offer-item-ad_id48Le4  Mieszkanie na sprzedaż: Wrocław, Krzyki, Południe   \n",
       "8   offer-item-ad_id48jKt      Mieszkanie na sprzedaż: Wrocław, Stare Miasto   \n",
       "9   offer-item-ad_id450d0      Mieszkanie na sprzedaż: Wrocław, Stare Miasto   \n",
       "10  offer-item-ad_id45fE0      Mieszkanie na sprzedaż: Wrocław, Stare Miasto   \n",
       "11  offer-item-ad_id48F8M     Mieszkanie na sprzedaż: Wrocław, Krzyki, Borek   \n",
       "12  offer-item-ad_id40lxC      Mieszkanie na sprzedaż: Wrocław, Stare Miasto   \n",
       "13  offer-item-ad_id44gjc            Mieszkanie na sprzedaż: Wrocław, Krzyki   \n",
       "14  offer-item-ad_id45aHt      Mieszkanie na sprzedaż: Wrocław, Stare Miasto   \n",
       "15  offer-item-ad_id48GNG       Mieszkanie na sprzedaż: Wrocław, Śródmieście   \n",
       "16  offer-item-ad_id48DDm      Mieszkanie na sprzedaż: Wrocław, Stare Miasto   \n",
       "17  offer-item-ad_id48S5e       Mieszkanie na sprzedaż: Wrocław, Śródmieście   \n",
       "18  offer-item-ad_id482Vr      Mieszkanie na sprzedaż: Wrocław, Stare Miasto   \n",
       "19  offer-item-ad_id48ndA  Mieszkanie na sprzedaż: Wrocław, Śródmieście, ...   \n",
       "20  offer-item-ad_id45YkZ          Mieszkanie na sprzedaż: Wrocław, Nadodrze   \n",
       "21  offer-item-ad_id44gl7            Mieszkanie na sprzedaż: Wrocław, Krzyki   \n",
       "22  offer-item-ad_id44eVA            Mieszkanie na sprzedaż: Wrocław, Krzyki   \n",
       "23  offer-item-ad_id488G4      Mieszkanie na sprzedaż: Wrocław, Stare Miasto   \n",
       "24  offer-item-ad_id45HcN      Mieszkanie na sprzedaż: Wrocław, Stare Miasto   \n",
       "25  offer-item-ad_id45n6D      Mieszkanie na sprzedaż: Wrocław, Stare Miasto   \n",
       "26  offer-item-ad_id48S2X          Mieszkanie na sprzedaż: Wrocław, Nadodrze   \n",
       "27  offer-item-ad_id48BnC  Mieszkanie na sprzedaż: Wrocław, Psie Pole, Sw...   \n",
       "28  offer-item-ad_id48amt  Mieszkanie na sprzedaż: Wrocław, Fabryczna, Op...   \n",
       "29  offer-item-ad_id47E0g       Mieszkanie na sprzedaż: Wrocław, Krzyki, Gaj   \n",
       "\n",
       "           price  price_per_m2           floor       floor_number  \\\n",
       "0     590 000 zł   8 309 zł/m²       Piętro: 3   Liczba pięter: 3   \n",
       "1     585 000 zł   9 286 zł/m²       Piętro: 3   Liczba pięter: 3   \n",
       "2     459 000 zł   9 592 zł/m²       Piętro: 4   Liczba pięter: 7   \n",
       "3   7 500 000 zł  35 361 zł/m²       Piętro: 8   Liczba pięter: 9   \n",
       "4   7 000 000 zł  32 590 zł/m²       Piętro: 6   Liczba pięter: 6   \n",
       "5   5 245 000 zł  23 106 zł/m²    Piętro: > 10  Liczba pięter: 48   \n",
       "6   4 800 000 zł  27 195 zł/m²    Piętro: > 10  Liczba pięter: 48   \n",
       "7   4 600 000 zł  34 074 zł/m²    Piętro: > 10  Liczba pięter: 51   \n",
       "8   4 000 000 zł  29 851 zł/m²       Piętro: 1   Liczba pięter: 3   \n",
       "9   3 582 800 zł  20 000 zł/m²       Piętro: 9  Liczba pięter: 10   \n",
       "10  3 579 400 zł  19 889 zł/m²       Piętro: 9  Liczba pięter: 11   \n",
       "11  3 500 000 zł  13 901 zł/m²  Piętro: parter   Liczba pięter: 2   \n",
       "12  3 500 000 zł  29 476 zł/m²       Piętro: 6   Liczba pięter: 6   \n",
       "13  3 474 555 zł  18 904 zł/m²    Piętro: > 10  Liczba pięter: 51   \n",
       "14  3 470 000 zł  19 350 zł/m²       Piętro: 8  Liczba pięter: 10   \n",
       "15  3 407 270 zł  19 000 zł/m²       Piętro: 8   Liczba pięter: 9   \n",
       "16  3 407 270 zł  18 982 zł/m²       Piętro: 9  Liczba pięter: 10   \n",
       "17  3 407 270 zł  18 929 zł/m²       Piętro: 8  Liczba pięter: 10   \n",
       "18  3 400 000 zł  18 959 zł/m²       Piętro: 8  Liczba pięter: 10   \n",
       "19  3 391 669 zł  11 090 zł/m²       Piętro: 6   Liczba pięter: 6   \n",
       "20  3 391 669 zł  11 283 zł/m²       Piętro: 6   Liczba pięter: 6   \n",
       "21  3 383 816 zł  18 904 zł/m²    Piętro: > 10  Liczba pięter: 51   \n",
       "22  3 300 000 zł  23 109 zł/m²    Piętro: > 10  Liczba pięter: 48   \n",
       "23  3 227 940 zł  18 000 zł/m²       Piętro: 9  Liczba pięter: 10   \n",
       "24  3 227 760 zł  18 000 zł/m²       Piętro: 7  Liczba pięter: 11   \n",
       "25  3 227 760 zł  18 000 zł/m²       Piętro: 7  Liczba pięter: 11   \n",
       "26  3 168 000 zł  17 600 zł/m²       Piętro: 8  Liczba pięter: 10   \n",
       "27  1 076 355 zł  11 725 zł/m²       Piętro: 1   Liczba pięter: 5   \n",
       "28    720 000 zł   6 452 zł/m²       Piętro: 2   Liczba pięter: 2   \n",
       "29    385 000 zł   7 971 zł/m²       Piętro: 2  Liczba pięter: 10   \n",
       "\n",
       "           prod_year              rent            market  \\\n",
       "0   Rok budowy: 1930               NaN     Rynek: wtórny   \n",
       "1   Rok budowy: 2008    Czynsz: 375 zł     Rynek: wtórny   \n",
       "2   Rok budowy: 2022    Czynsz: 420 zł  Rynek: pierwotny   \n",
       "3   Rok budowy: 2016               NaN  Rynek: pierwotny   \n",
       "4   Rok budowy: 2016               NaN     Rynek: wtórny   \n",
       "5   Rok budowy: 2012  Czynsz: 2 800 zł  Rynek: pierwotny   \n",
       "6   Rok budowy: 2012  Czynsz: 2 000 zł  Rynek: pierwotny   \n",
       "7   Rok budowy: 2012               NaN     Rynek: wtórny   \n",
       "8   Rok budowy: 2013               NaN     Rynek: wtórny   \n",
       "9   Rok budowy: 2021  Czynsz: 2 200 zł  Rynek: pierwotny   \n",
       "10  Rok budowy: 2021  Czynsz: 1 200 zł  Rynek: pierwotny   \n",
       "11  Rok budowy: 2020               NaN  Rynek: pierwotny   \n",
       "12  Rok budowy: 2016  Czynsz: 1 200 zł     Rynek: wtórny   \n",
       "13  Rok budowy: 2012  Czynsz: 2 300 zł  Rynek: pierwotny   \n",
       "14  Rok budowy: 2021      Czynsz: 7 zł  Rynek: pierwotny   \n",
       "15               NaN               NaN  Rynek: pierwotny   \n",
       "16  Rok budowy: 2020               NaN  Rynek: pierwotny   \n",
       "17               NaN               NaN  Rynek: pierwotny   \n",
       "18  Rok budowy: 2021  Czynsz: 1 800 zł  Rynek: pierwotny   \n",
       "19               NaN               NaN  Rynek: pierwotny   \n",
       "20  Rok budowy: 2015               NaN  Rynek: pierwotny   \n",
       "21  Rok budowy: 2012  Czynsz: 2 200 zł  Rynek: pierwotny   \n",
       "22  Rok budowy: 2012  Czynsz: 2 000 zł  Rynek: pierwotny   \n",
       "23  Rok budowy: 2021  Czynsz: 1 600 zł  Rynek: pierwotny   \n",
       "24  Rok budowy: 2021  Czynsz: 1 950 zł  Rynek: pierwotny   \n",
       "25  Rok budowy: 2021  Czynsz: 1 200 zł  Rynek: pierwotny   \n",
       "26  Rok budowy: 2021               NaN  Rynek: pierwotny   \n",
       "27  Rok budowy: 2022    Czynsz: 500 zł  Rynek: pierwotny   \n",
       "28  Rok budowy: 2007    Czynsz: 850 zł     Rynek: wtórny   \n",
       "29  Rok budowy: 1990               NaN     Rynek: wtórny   \n",
       "\n",
       "                       building_type                   finish_condition  \\\n",
       "0         Rodzaj zabudowy: kamienica                                NaN   \n",
       "1   Rodzaj zabudowy: apartamentowiec  Stan wykończenia: do zamieszkania   \n",
       "2   Rodzaj zabudowy: apartamentowiec   Stan wykończenia: do wykończenia   \n",
       "3   Rodzaj zabudowy: apartamentowiec  Stan wykończenia: do zamieszkania   \n",
       "4   Rodzaj zabudowy: apartamentowiec  Stan wykończenia: do zamieszkania   \n",
       "5   Rodzaj zabudowy: apartamentowiec   Stan wykończenia: do wykończenia   \n",
       "6   Rodzaj zabudowy: apartamentowiec   Stan wykończenia: do wykończenia   \n",
       "7   Rodzaj zabudowy: apartamentowiec  Stan wykończenia: do zamieszkania   \n",
       "8   Rodzaj zabudowy: apartamentowiec                                NaN   \n",
       "9   Rodzaj zabudowy: apartamentowiec   Stan wykończenia: do wykończenia   \n",
       "10  Rodzaj zabudowy: apartamentowiec   Stan wykończenia: do wykończenia   \n",
       "11  Rodzaj zabudowy: apartamentowiec   Stan wykończenia: do wykończenia   \n",
       "12  Rodzaj zabudowy: apartamentowiec                                NaN   \n",
       "13  Rodzaj zabudowy: apartamentowiec   Stan wykończenia: do wykończenia   \n",
       "14  Rodzaj zabudowy: apartamentowiec   Stan wykończenia: do wykończenia   \n",
       "15             Rodzaj zabudowy: blok   Stan wykończenia: do wykończenia   \n",
       "16  Rodzaj zabudowy: apartamentowiec                                NaN   \n",
       "17                               NaN                                NaN   \n",
       "18  Rodzaj zabudowy: apartamentowiec   Stan wykończenia: do wykończenia   \n",
       "19  Rodzaj zabudowy: apartamentowiec                                NaN   \n",
       "20                               NaN                                NaN   \n",
       "21  Rodzaj zabudowy: apartamentowiec   Stan wykończenia: do wykończenia   \n",
       "22  Rodzaj zabudowy: apartamentowiec   Stan wykończenia: do wykończenia   \n",
       "23             Rodzaj zabudowy: blok   Stan wykończenia: do wykończenia   \n",
       "24  Rodzaj zabudowy: apartamentowiec   Stan wykończenia: do wykończenia   \n",
       "25  Rodzaj zabudowy: apartamentowiec   Stan wykończenia: do wykończenia   \n",
       "26  Rodzaj zabudowy: apartamentowiec                                NaN   \n",
       "27  Rodzaj zabudowy: apartamentowiec   Stan wykończenia: do wykończenia   \n",
       "28             Rodzaj zabudowy: blok  Stan wykończenia: do zamieszkania   \n",
       "29             Rodzaj zabudowy: blok                                NaN   \n",
       "\n",
       "   flat_surface_m2 room_number  \n",
       "0         71,01 m²     6 pokoi  \n",
       "1            63 m²    2 pokoje  \n",
       "2         47,85 m²    2 pokoje  \n",
       "3        212,10 m²    4 pokoje  \n",
       "4        214,79 m²    4 pokoje  \n",
       "5           227 m²     5 pokoi  \n",
       "6        176,50 m²    4 pokoje  \n",
       "7           135 m²    3 pokoje  \n",
       "8           134 m²    3 pokoje  \n",
       "9        179,14 m²     6 pokoi  \n",
       "10       179,97 m²     6 pokoi  \n",
       "11       251,78 m²     5 pokoi  \n",
       "12       118,74 m²    4 pokoje  \n",
       "13       183,80 m²     5 pokoi  \n",
       "14       179,33 m²     6 pokoi  \n",
       "15       179,33 m²     6 pokoi  \n",
       "16       179,50 m²     6 pokoi  \n",
       "17          180 m²     6 pokoi  \n",
       "18       179,33 m²     6 pokoi  \n",
       "19       305,82 m²     7 pokoi  \n",
       "20       300,61 m²    3 pokoje  \n",
       "21          179 m²    4 pokoje  \n",
       "22       142,80 m²    3 pokoje  \n",
       "23       179,33 m²     6 pokoi  \n",
       "24       179,32 m²     6 pokoi  \n",
       "25       179,32 m²     6 pokoi  \n",
       "26          180 m²     6 pokoi  \n",
       "27        91,80 m²    4 pokoje  \n",
       "28       111,59 m²     6 pokoi  \n",
       "29        48,30 m²    2 pokoje  "
      ]
     },
     "execution_count": 7,
     "metadata": {},
     "output_type": "execute_result"
    }
   ],
   "source": [
    "df.head(30)"
   ]
  },
  {
   "cell_type": "code",
   "execution_count": 8,
   "metadata": {},
   "outputs": [],
   "source": [
    "# Wyświetlanie całego wiersza\n",
    "# Display row's full lenght\n",
    "pd.set_option('display.max_colwidth', -1)"
   ]
  },
  {
   "cell_type": "markdown",
   "metadata": {},
   "source": [
    "#### Id"
   ]
  },
  {
   "cell_type": "code",
   "execution_count": 9,
   "metadata": {},
   "outputs": [
    {
     "data": {
      "text/plain": [
       "0    offer-item-ad_id48H25\n",
       "1    offer-item-ad_id48IAh\n",
       "2    offer-item-ad_id48Ihn\n",
       "3    offer-item-ad_id47fLE\n",
       "4    offer-item-ad_id45AYc\n",
       "Name: id, dtype: object"
      ]
     },
     "execution_count": 9,
     "metadata": {},
     "output_type": "execute_result"
    }
   ],
   "source": [
    "# ile pustych\n",
    "# how many empty index values\n",
    "len(df[df.id.isna()])\n",
    "# ile unikalnych wartości\n",
    "# how many unique values\n",
    "len(df.id.unique())\n",
    "# id\n",
    "df.id.head()"
   ]
  },
  {
   "cell_type": "markdown",
   "metadata": {},
   "source": [
    "<b>offer-item-ad_id48H25</b> <--- wygląd pojedyńczej wartości\n",
    "<br>\n",
    "<b>id48H25</b> <--- wygląd docelowy\n",
    "##### ENGLISH VERSION\n",
    "<b>offer-item-ad_id48H25</b> <--- example of an index value\n",
    "<br>\n",
    "<b>id48H25</b> <--- target appearance"
   ]
  },
  {
   "cell_type": "code",
   "execution_count": 10,
   "metadata": {},
   "outputs": [],
   "source": [
    "df['id'] = df['id'].apply(lambda x: x.split('_')[1])"
   ]
  },
  {
   "cell_type": "code",
   "execution_count": 11,
   "metadata": {},
   "outputs": [
    {
     "data": {
      "text/plain": [
       "0    id48H25\n",
       "1    id48IAh\n",
       "2    id48Ihn\n",
       "3    id47fLE\n",
       "4    id45AYc\n",
       "Name: id, dtype: object"
      ]
     },
     "execution_count": 11,
     "metadata": {},
     "output_type": "execute_result"
    }
   ],
   "source": [
    "df.id.head()"
   ]
  },
  {
   "cell_type": "markdown",
   "metadata": {},
   "source": [
    "#### district"
   ]
  },
  {
   "cell_type": "code",
   "execution_count": 12,
   "metadata": {},
   "outputs": [
    {
     "data": {
      "text/plain": [
       "0    Mieszkanie na sprzedaż: Wrocław, Krzyki      \n",
       "1    Mieszkanie na sprzedaż: Wrocław, Krzyki      \n",
       "2    Mieszkanie na sprzedaż: Wrocław, Stare Miasto\n",
       "3    Mieszkanie na sprzedaż: Wrocław, Stare Miasto\n",
       "4    Mieszkanie na sprzedaż: Wrocław, Stare Miasto\n",
       "Name: district, dtype: object"
      ]
     },
     "execution_count": 12,
     "metadata": {},
     "output_type": "execute_result"
    }
   ],
   "source": [
    "df.district.head()"
   ]
  },
  {
   "cell_type": "markdown",
   "metadata": {},
   "source": [
    "<b>Mieszkanie na sprzedaż: Wrocław, Fabryczna, Grabiszynek</b> <--- tak wygląda surowa wartość\n",
    "<br>\n",
    "<b>Fabryczna</b> <--- docelowa wartość\n",
    "<br>\n",
    "Dodatkowo pojawia się wartości dzielnicy:\n",
    "<ul>\n",
    "    <li><b>dolnośląskie</b> - w przypadku takiej wartości wstawiam <i>np.NaN</i></li>\n",
    "    <li><b>Rynek</b> - w przypadku takiej wartości wstawiam <i>Stare Miasto</i></li>\n",
    "    <li><b>Nadodrze</b> - w przypadku takiej wartości wstawiam <i>Śródmieście</i></li> \n",
    "</ul>\n",
    "\n",
    "##### ENGLISH VERSION\n",
    "<b>Mieszkanie na sprzedaż: Wrocław, Fabryczna, Grabiszynek</b> <--- example of a district value\n",
    "<br>\n",
    "<b>Fabryczna</b> <--- target appearance\n",
    "<br>\n",
    "Additionally there are exceptions like this: \n",
    "<ul>\n",
    "    <li><b>dolnośląskie</b> - in this case, imput <i>np.NaN</i></li>\n",
    "    <li><b>Rynek</b> - in this case, imput <i>Stare Miasto</i></li>\n",
    "    <li><b>Nadodrze</b> - in this case, imput <i>Śródmieście</i></li> \n",
    "</ul>"
   ]
  },
  {
   "cell_type": "code",
   "execution_count": 13,
   "metadata": {},
   "outputs": [],
   "source": [
    "df['district'] = df['district'].apply(lambda x: np.NaN if x.split(',')[1].strip() == 'dolnośląskie' \n",
    "                                      else x.split(',')[1].strip().replace(\"Rynek\",\"Stare Miasto\").replace(\"Nadodrze\",\"Śródmieście\")) "
   ]
  },
  {
   "cell_type": "code",
   "execution_count": 14,
   "metadata": {},
   "outputs": [
    {
     "data": {
      "text/plain": [
       "array(['Krzyki', 'Stare Miasto', 'Śródmieście', 'Psie Pole', 'Fabryczna',\n",
       "       nan], dtype=object)"
      ]
     },
     "execution_count": 14,
     "metadata": {},
     "output_type": "execute_result"
    }
   ],
   "source": [
    "df.district.unique()"
   ]
  },
  {
   "cell_type": "code",
   "execution_count": 15,
   "metadata": {},
   "outputs": [
    {
     "data": {
      "text/plain": [
       "0    Krzyki      \n",
       "1    Krzyki      \n",
       "2    Stare Miasto\n",
       "3    Stare Miasto\n",
       "4    Stare Miasto\n",
       "Name: district, dtype: object"
      ]
     },
     "execution_count": 15,
     "metadata": {},
     "output_type": "execute_result"
    }
   ],
   "source": [
    "df.district.head()"
   ]
  },
  {
   "cell_type": "markdown",
   "metadata": {},
   "source": [
    "#### Price"
   ]
  },
  {
   "cell_type": "code",
   "execution_count": 16,
   "metadata": {},
   "outputs": [
    {
     "data": {
      "text/plain": [
       "0    590 000 zł  \n",
       "1    585 000 zł  \n",
       "2    459 000 zł  \n",
       "3    7 500 000 zł\n",
       "4    7 000 000 zł\n",
       "Name: price, dtype: object"
      ]
     },
     "execution_count": 16,
     "metadata": {},
     "output_type": "execute_result"
    }
   ],
   "source": [
    "df.price.head()"
   ]
  },
  {
   "cell_type": "markdown",
   "metadata": {},
   "source": [
    "<b>590 000 zł</b> <--- tak wygląda surowa wartość\n",
    "<br>\n",
    "<b>590000.0</b> <--- docelowa wartość\n",
    "<br>\n",
    "Dodatkowo pojawia się wartości ceny: \n",
    "<ul>\n",
    "    <li><b>Zapytaj o cenę</b> - w przypadku takiej wartości wstawiam <i>np.NaN</i></li>\n",
    "</ul>\n",
    "\n",
    "##### ENGLISH VERSION\n",
    "<b>590 000 zł</b> <--- example of a price value\n",
    "<br>\n",
    "<b>590000.0</b> <--- target appearance\n",
    "<br>\n",
    "Additionally there are exceptions like this: \n",
    "<ul>\n",
    "    <li><b>Zapytaj o cenę</b> - in this case, imput <i>np.NaN</i></li>\n",
    "</ul>"
   ]
  },
  {
   "cell_type": "code",
   "execution_count": 17,
   "metadata": {
    "scrolled": true
   },
   "outputs": [],
   "source": [
    "df['price'] = df['price'].apply(lambda x: pd.to_numeric(x.split(' z')[0].strip().replace(' ', '').replace(',','.')) \n",
    "                                if x.lower() != 'zapytaj o cenę' else np.NaN)"
   ]
  },
  {
   "cell_type": "code",
   "execution_count": 18,
   "metadata": {},
   "outputs": [
    {
     "data": {
      "text/plain": [
       "0    590000.0 \n",
       "1    585000.0 \n",
       "2    459000.0 \n",
       "3    7500000.0\n",
       "4    7000000.0\n",
       "Name: price, dtype: float64"
      ]
     },
     "execution_count": 18,
     "metadata": {},
     "output_type": "execute_result"
    }
   ],
   "source": [
    "df.price.head()"
   ]
  },
  {
   "cell_type": "code",
   "execution_count": 19,
   "metadata": {},
   "outputs": [
    {
     "data": {
      "text/plain": [
       "5697"
      ]
     },
     "execution_count": 19,
     "metadata": {},
     "output_type": "execute_result"
    }
   ],
   "source": [
    "len(df.price.unique())"
   ]
  },
  {
   "cell_type": "code",
   "execution_count": 20,
   "metadata": {},
   "outputs": [
    {
     "data": {
      "text/plain": [
       "297"
      ]
     },
     "execution_count": 20,
     "metadata": {},
     "output_type": "execute_result"
    }
   ],
   "source": [
    "len(df[df.price.isna()])"
   ]
  },
  {
   "cell_type": "markdown",
   "metadata": {},
   "source": [
    "#### Price per m2"
   ]
  },
  {
   "cell_type": "code",
   "execution_count": 21,
   "metadata": {
    "scrolled": true
   },
   "outputs": [
    {
     "data": {
      "text/plain": [
       "0    8 309 zł/m² \n",
       "1    9 286 zł/m² \n",
       "2    9 592 zł/m² \n",
       "3    35 361 zł/m²\n",
       "4    32 590 zł/m²\n",
       "Name: price_per_m2, dtype: object"
      ]
     },
     "execution_count": 21,
     "metadata": {},
     "output_type": "execute_result"
    }
   ],
   "source": [
    "df.price_per_m2.head()"
   ]
  },
  {
   "cell_type": "markdown",
   "metadata": {},
   "source": [
    "<b>8 309 zł/m²</b> <--- tak wygląda surowa wartość\n",
    "<br>\n",
    "<b>8309.0</b> <--- docelowa wartość\n",
    "##### ENGLISH VERSION\n",
    "<b>8 309 zł/m²</b> <--- example of a Price per m2 value\n",
    "<br>\n",
    "<b>8309.0</b> <--- target appearance"
   ]
  },
  {
   "cell_type": "code",
   "execution_count": 22,
   "metadata": {},
   "outputs": [],
   "source": [
    "df['price_per_m2'] = df['price_per_m2'].apply(lambda x: pd.to_numeric(x.split('z')[0].strip().replace(' ','')) \n",
    "                                              if pd.notna(x) else np.NaN)"
   ]
  },
  {
   "cell_type": "code",
   "execution_count": 23,
   "metadata": {},
   "outputs": [
    {
     "data": {
      "text/plain": [
       "0    8309.0 \n",
       "1    9286.0 \n",
       "2    9592.0 \n",
       "3    35361.0\n",
       "4    32590.0\n",
       "Name: price_per_m2, dtype: float64"
      ]
     },
     "execution_count": 23,
     "metadata": {},
     "output_type": "execute_result"
    }
   ],
   "source": [
    "df.price_per_m2.head()"
   ]
  },
  {
   "cell_type": "code",
   "execution_count": 24,
   "metadata": {},
   "outputs": [
    {
     "data": {
      "text/plain": [
       "296"
      ]
     },
     "execution_count": 24,
     "metadata": {},
     "output_type": "execute_result"
    }
   ],
   "source": [
    "len(df[df.price_per_m2.isna()])"
   ]
  },
  {
   "cell_type": "markdown",
   "metadata": {},
   "source": [
    "#### Floor"
   ]
  },
  {
   "cell_type": "code",
   "execution_count": 25,
   "metadata": {},
   "outputs": [
    {
     "data": {
      "text/plain": [
       "0    Piętro: 3\n",
       "1    Piętro: 3\n",
       "2    Piętro: 4\n",
       "3    Piętro: 8\n",
       "4    Piętro: 6\n",
       "Name: floor, dtype: object"
      ]
     },
     "execution_count": 25,
     "metadata": {},
     "output_type": "execute_result"
    }
   ],
   "source": [
    "df.floor.head()"
   ]
  },
  {
   "cell_type": "code",
   "execution_count": 26,
   "metadata": {
    "scrolled": true
   },
   "outputs": [
    {
     "data": {
      "text/plain": [
       "array(['Piętro: 3', 'Piętro: 4', 'Piętro: 8', 'Piętro: 6', 'Piętro: > 10',\n",
       "       'Piętro: 1', 'Piętro: 9', 'Piętro: parter', 'Piętro: 7',\n",
       "       'Piętro: 2', nan, 'Piętro: 5', 'Piętro: 10', 'Piętro: poddasze',\n",
       "       'Piętro: suterena'], dtype=object)"
      ]
     },
     "execution_count": 26,
     "metadata": {},
     "output_type": "execute_result"
    }
   ],
   "source": [
    "df.floor.unique()"
   ]
  },
  {
   "cell_type": "markdown",
   "metadata": {},
   "source": [
    "<b>Piętro: 3</b> <--- tak wygląda surowa wartość\n",
    "<br>\n",
    "<b>3.0</b> <--- docelowa wartość\n",
    "<br>\n",
    "Dodatkowo pojawia się wartości pięter takie jak: \n",
    "<ul>\n",
    "    <li>\n",
    "        <b>parter</b> - w przypadku takiej wartości wstawiam <i>0</i> ponieważ w polsce liczone jest to jako zerowe piętro\n",
    "    </li>\n",
    "    <li>\n",
    "        <b>suterena</b> - w przypadku takiej wartości wstawiam <i>-1</i> ponieważ jest to mieszkanie poniżej poziomu ulicy, czasami w połowie wystające ponad\n",
    "    </li>\n",
    "    <li><b>poddasze</b> - w przypadku takiej wartości wstawiam <i>4</i> ponieważ postanowiłem wstawić w ty miejscu  wartość uśrednioną i zaokrągloną, liczby pięter we wszystkich wierszach posiadających wartość \"poddasze\" w kolumnie floor</li>\n",
    "    <li>\n",
    "        <b> 10</b> - w przypadku takiej wartości wstawiam<i>np.NaN</i>\n",
    "    </li>\n",
    "</ul>\n",
    "\n",
    "##### ENGLISH VERSION\n",
    "<b>Piętro: 3</b> <--- example of a Floor value\n",
    "<br>\n",
    "<b>3.0</b> <--- target appearance\n",
    "<br>\n",
    "Additionally there are exceptions like this: \n",
    "<ul>\n",
    "    <li>\n",
    "        <b>parter</b> - in this case, imput <i>0</i> because in Poland parter is not a first floor and we don't count it as a floor\n",
    "    </li>\n",
    "    <li>\n",
    "        <b>suterena</b> - in this case, imput <i>-1</i> because it is flat in basement \n",
    "    </li>\n",
    "    <li><b>poddasze</b> - in this case, imput <i>4</i> because it is mean value in evere row contains value \"poddasze\" in column floor</li>\n",
    "    <li>\n",
    "        <b> 10</b> - in this case, imput <i>np.NaN</i>\n",
    "    </li>\n",
    "</ul>"
   ]
  },
  {
   "cell_type": "code",
   "execution_count": 27,
   "metadata": {},
   "outputs": [],
   "source": [
    "df['floor'] = df['floor'].apply(lambda x: x if x != 'Piętro: > 10' else np.NaN)"
   ]
  },
  {
   "cell_type": "code",
   "execution_count": 28,
   "metadata": {},
   "outputs": [],
   "source": [
    "df['floor'] = df['floor'].apply(lambda x: pd.to_numeric(x.split(':')[1].strip().replace('parter','0').replace('suterena','-1').replace('poddasze','4')) \n",
    "                                if pd.notnull(x) else np.NaN)"
   ]
  },
  {
   "cell_type": "code",
   "execution_count": 29,
   "metadata": {},
   "outputs": [
    {
     "data": {
      "text/plain": [
       "456"
      ]
     },
     "execution_count": 29,
     "metadata": {},
     "output_type": "execute_result"
    }
   ],
   "source": [
    "len(df[df.floor.isna()])"
   ]
  },
  {
   "cell_type": "code",
   "execution_count": 30,
   "metadata": {},
   "outputs": [
    {
     "data": {
      "text/plain": [
       "array([ 3.,  4.,  8.,  6., nan,  1.,  9.,  0.,  7.,  2.,  5., 10., -1.])"
      ]
     },
     "execution_count": 30,
     "metadata": {},
     "output_type": "execute_result"
    }
   ],
   "source": [
    "df.floor.unique()"
   ]
  },
  {
   "cell_type": "code",
   "execution_count": 31,
   "metadata": {},
   "outputs": [
    {
     "data": {
      "text/plain": [
       "0    3.0\n",
       "1    3.0\n",
       "2    4.0\n",
       "3    8.0\n",
       "4    6.0\n",
       "Name: floor, dtype: float64"
      ]
     },
     "execution_count": 31,
     "metadata": {},
     "output_type": "execute_result"
    }
   ],
   "source": [
    "df.floor.head()"
   ]
  },
  {
   "cell_type": "markdown",
   "metadata": {},
   "source": [
    "#### Floor number"
   ]
  },
  {
   "cell_type": "code",
   "execution_count": 32,
   "metadata": {
    "scrolled": true
   },
   "outputs": [
    {
     "data": {
      "text/plain": [
       "0    Liczba pięter: 3\n",
       "1    Liczba pięter: 3\n",
       "2    Liczba pięter: 7\n",
       "3    Liczba pięter: 9\n",
       "4    Liczba pięter: 6\n",
       "Name: floor_number, dtype: object"
      ]
     },
     "execution_count": 32,
     "metadata": {},
     "output_type": "execute_result"
    }
   ],
   "source": [
    "df.floor_number.head()"
   ]
  },
  {
   "cell_type": "code",
   "execution_count": 33,
   "metadata": {},
   "outputs": [
    {
     "data": {
      "text/plain": [
       "array(['Liczba pięter: 3', 'Liczba pięter: 7', 'Liczba pięter: 9',\n",
       "       'Liczba pięter: 6', 'Liczba pięter: 48', 'Liczba pięter: 51',\n",
       "       'Liczba pięter: 10', 'Liczba pięter: 11', 'Liczba pięter: 2',\n",
       "       'Liczba pięter: 5', 'Liczba pięter: 17', nan, 'Liczba pięter: 1',\n",
       "       'Liczba pięter: 8', 'Liczba pięter: 4', 'Liczba pięter: 52',\n",
       "       'Liczba pięter: 50', 'Liczba pięter: 18', 'Liczba pięter: 47',\n",
       "       'Liczba pięter: 16', 'Liczba pięter: 14', 'Liczba pięter: 49',\n",
       "       'Liczba pięter: 15', 'Liczba pięter: 13', 'Liczba pięter: 100',\n",
       "       'Liczba pięter: 12'], dtype=object)"
      ]
     },
     "execution_count": 33,
     "metadata": {},
     "output_type": "execute_result"
    }
   ],
   "source": [
    "df.floor_number.unique()"
   ]
  },
  {
   "cell_type": "markdown",
   "metadata": {},
   "source": [
    "<b>Liczba pięter: 6</b> <--- tak wygląda surowa wartość\n",
    "<br>\n",
    "<b>6.0</b> <--- docelowa wartość\n",
    "<br>\n",
    "Dodatkowo pojawia się wartoś piętra taka jak: \n",
    "<ul>\n",
    "    <li>\n",
    "        <b>100</b> - w przypadku takiej wartości wstawiam <i>np>NaN</i>\n",
    "    </li>\n",
    "</ul>\n",
    "\n",
    "##### ENGLISH VERSION\n",
    "<b>Liczba pięter: 6</b> <--- example of a Floor number value\n",
    "<br>\n",
    "<b>6.0</b> <--- target appearance\n",
    "<br>\n",
    "Additionally there are exceptions like this:\n",
    "<ul>\n",
    "    <li>\n",
    "        <b>100</b> -in this case, impute <i>np.NaN</i>\n",
    "    </li>\n",
    "</ul>"
   ]
  },
  {
   "cell_type": "code",
   "execution_count": 34,
   "metadata": {},
   "outputs": [],
   "source": [
    "df['floor_number'] = df['floor_number'].apply(lambda x: pd.to_numeric(x.split(':')[1].strip()) if pd.notnull(x) else np.NaN)"
   ]
  },
  {
   "cell_type": "code",
   "execution_count": 35,
   "metadata": {},
   "outputs": [
    {
     "data": {
      "text/plain": [
       "0    3.0\n",
       "1    3.0\n",
       "2    7.0\n",
       "3    9.0\n",
       "4    6.0\n",
       "Name: floor_number, dtype: float64"
      ]
     },
     "execution_count": 35,
     "metadata": {},
     "output_type": "execute_result"
    }
   ],
   "source": [
    "df.floor_number.head()"
   ]
  },
  {
   "cell_type": "code",
   "execution_count": 36,
   "metadata": {},
   "outputs": [
    {
     "data": {
      "text/plain": [
       "array([  3.,   7.,   9.,   6.,  48.,  51.,  10.,  11.,   2.,   5.,  17.,\n",
       "        nan,   1.,   8.,   4.,  52.,  50.,  18.,  47.,  16.,  14.,  49.,\n",
       "        15.,  13., 100.,  12.])"
      ]
     },
     "execution_count": 36,
     "metadata": {},
     "output_type": "execute_result"
    }
   ],
   "source": [
    "df.floor_number.unique()"
   ]
  },
  {
   "cell_type": "code",
   "execution_count": 37,
   "metadata": {},
   "outputs": [
    {
     "data": {
      "text/plain": [
       "count    12582.000000\n",
       "mean     4.746702    \n",
       "std      3.297912    \n",
       "min      1.000000    \n",
       "25%      3.000000    \n",
       "50%      4.000000    \n",
       "75%      6.000000    \n",
       "max      100.000000  \n",
       "Name: floor_number, dtype: float64"
      ]
     },
     "execution_count": 37,
     "metadata": {},
     "output_type": "execute_result"
    }
   ],
   "source": [
    "df.floor_number.describe()"
   ]
  },
  {
   "cell_type": "code",
   "execution_count": 38,
   "metadata": {},
   "outputs": [
    {
     "data": {
      "text/plain": [
       "4.0"
      ]
     },
     "execution_count": 38,
     "metadata": {},
     "output_type": "execute_result"
    }
   ],
   "source": [
    "df.floor_number.median()"
   ]
  },
  {
   "cell_type": "code",
   "execution_count": 39,
   "metadata": {},
   "outputs": [
    {
     "data": {
      "text/html": [
       "<div>\n",
       "<style scoped>\n",
       "    .dataframe tbody tr th:only-of-type {\n",
       "        vertical-align: middle;\n",
       "    }\n",
       "\n",
       "    .dataframe tbody tr th {\n",
       "        vertical-align: top;\n",
       "    }\n",
       "\n",
       "    .dataframe thead th {\n",
       "        text-align: right;\n",
       "    }\n",
       "</style>\n",
       "<table border=\"1\" class=\"dataframe\">\n",
       "  <thead>\n",
       "    <tr style=\"text-align: right;\">\n",
       "      <th></th>\n",
       "      <th>id</th>\n",
       "      <th>district</th>\n",
       "      <th>price</th>\n",
       "      <th>price_per_m2</th>\n",
       "      <th>floor</th>\n",
       "      <th>floor_number</th>\n",
       "      <th>prod_year</th>\n",
       "      <th>rent</th>\n",
       "      <th>market</th>\n",
       "      <th>building_type</th>\n",
       "      <th>finish_condition</th>\n",
       "      <th>flat_surface_m2</th>\n",
       "      <th>room_number</th>\n",
       "    </tr>\n",
       "  </thead>\n",
       "  <tbody>\n",
       "    <tr>\n",
       "      <td>6623</td>\n",
       "      <td>id48VW2</td>\n",
       "      <td>Śródmieście</td>\n",
       "      <td>456083.0</td>\n",
       "      <td>9598.0</td>\n",
       "      <td>1.0</td>\n",
       "      <td>100.0</td>\n",
       "      <td>Rok budowy: 2021</td>\n",
       "      <td>Czynsz: 300 zł</td>\n",
       "      <td>Rynek: pierwotny</td>\n",
       "      <td>Rodzaj zabudowy: apartamentowiec</td>\n",
       "      <td>NaN</td>\n",
       "      <td>47,52 m²</td>\n",
       "      <td>3 pokoje</td>\n",
       "    </tr>\n",
       "  </tbody>\n",
       "</table>\n",
       "</div>"
      ],
      "text/plain": [
       "           id     district     price  price_per_m2  floor  floor_number  \\\n",
       "6623  id48VW2  Śródmieście  456083.0  9598.0        1.0    100.0          \n",
       "\n",
       "             prod_year            rent            market  \\\n",
       "6623  Rok budowy: 2021  Czynsz: 300 zł  Rynek: pierwotny   \n",
       "\n",
       "                         building_type finish_condition flat_surface_m2  \\\n",
       "6623  Rodzaj zabudowy: apartamentowiec  NaN              47,52 m²         \n",
       "\n",
       "     room_number  \n",
       "6623  3 pokoje    "
      ]
     },
     "execution_count": 39,
     "metadata": {},
     "output_type": "execute_result"
    }
   ],
   "source": [
    "df[df['floor_number'] == 100]"
   ]
  },
  {
   "cell_type": "code",
   "execution_count": 40,
   "metadata": {},
   "outputs": [],
   "source": [
    "df['floor_number'] = df['floor_number'].apply(lambda x: np.NaN if x == 100 else x)"
   ]
  },
  {
   "cell_type": "markdown",
   "metadata": {},
   "source": [
    "#### Production Year"
   ]
  },
  {
   "cell_type": "code",
   "execution_count": 41,
   "metadata": {
    "scrolled": true
   },
   "outputs": [
    {
     "data": {
      "text/plain": [
       "0    Rok budowy: 1930\n",
       "1    Rok budowy: 2008\n",
       "2    Rok budowy: 2022\n",
       "3    Rok budowy: 2016\n",
       "4    Rok budowy: 2016\n",
       "Name: prod_year, dtype: object"
      ]
     },
     "execution_count": 41,
     "metadata": {},
     "output_type": "execute_result"
    }
   ],
   "source": [
    "df.prod_year.head()"
   ]
  },
  {
   "cell_type": "code",
   "execution_count": 42,
   "metadata": {
    "scrolled": true
   },
   "outputs": [
    {
     "data": {
      "text/plain": [
       "array(['Rok budowy: 1930', 'Rok budowy: 2008', 'Rok budowy: 2022',\n",
       "       'Rok budowy: 2016', 'Rok budowy: 2012', 'Rok budowy: 2013',\n",
       "       'Rok budowy: 2021', 'Rok budowy: 2020', nan, 'Rok budowy: 2015',\n",
       "       'Rok budowy: 2007', 'Rok budowy: 1990', 'Rok budowy: 2014',\n",
       "       'Rok budowy: 2019', 'Rok budowy: 1911', 'Rok budowy: 1902',\n",
       "       'Rok budowy: 2005', 'Rok budowy: 2018', 'Rok budowy: 1925',\n",
       "       'Rok budowy: 2003', 'Rok budowy: 2010', 'Rok budowy: 1907',\n",
       "       'Rok budowy: 1910', 'Rok budowy: 1935', 'Rok budowy: 1912',\n",
       "       'Rok budowy: 1957', 'Rok budowy: 1900', 'Rok budowy: 2017',\n",
       "       'Rok budowy: 1936', 'Rok budowy: 2009', 'Rok budowy: 2006',\n",
       "       'Rok budowy: 1920', 'Rok budowy: 1903', 'Rok budowy: 1995',\n",
       "       'Rok budowy: 2011', 'Rok budowy: 1906', 'Rok budowy: 2000',\n",
       "       'Rok budowy: 1997', 'Rok budowy: 1932', 'Rok budowy: 2004',\n",
       "       'Rok budowy: 1971', 'Rok budowy: 1975', 'Rok budowy: 1970',\n",
       "       'Rok budowy: 1405', 'Rok budowy: 2002', 'Rok budowy: 1960',\n",
       "       'Rok budowy: 1905', 'Rok budowy: 1892', 'Rok budowy: 1904',\n",
       "       'Rok budowy: 1942', 'Rok budowy: 1740', 'Rok budowy: 1927',\n",
       "       'Rok budowy: 1934', 'Rok budowy: 1939', 'Rok budowy: 1940',\n",
       "       'Rok budowy: 1991', 'Rok budowy: 2001', 'Rok budowy: 1993',\n",
       "       'Rok budowy: 1962', 'Rok budowy: 1950', 'Rok budowy: 1980',\n",
       "       'Rok budowy: 1996', 'Rok budowy: 1873', 'Rok budowy: 1994',\n",
       "       'Rok budowy: 1888', 'Rok budowy: 1931', 'Rok budowy: 1889',\n",
       "       'Rok budowy: 1908', 'Rok budowy: 1870', 'Rok budowy: 1945',\n",
       "       'Rok budowy: 1956', 'Rok budowy: 1955', 'Rok budowy: 1890',\n",
       "       'Rok budowy: 1999', 'Rok budowy: 1998', 'Rok budowy: 1730',\n",
       "       'Rok budowy: 1915', 'Rok budowy: 1893', 'Rok budowy: 2031',\n",
       "       'Rok budowy: 1968', 'Rok budowy: 1938', 'Rok budowy: 1880',\n",
       "       'Rok budowy: 1937', 'Rok budowy: 1922', 'Rok budowy: 1992',\n",
       "       'Rok budowy: 1901', 'Rok budowy: 1989', 'Rok budowy: 1876',\n",
       "       'Rok budowy: 1913', 'Rok budowy: 1987', 'Rok budowy: 1800',\n",
       "       'Rok budowy: 95', 'Rok budowy: 1979', 'Rok budowy: 1',\n",
       "       'Rok budowy: 1885', 'Rok budowy: 2023', 'Rok budowy: 1961',\n",
       "       'Rok budowy: 1988', 'Rok budowy: 1982', 'Rok budowy: 1986',\n",
       "       'Rok budowy: 1860', 'Rok budowy: 1978', 'Rok budowy: 19',\n",
       "       'Rok budowy: 1933', 'Rok budowy: 1965', 'Rok budowy: 1948',\n",
       "       'Rok budowy: 1976', 'Rok budowy: 1981', 'Rok budowy: 1984',\n",
       "       'Rok budowy: 1967', 'Rok budowy: 1929', 'Rok budowy: 1959',\n",
       "       'Rok budowy: 1963', 'Rok budowy: 1985', 'Rok budowy: 1856',\n",
       "       'Rok budowy: 1909', 'Rok budowy: 1969', 'Rok budowy: 1923',\n",
       "       'Rok budowy: 1973', 'Rok budowy: 1949', 'Rok budowy: 1983',\n",
       "       'Rok budowy: 1926', 'Rok budowy: 1898', 'Rok budowy: 1883',\n",
       "       'Rok budowy: 1964', 'Rok budowy: 1914', 'Rok budowy: 1977',\n",
       "       'Rok budowy: 1958', 'Rok budowy: 1895', 'Rok budowy: 1974',\n",
       "       'Rok budowy: 1919', 'Rok budowy: 20521', 'Rok budowy: 1943',\n",
       "       'Rok budowy: 1952', 'Rok budowy: 1918', 'Rok budowy: 1966',\n",
       "       'Rok budowy: 1928', 'Rok budowy: 1972', 'Rok budowy: 202',\n",
       "       'Rok budowy: 93', 'Rok budowy: 1916', 'Rok budowy: 1196',\n",
       "       'Rok budowy: 1924', 'Rok budowy: 1882', 'Rok budowy: 80',\n",
       "       'Rok budowy: 1894', 'Rok budowy: 1709', 'Rok budowy: 1899',\n",
       "       'Rok budowy: 1896', 'Rok budowy: 90', 'Rok budowy: 1897',\n",
       "       'Rok budowy: 1947'], dtype=object)"
      ]
     },
     "execution_count": 42,
     "metadata": {},
     "output_type": "execute_result"
    }
   ],
   "source": [
    "df.prod_year.unique()"
   ]
  },
  {
   "cell_type": "code",
   "execution_count": 43,
   "metadata": {},
   "outputs": [
    {
     "name": "stdout",
     "output_type": "stream",
     "text": [
      "Rok budowy: 80, ilość przypadków:  1\n",
      "Rok budowy: 90, ilość przypadków:  1\n",
      "Rok budowy: 93, ilość przypadków:  1\n",
      "Rok budowy: 95, ilość przypadków:  1\n",
      "Rok budowy: 1, ilość przypadków:  3\n",
      "Rok budowy: 19, ilość przypadków:  1\n",
      "Rok budowy: 202, ilość przypadków:  1\n",
      "Rok budowy: 1196, ilość przypadków:  1\n",
      "Rok budowy: 20521, ilość przypadków:  1\n"
     ]
    }
   ],
   "source": [
    "print('Rok budowy: 80, ilość przypadków: ',len(df[df.prod_year == \"Rok budowy: 80\"]))\n",
    "print('Rok budowy: 90, ilość przypadków: ',len(df[df.prod_year == \"Rok budowy: 90\"]))\n",
    "print('Rok budowy: 93, ilość przypadków: ',len(df[df.prod_year == \"Rok budowy: 93\"]))\n",
    "print('Rok budowy: 95, ilość przypadków: ',len(df[df.prod_year == \"Rok budowy: 95\"]))\n",
    "print('Rok budowy: 1, ilość przypadków: ',len(df[df.prod_year == \"Rok budowy: 1\"]))\n",
    "print('Rok budowy: 19, ilość przypadków: ',len(df[df.prod_year == \"Rok budowy: 19\"]))\n",
    "print('Rok budowy: 202, ilość przypadków: ',len(df[df.prod_year == \"Rok budowy: 202\"]))\n",
    "print('Rok budowy: 1196, ilość przypadków: ',len(df[df.prod_year == \"Rok budowy: 1196\"]))\n",
    "print('Rok budowy: 20521, ilość przypadków: ',len(df[df.prod_year == \"Rok budowy: 20521\"]))"
   ]
  },
  {
   "cell_type": "markdown",
   "metadata": {},
   "source": [
    "<b>Rok budowy: 1930</b> <--- tak wygląda surowa wartość\n",
    "<br>\n",
    "<b>1930</b> <--- docelowa wartość\n",
    "<br>\n",
    "Dodatkowo pojawia się wartości rok takie jak: \n",
    "<ul>\n",
    "    <li>\n",
    "        <b>93, 95, 90, 80</b> - założenie jest takie, że w przypadku tych wartości jest to końcówka 19**, dlatego wstawiam <i>19</i> przed każdy z tych liczb\n",
    "    </li>\n",
    "    <li>\n",
    "        <b>1</b> - za tę wartość wstawiam <i>np.NaN</i> (3 obiekty)\n",
    "    </li>\n",
    "    <li>\n",
    "        <b>20521</b> - założenie, że miał być roku <i>2021</i> (rynek pierwotny)\n",
    "    </li>\n",
    "    <li>\n",
    "        <b>19</b> - założenie, że miał być roku <i>2019</i>\n",
    "    </li>\n",
    "    <li>\n",
    "        <b>202</b> - założenie, że miał być roku <i>2020</i> (rynek pierwotny)\n",
    "    </li>\n",
    "    <li>\n",
    "        <b>1196</b> - za tę wartość wstawiam <i>np.NaN</i>\n",
    "    </li>\n",
    "</ul>\n",
    "\n",
    "##### ENGLISH VERSION\n",
    "<b>Rok budowy: 1930</b> <--- example of a Floor number value\n",
    "<br>\n",
    "<b>1930</b> <--- target appearance\n",
    "<br>\n",
    "Additionally there are exceptions like this:\n",
    "<ul>\n",
    "    <li>\n",
    "        <b>93, 95, 90, 80</b> - I assume that these values are endings of 19**, imputed <i>19</i> before every single value\n",
    "    </li>\n",
    "    <li>\n",
    "        <b>1</b> - in this case impute <i>np.NaN</i> (3 objects)\n",
    "    </li>\n",
    "    <li>\n",
    "        <b>20521</b> - I assume that someone made a mistake, impute <i>2021</i> (rynek pierwotny)\n",
    "    </li>\n",
    "    <li>\n",
    "        <b>19</b> - like above impute <i>2019</i>\n",
    "    </li>\n",
    "    <li>\n",
    "        <b>202</b> - like above <i>2020</i> (rynek pierwotny)\n",
    "    </li>\n",
    "    <li>\n",
    "        <b>1196</b> - in this case impute <i>np.NaN</i>\n",
    "    </li>\n",
    "</ul>"
   ]
  },
  {
   "cell_type": "code",
   "execution_count": 44,
   "metadata": {},
   "outputs": [],
   "source": [
    "df['prod_year'] = df['prod_year'].apply(lambda x: pd.to_numeric(x.split(':')[1].strip()) if pd.notnull(x) else np.NaN)"
   ]
  },
  {
   "cell_type": "code",
   "execution_count": 45,
   "metadata": {},
   "outputs": [],
   "source": [
    "df['prod_year'] = df['prod_year'].apply(lambda x: x+1900 if x == 93 or x == 95 or x == 90 or x == 80 else x)"
   ]
  },
  {
   "cell_type": "code",
   "execution_count": 46,
   "metadata": {},
   "outputs": [],
   "source": [
    "df['prod_year'] = df['prod_year'].apply(lambda x: np.NaN if x == 1 else x)"
   ]
  },
  {
   "cell_type": "code",
   "execution_count": 47,
   "metadata": {},
   "outputs": [],
   "source": [
    "df['prod_year'] = df['prod_year'].apply(lambda x: x+2000 if x == 19 else x)"
   ]
  },
  {
   "cell_type": "code",
   "execution_count": 48,
   "metadata": {},
   "outputs": [],
   "source": [
    "df['prod_year'] = df['prod_year'].apply(lambda x: x+1818 if x == 202 else x)"
   ]
  },
  {
   "cell_type": "code",
   "execution_count": 49,
   "metadata": {},
   "outputs": [],
   "source": [
    "df['prod_year'] = df['prod_year'].apply(lambda x: np.NaN if x == 1196 else x)"
   ]
  },
  {
   "cell_type": "code",
   "execution_count": 50,
   "metadata": {},
   "outputs": [],
   "source": [
    "df['prod_year'] = df['prod_year'].apply(lambda x: x-18500 if x == 20521 else x)"
   ]
  },
  {
   "cell_type": "code",
   "execution_count": 51,
   "metadata": {},
   "outputs": [
    {
     "data": {
      "text/html": [
       "<div>\n",
       "<style scoped>\n",
       "    .dataframe tbody tr th:only-of-type {\n",
       "        vertical-align: middle;\n",
       "    }\n",
       "\n",
       "    .dataframe tbody tr th {\n",
       "        vertical-align: top;\n",
       "    }\n",
       "\n",
       "    .dataframe thead th {\n",
       "        text-align: right;\n",
       "    }\n",
       "</style>\n",
       "<table border=\"1\" class=\"dataframe\">\n",
       "  <thead>\n",
       "    <tr style=\"text-align: right;\">\n",
       "      <th></th>\n",
       "      <th>id</th>\n",
       "      <th>district</th>\n",
       "      <th>price</th>\n",
       "      <th>price_per_m2</th>\n",
       "      <th>floor</th>\n",
       "      <th>floor_number</th>\n",
       "      <th>prod_year</th>\n",
       "      <th>rent</th>\n",
       "      <th>market</th>\n",
       "      <th>building_type</th>\n",
       "      <th>finish_condition</th>\n",
       "      <th>flat_surface_m2</th>\n",
       "      <th>room_number</th>\n",
       "    </tr>\n",
       "  </thead>\n",
       "  <tbody>\n",
       "    <tr>\n",
       "      <td>1136</td>\n",
       "      <td>id48Fdc</td>\n",
       "      <td>Fabryczna</td>\n",
       "      <td>453177.0</td>\n",
       "      <td>6450.0</td>\n",
       "      <td>2.0</td>\n",
       "      <td>3.0</td>\n",
       "      <td>2031.0</td>\n",
       "      <td>Czynsz: 500 zł</td>\n",
       "      <td>Rynek: pierwotny</td>\n",
       "      <td>Rodzaj zabudowy: blok</td>\n",
       "      <td>Stan wykończenia: do wykończenia</td>\n",
       "      <td>70,26 m²</td>\n",
       "      <td>4 pokoje</td>\n",
       "    </tr>\n",
       "    <tr>\n",
       "      <td>2218</td>\n",
       "      <td>id48dOi</td>\n",
       "      <td>Krzyki</td>\n",
       "      <td>667275.0</td>\n",
       "      <td>7750.0</td>\n",
       "      <td>0.0</td>\n",
       "      <td>3.0</td>\n",
       "      <td>2023.0</td>\n",
       "      <td>Czynsz: 750 zł</td>\n",
       "      <td>Rynek: pierwotny</td>\n",
       "      <td>Rodzaj zabudowy: blok</td>\n",
       "      <td>Stan wykończenia: do wykończenia</td>\n",
       "      <td>86,10 m²</td>\n",
       "      <td>5 pokoi</td>\n",
       "    </tr>\n",
       "    <tr>\n",
       "      <td>7048</td>\n",
       "      <td>id48dSZ</td>\n",
       "      <td>Krzyki</td>\n",
       "      <td>448560.0</td>\n",
       "      <td>7200.0</td>\n",
       "      <td>1.0</td>\n",
       "      <td>2.0</td>\n",
       "      <td>2023.0</td>\n",
       "      <td>Czynsz: 500 zł</td>\n",
       "      <td>Rynek: pierwotny</td>\n",
       "      <td>Rodzaj zabudowy: blok</td>\n",
       "      <td>Stan wykończenia: do wykończenia</td>\n",
       "      <td>62,30 m²</td>\n",
       "      <td>3 pokoje</td>\n",
       "    </tr>\n",
       "    <tr>\n",
       "      <td>8174</td>\n",
       "      <td>id48dT1</td>\n",
       "      <td>Krzyki</td>\n",
       "      <td>426600.0</td>\n",
       "      <td>7900.0</td>\n",
       "      <td>0.0</td>\n",
       "      <td>2.0</td>\n",
       "      <td>2023.0</td>\n",
       "      <td>Czynsz: 450 zł</td>\n",
       "      <td>Rynek: pierwotny</td>\n",
       "      <td>Rodzaj zabudowy: blok</td>\n",
       "      <td>Stan wykończenia: do wykończenia</td>\n",
       "      <td>54 m²</td>\n",
       "      <td>3 pokoje</td>\n",
       "    </tr>\n",
       "  </tbody>\n",
       "</table>\n",
       "</div>"
      ],
      "text/plain": [
       "           id   district     price  price_per_m2  floor  floor_number  \\\n",
       "1136  id48Fdc  Fabryczna  453177.0  6450.0        2.0    3.0            \n",
       "2218  id48dOi  Krzyki     667275.0  7750.0        0.0    3.0            \n",
       "7048  id48dSZ  Krzyki     448560.0  7200.0        1.0    2.0            \n",
       "8174  id48dT1  Krzyki     426600.0  7900.0        0.0    2.0            \n",
       "\n",
       "      prod_year            rent            market          building_type  \\\n",
       "1136  2031.0     Czynsz: 500 zł  Rynek: pierwotny  Rodzaj zabudowy: blok   \n",
       "2218  2023.0     Czynsz: 750 zł  Rynek: pierwotny  Rodzaj zabudowy: blok   \n",
       "7048  2023.0     Czynsz: 500 zł  Rynek: pierwotny  Rodzaj zabudowy: blok   \n",
       "8174  2023.0     Czynsz: 450 zł  Rynek: pierwotny  Rodzaj zabudowy: blok   \n",
       "\n",
       "                      finish_condition flat_surface_m2 room_number  \n",
       "1136  Stan wykończenia: do wykończenia  70,26 m²        4 pokoje    \n",
       "2218  Stan wykończenia: do wykończenia  86,10 m²        5 pokoi     \n",
       "7048  Stan wykończenia: do wykończenia  62,30 m²        3 pokoje    \n",
       "8174  Stan wykończenia: do wykończenia  54 m²           3 pokoje    "
      ]
     },
     "execution_count": 51,
     "metadata": {},
     "output_type": "execute_result"
    }
   ],
   "source": [
    "df[df.prod_year >= 2023]"
   ]
  },
  {
   "cell_type": "code",
   "execution_count": 52,
   "metadata": {},
   "outputs": [],
   "source": [
    "df['prod_year'] = df['prod_year'].apply(lambda x: x - 10 if x == 2031 else x)"
   ]
  },
  {
   "cell_type": "code",
   "execution_count": 53,
   "metadata": {},
   "outputs": [
    {
     "data": {
      "text/plain": [
       "array([1930., 2008., 2022., 2016., 2012., 2013., 2021., 2020.,   nan,\n",
       "       2015., 2007., 1990., 2014., 2019., 1911., 1902., 2005., 2018.,\n",
       "       1925., 2003., 2010., 1907., 1910., 1935., 1912., 1957., 1900.,\n",
       "       2017., 1936., 2009., 2006., 1920., 1903., 1995., 2011., 1906.,\n",
       "       2000., 1997., 1932., 2004., 1971., 1975., 1970., 1405., 2002.,\n",
       "       1960., 1905., 1892., 1904., 1942., 1740., 1927., 1934., 1939.,\n",
       "       1940., 1991., 2001., 1993., 1962., 1950., 1980., 1996., 1873.,\n",
       "       1994., 1888., 1931., 1889., 1908., 1870., 1945., 1956., 1955.,\n",
       "       1890., 1999., 1998., 1730., 1915., 1893., 1968., 1938., 1880.,\n",
       "       1937., 1922., 1992., 1901., 1989., 1876., 1913., 1987., 1800.,\n",
       "       1979., 1885., 2023., 1961., 1988., 1982., 1986., 1860., 1978.,\n",
       "       1933., 1965., 1948., 1976., 1981., 1984., 1967., 1929., 1959.,\n",
       "       1963., 1985., 1856., 1909., 1969., 1923., 1973., 1949., 1983.,\n",
       "       1926., 1898., 1883., 1964., 1914., 1977., 1958., 1895., 1974.,\n",
       "       1919., 1943., 1952., 1918., 1966., 1928., 1972., 1916., 1924.,\n",
       "       1882., 1894., 1709., 1899., 1896., 1897., 1947.])"
      ]
     },
     "execution_count": 53,
     "metadata": {},
     "output_type": "execute_result"
    }
   ],
   "source": [
    "df.prod_year.unique()"
   ]
  },
  {
   "cell_type": "markdown",
   "metadata": {},
   "source": [
    "#### Rent"
   ]
  },
  {
   "cell_type": "code",
   "execution_count": 54,
   "metadata": {
    "scrolled": true
   },
   "outputs": [
    {
     "data": {
      "text/plain": [
       "0    NaN           \n",
       "1    Czynsz: 375 zł\n",
       "2    Czynsz: 420 zł\n",
       "3    NaN           \n",
       "4    NaN           \n",
       "Name: rent, dtype: object"
      ]
     },
     "execution_count": 54,
     "metadata": {},
     "output_type": "execute_result"
    }
   ],
   "source": [
    "df.rent.head()"
   ]
  },
  {
   "cell_type": "code",
   "execution_count": 55,
   "metadata": {},
   "outputs": [
    {
     "data": {
      "text/plain": [
       "array([nan, 'Czynsz: 375 zł', 'Czynsz: 420 zł', 'Czynsz: 2 800 zł',\n",
       "       'Czynsz: 2 000 zł', 'Czynsz: 2 200 zł', 'Czynsz: 1 200 zł',\n",
       "       'Czynsz: 2 300 zł', 'Czynsz: 7 zł', 'Czynsz: 1 800 zł',\n",
       "       'Czynsz: 1 600 zł', 'Czynsz: 1 950 zł', 'Czynsz: 500 zł',\n",
       "       'Czynsz: 850 zł', 'Czynsz: 800 zł', 'Czynsz: 1 100 zł',\n",
       "       'Czynsz: 9 zł', 'Czynsz: 1 500 zł', 'Czynsz: 1 300 zł',\n",
       "       'Czynsz: 1 207 zł', 'Czynsz: 400 zł', 'Czynsz: 1 350 zł',\n",
       "       'Czynsz: 600 zł', 'Czynsz: 1 000 zł', 'Czynsz: 290 zł',\n",
       "       'Czynsz: 900 zł', 'Czynsz: 12 zł', 'Czynsz: 1 416 zł',\n",
       "       'Czynsz: 8 zł', 'Czynsz: 580 zł', 'Czynsz: 750 zł',\n",
       "       'Czynsz: 300 zł', 'Czynsz: 913 zł', 'Czynsz: 1 020 zł',\n",
       "       'Czynsz: 271 zł', 'Czynsz: 408 zł', 'Czynsz: 210 zł',\n",
       "       'Czynsz: 700 zł', 'Czynsz: 1,10 zł', 'Czynsz: 270 zł',\n",
       "       'Czynsz: 830 zł', 'Czynsz: 10 zł', 'Czynsz: 240 zł',\n",
       "       'Czynsz: 380 zł', 'Czynsz: 680 zł', 'Czynsz: 480 zł',\n",
       "       'Czynsz: 450 zł', 'Czynsz: 530 zł', 'Czynsz: 1 330 zł',\n",
       "       'Czynsz: 473 zł', 'Czynsz: 550 zł', 'Czynsz: 720 zł',\n",
       "       'Czynsz: 350 zł', 'Czynsz: 1 450 zł', 'Czynsz: 536 zł',\n",
       "       'Czynsz: 200 zł', 'Czynsz: 780 zł', 'Czynsz: 260 zł',\n",
       "       'Czynsz: 130 zł', 'Czynsz: 531 zł', 'Czynsz: 710 zł',\n",
       "       'Czynsz: 328 zł', 'Czynsz: 650 zł', 'Czynsz: 820 zł',\n",
       "       'Czynsz: 1 zł', 'Czynsz: 415 zł', 'Czynsz: 1 400 zł',\n",
       "       'Czynsz: 537 zł', 'Czynsz: 527 zł', 'Czynsz: 660 zł',\n",
       "       'Czynsz: 613 zł', 'Czynsz: 460 zł', 'Czynsz: 424 zł',\n",
       "       'Czynsz: 295 zł', 'Czynsz: 199 zł', 'Czynsz: 206 zł',\n",
       "       'Czynsz: 390 zł', 'Czynsz: 654 zł', 'Czynsz: 280 zł',\n",
       "       'Czynsz: 410 zł', 'Czynsz: 405 zł', 'Czynsz: 369 zł',\n",
       "       'Czynsz: 180 zł', 'Czynsz: 560 zł', 'Czynsz: 440 zł',\n",
       "       'Czynsz: 1 220 zł', 'Czynsz: 370 zł', 'Czynsz: 250 zł',\n",
       "       'Czynsz: 190 zł', 'Czynsz: 230 zł', 'Czynsz: 745 zł',\n",
       "       'Czynsz: 840 zł', 'Czynsz: 670 zł', 'Czynsz: 597 zł',\n",
       "       'Czynsz: 540 zł', 'Czynsz: 0,10 zł', 'Czynsz: 1 094 zł',\n",
       "       'Czynsz: 630 zł', 'Czynsz: 799 zł', 'Czynsz: 760 zł',\n",
       "       'Czynsz: 6 zł', 'Czynsz: 490 zł', 'Czynsz: 907 zł',\n",
       "       'Czynsz: 475 zł', 'Czynsz: 747 zł', 'Czynsz: 510 zł',\n",
       "       'Czynsz: 555 zł', 'Czynsz: 229 zł', 'Czynsz: 470 zł',\n",
       "       'Czynsz: 645 zł', 'Czynsz: 773 zł', 'Czynsz: 570 zł',\n",
       "       'Czynsz: 693 zł', 'Czynsz: 699 zł', 'Czynsz: 640 zł',\n",
       "       'Czynsz: 472 zł', 'Czynsz: 788 zł', 'Czynsz: 520 zł',\n",
       "       'Czynsz: 675 zł', 'Czynsz: 980 zł', 'Czynsz: 160 zł',\n",
       "       'Czynsz: 262 zł', 'Czynsz: 590 zł', 'Czynsz: 430 zł',\n",
       "       'Czynsz: 761,19 zł', 'Czynsz: 761 zł', 'Czynsz: 610 zł',\n",
       "       'Czynsz: 458 zł', 'Czynsz: 515 zł', 'Czynsz: 1 050 zł',\n",
       "       'Czynsz: 150 zł', 'Czynsz: 360 zł', 'Czynsz: 620 zł',\n",
       "       'Czynsz: 594 zł', 'Czynsz: 330 zł', 'Czynsz: 443 zł',\n",
       "       'Czynsz: 547 zł', 'Czynsz: 690 zł', 'Czynsz: 870 zł',\n",
       "       'Czynsz: 320 zł', 'Czynsz: 635 zł', 'Czynsz: 890 zł',\n",
       "       'Czynsz: 930 zł', 'Czynsz: 557 zł', 'Czynsz: 444 zł',\n",
       "       'Czynsz: 220 zł', 'Czynsz: 395 zł', 'Czynsz: 100 zł',\n",
       "       'Czynsz: 340 zł', 'Czynsz: 310 zł', 'Czynsz: 574 zł',\n",
       "       'Czynsz: 622 zł', 'Czynsz: 623 zł', 'Czynsz: 389 zł',\n",
       "       'Czynsz: 365 zł', 'Czynsz: 575 zł', 'Czynsz: 644 zł',\n",
       "       'Czynsz: 489 zł', 'Czynsz: 795 zł', 'Czynsz: 1 439 zł',\n",
       "       'Czynsz: 511 zł', 'Czynsz: 315 zł', 'Czynsz: 416 zł',\n",
       "       'Czynsz: 362 zł', 'Czynsz: 887 zł', 'Czynsz: 170 zł',\n",
       "       'Czynsz: 461 zł', 'Czynsz: 698 zł', 'Czynsz: 577 zł',\n",
       "       'Czynsz: 205 zł', 'Czynsz: 514 zł', 'Czynsz: 275 zł',\n",
       "       'Czynsz: 279 zł', 'Czynsz: 625,40 zł', 'Czynsz: 876 zł',\n",
       "       'Czynsz: 313,83 zł', 'Czynsz: 425 zł', 'Czynsz: 438 zł',\n",
       "       'Czynsz: 711 zł', 'Czynsz: 487 zł', 'Czynsz: 790 zł',\n",
       "       'Czynsz: 233,31 zł', 'Czynsz: 414 zł', 'Czynsz: 464,89 zł',\n",
       "       'Czynsz: 368 zł', 'Czynsz: 740 zł', 'Czynsz: 507 zł',\n",
       "       'Czynsz: 950 zł', 'Czynsz: 552 zł', 'Czynsz: 203 zł',\n",
       "       'Czynsz: 459 zł', 'Czynsz: 505 zł', 'Czynsz: 664,53 zł',\n",
       "       'Czynsz: 770 zł', 'Czynsz: 664 zł', 'Czynsz: 526 zł',\n",
       "       'Czynsz: 464 zł', 'Czynsz: 462 zł', 'Czynsz: 226 zł',\n",
       "       'Czynsz: 716 zł', 'Czynsz: 875 zł', 'Czynsz: 284 zł',\n",
       "       'Czynsz: 496 zł', 'Czynsz: 50 zł', 'Czynsz: 8,50 zł',\n",
       "       'Czynsz: 471 zł', 'Czynsz: 325 zł', 'Czynsz: 615 zł',\n",
       "       'Czynsz: 752 zł', 'Czynsz: 502 zł', 'Czynsz: 285 zł',\n",
       "       'Czynsz: 795,20 zł', 'Czynsz: 406 zł', 'Czynsz: 457 zł',\n",
       "       'Czynsz: 376 zł', 'Czynsz: 411 zł', 'Czynsz: 417 zł',\n",
       "       'Czynsz: 256 zł', 'Czynsz: 730 zł', 'Czynsz: 392 zł',\n",
       "       'Czynsz: 579 zł', 'Czynsz: 625 zł', 'Czynsz: 7,50 zł',\n",
       "       'Czynsz: 143 zł', 'Czynsz: 455 zł', 'Czynsz: 283 zł',\n",
       "       'Czynsz: 283,22 zł', 'Czynsz: 495 zł', 'Czynsz: 655 zł',\n",
       "       'Czynsz: 372 zł', 'Czynsz: 585 zł', 'Czynsz: 729 zł',\n",
       "       'Czynsz: 589 zł', 'Czynsz: 485 zł', 'Czynsz: 593 zł',\n",
       "       'Czynsz: 267 zł', 'Czynsz: 379 zł', 'Czynsz: 504 zł',\n",
       "       'Czynsz: 158 zł', 'Czynsz: 4 500 zł', 'Czynsz: 535 zł',\n",
       "       'Czynsz: 385 zł', 'Czynsz: 432 zł', 'Czynsz: 576 zł',\n",
       "       'Czynsz: 273 zł', 'Czynsz: 970 zł', 'Czynsz: 175 zł',\n",
       "       'Czynsz: 451 zł', 'Czynsz: 245 zł', 'Czynsz: 445 zł',\n",
       "       'Czynsz: 603 zł', 'Czynsz: 599,92 zł', 'Czynsz: 476 zł',\n",
       "       'Czynsz: 192 zł', 'Czynsz: 314 zł', 'Czynsz: 628 zł',\n",
       "       'Czynsz: 316,36 zł', 'Czynsz: 399 zł', 'Czynsz: 355 zł',\n",
       "       'Czynsz: 384 zł', 'Czynsz: 470,42 zł', 'Czynsz: 332 zł',\n",
       "       'Czynsz: 609 zł', 'Czynsz: 605 zł', 'Czynsz: 616 zł',\n",
       "       'Czynsz: 525 zł', 'Czynsz: 345 zł', 'Czynsz: 499 zł',\n",
       "       'Czynsz: 396 zł', 'Czynsz: 288 zł', 'Czynsz: 215 zł',\n",
       "       'Czynsz: 583 zł', 'Czynsz: 705 zł', 'Czynsz: 185 zł',\n",
       "       'Czynsz: 383 zł', 'Czynsz: 530,18 zł', 'Czynsz: 189 zł',\n",
       "       'Czynsz: 615,53 zł', 'Czynsz: 401 zł', 'Czynsz: 30 zł',\n",
       "       'Czynsz: 885 zł', 'Czynsz: 181 zł', 'Czynsz: 3 zł',\n",
       "       'Czynsz: 422 zł', 'Czynsz: 388 zł', 'Czynsz: 4 390 zł',\n",
       "       'Czynsz: 274 zł', 'Czynsz: 718 zł', 'Czynsz: 382 zł',\n",
       "       'Czynsz: 637 zł', 'Czynsz: 715 zł', 'Czynsz: 543 zł',\n",
       "       'Czynsz: 423 zł', 'Czynsz: 90 zł', 'Czynsz: 2 zł',\n",
       "       'Czynsz: 465 zł', 'Czynsz: 378 zł', 'Czynsz: 387 zł',\n",
       "       'Czynsz: 302 zł', 'Czynsz: 209 zł', 'Czynsz: 439 zł',\n",
       "       'Czynsz: 413 zł', 'Czynsz: 434 zł', 'Czynsz: 463,70 zł',\n",
       "       'Czynsz: 247 zł', 'Czynsz: 990 zł', 'Czynsz: 508 zł',\n",
       "       'Czynsz: 506 zł', 'Czynsz: 592,46 zł', 'Czynsz: 433 zł',\n",
       "       'Czynsz: 305 zł', 'Czynsz: 545 zł', 'Czynsz: 272 zł',\n",
       "       'Czynsz: 337 zł', 'Czynsz: 218 zł', 'Czynsz: 401,56 zł',\n",
       "       'Czynsz: 607 zł', 'Czynsz: 319 zł', 'Czynsz: 140 zł',\n",
       "       'Czynsz: 7,40 zł', 'Czynsz: 5,50 zł', 'Czynsz: 201 zł',\n",
       "       'Czynsz: 486 zł', 'Czynsz: 463 zł', 'Czynsz: 404 zł',\n",
       "       'Czynsz: 409 zł', 'Czynsz: 403 zł', 'Czynsz: 299 zł',\n",
       "       'Czynsz: 346 zł', 'Czynsz: 336 zł', 'Czynsz: 312 zł',\n",
       "       'Czynsz: 619,30 zł', 'Czynsz: 238 zł', 'Czynsz: 311 zł',\n",
       "       'Czynsz: 322 zł', 'Czynsz: 487,61 zł', 'Czynsz: 225 zł',\n",
       "       'Czynsz: 166 zł', 'Czynsz: 533 zł', 'Czynsz: 286 zł',\n",
       "       'Czynsz: 105 zł', 'Czynsz: 419 zł', 'Czynsz: 478 zł',\n",
       "       'Czynsz: 307 zł', 'Czynsz: 333 zł', 'Czynsz: 497,80 zł',\n",
       "       'Czynsz: 454 zł', 'Czynsz: 117 zł', 'Czynsz: 326,31 zł',\n",
       "       'Czynsz: 391 zł', 'Czynsz: 145 zł', 'Czynsz: 983 zł',\n",
       "       'Czynsz: 468 zł', 'Czynsz: 517 zł', 'Czynsz: 37 zł',\n",
       "       'Czynsz: 407 zł', 'Czynsz: 70 zł', 'Czynsz: 342 zł',\n",
       "       'Czynsz: 377 zł', 'Czynsz: 334 zł', 'Czynsz: 378,77 zł',\n",
       "       'Czynsz: 344 zł', 'Czynsz: 207 zł', 'Czynsz: 526,50 zł',\n",
       "       'Czynsz: 195 zł', 'Czynsz: 316 zł', 'Czynsz: 42 zł',\n",
       "       'Czynsz: 353 zł', 'Czynsz: 198 zł', 'Czynsz: 598 zł',\n",
       "       'Czynsz: 278 zł', 'Czynsz: 297 zł', 'Czynsz: 110 zł',\n",
       "       'Czynsz: 163 zł', 'Czynsz: 242 zł', 'Czynsz: 665 zł',\n",
       "       'Czynsz: 298 zł', 'Czynsz: 120 zł', 'Czynsz: 374 zł',\n",
       "       'Czynsz: 167 zł', 'Czynsz: 208 zł', 'Czynsz: 249 zł',\n",
       "       'Czynsz: 236 zł', 'Czynsz: 251 zł', 'Czynsz: 125 zł',\n",
       "       'Czynsz: 4 zł', 'Czynsz: 259 zł', 'Czynsz: 308 zł',\n",
       "       'Czynsz: 281 zł', 'Czynsz: 349 zł', 'Czynsz: 244 zł',\n",
       "       'Czynsz: 324 zł', 'Czynsz: 503,11 zł', 'Czynsz: 529 zł',\n",
       "       'Czynsz: 235 zł', 'Czynsz: 234 zł', 'Czynsz: 133 zł',\n",
       "       'Czynsz: 1 150 zł', 'Czynsz: 483 zł', 'Czynsz: 159 zł',\n",
       "       'Czynsz: 435 zł', 'Czynsz: 268 zł', 'Czynsz: 449 zł'], dtype=object)"
      ]
     },
     "execution_count": 55,
     "metadata": {},
     "output_type": "execute_result"
    }
   ],
   "source": [
    "(df.rent.unique())"
   ]
  },
  {
   "cell_type": "markdown",
   "metadata": {},
   "source": [
    "<b>Czynsz: 375 zł</b> <--- tak wygląda surowa wartość\n",
    "<br>\n",
    "<b>375.0</b> <--- docelowa wartość\n",
    "<br>\n",
    "Dodatkowo pojawia się wartości czynszu takie jak: \n",
    "<ul>\n",
    "    <li>\n",
    "        <b>9, 8, 1, 6, 7.4, 4, 12, 7, 1.1, 10, 0.1, 50, 90, 5.5, 70, 8.5, 3, 30, 2, 37, 42</b> - założenie jest takie, że w przypadku tych wartości wstawiam <i>np.NaN</i> ponieważ jest to oczywiście nie prawdziwe\n",
    "    </li>\n",
    "</ul>\n",
    "\n",
    "##### ENGLISH VERSION\n",
    "<b>Czynsz: 375 zł</b> <--- example of a rent value\n",
    "<br>\n",
    "<b>375.0</b> <--- target appearance\n",
    "<br>\n",
    "Additionally there are exceptions like this:\n",
    "<ul>\n",
    "    <li>\n",
    "        <b>9, 8, 1, 6, 7.4, 4, 12, 7, 1.1, 10, 0.1, 50, 90, 5.5, 70, 8.5, 3, 30, 2, 37, 42</b> - in these cases impute <i>np.NaN</i> because it is impossible to have 8 PLN rent \n",
    "    </li>\n",
    "</ul>"
   ]
  },
  {
   "cell_type": "code",
   "execution_count": 56,
   "metadata": {},
   "outputs": [],
   "source": [
    "df['rent'] = df['rent'].apply(lambda x: pd.to_numeric(x.split(':')[1].split('z')[0].replace(' ','').replace(',','.').strip()) \n",
    "                              if pd.notnull(x) else np.NaN)"
   ]
  },
  {
   "cell_type": "code",
   "execution_count": 57,
   "metadata": {},
   "outputs": [],
   "source": [
    "df.rent = df.rent.apply(lambda x: np.NaN if x in [9, 8, 1, 6, 7.4, 4, 12, 7, 1.1, 10, 0.1, 50, 90, 5.5, 70, 8.5, 3, 30, \n",
    "                                                  2, 37, 42 ] else x)"
   ]
  },
  {
   "cell_type": "code",
   "execution_count": 58,
   "metadata": {
    "scrolled": true
   },
   "outputs": [
    {
     "data": {
      "text/plain": [
       "array([    nan,  375.  ,  420.  , 2800.  , 2000.  , 2200.  , 1200.  ,\n",
       "       2300.  , 1800.  , 1600.  , 1950.  ,  500.  ,  850.  ,  800.  ,\n",
       "       1100.  , 1500.  , 1300.  , 1207.  ,  400.  , 1350.  ,  600.  ,\n",
       "       1000.  ,  290.  ,  900.  , 1416.  ,  580.  ,  750.  ,  300.  ,\n",
       "        913.  , 1020.  ,  271.  ,  408.  ,  210.  ,  700.  ,  270.  ,\n",
       "        830.  ,  240.  ,  380.  ,  680.  ,  480.  ,  450.  ,  530.  ,\n",
       "       1330.  ,  473.  ,  550.  ,  720.  ,  350.  , 1450.  ,  536.  ,\n",
       "        200.  ,  780.  ,  260.  ,  130.  ,  531.  ,  710.  ,  328.  ,\n",
       "        650.  ,  820.  ,  415.  , 1400.  ,  537.  ,  527.  ,  660.  ,\n",
       "        613.  ,  460.  ,  424.  ,  295.  ,  199.  ,  206.  ,  390.  ,\n",
       "        654.  ,  280.  ,  410.  ,  405.  ,  369.  ,  180.  ,  560.  ,\n",
       "        440.  , 1220.  ,  370.  ,  250.  ,  190.  ,  230.  ,  745.  ,\n",
       "        840.  ,  670.  ,  597.  ,  540.  , 1094.  ,  630.  ,  799.  ,\n",
       "        760.  ,  490.  ,  907.  ,  475.  ,  747.  ,  510.  ,  555.  ,\n",
       "        229.  ,  470.  ,  645.  ,  773.  ,  570.  ,  693.  ,  699.  ,\n",
       "        640.  ,  472.  ,  788.  ,  520.  ,  675.  ,  980.  ,  160.  ,\n",
       "        262.  ,  590.  ,  430.  ,  761.19,  761.  ,  610.  ,  458.  ,\n",
       "        515.  , 1050.  ,  150.  ,  360.  ,  620.  ,  594.  ,  330.  ,\n",
       "        443.  ,  547.  ,  690.  ,  870.  ,  320.  ,  635.  ,  890.  ,\n",
       "        930.  ,  557.  ,  444.  ,  220.  ,  395.  ,  100.  ,  340.  ,\n",
       "        310.  ,  574.  ,  622.  ,  623.  ,  389.  ,  365.  ,  575.  ,\n",
       "        644.  ,  489.  ,  795.  , 1439.  ,  511.  ,  315.  ,  416.  ,\n",
       "        362.  ,  887.  ,  170.  ,  461.  ,  698.  ,  577.  ,  205.  ,\n",
       "        514.  ,  275.  ,  279.  ,  625.4 ,  876.  ,  313.83,  425.  ,\n",
       "        438.  ,  711.  ,  487.  ,  790.  ,  233.31,  414.  ,  464.89,\n",
       "        368.  ,  740.  ,  507.  ,  950.  ,  552.  ,  203.  ,  459.  ,\n",
       "        505.  ,  664.53,  770.  ,  664.  ,  526.  ,  464.  ,  462.  ,\n",
       "        226.  ,  716.  ,  875.  ,  284.  ,  496.  ,  471.  ,  325.  ,\n",
       "        615.  ,  752.  ,  502.  ,  285.  ,  795.2 ,  406.  ,  457.  ,\n",
       "        376.  ,  411.  ,  417.  ,  256.  ,  730.  ,  392.  ,  579.  ,\n",
       "        625.  ,    7.5 ,  143.  ,  455.  ,  283.  ,  283.22,  495.  ,\n",
       "        655.  ,  372.  ,  585.  ,  729.  ,  589.  ,  485.  ,  593.  ,\n",
       "        267.  ,  379.  ,  504.  ,  158.  , 4500.  ,  535.  ,  385.  ,\n",
       "        432.  ,  576.  ,  273.  ,  970.  ,  175.  ,  451.  ,  245.  ,\n",
       "        445.  ,  603.  ,  599.92,  476.  ,  192.  ,  314.  ,  628.  ,\n",
       "        316.36,  399.  ,  355.  ,  384.  ,  470.42,  332.  ,  609.  ,\n",
       "        605.  ,  616.  ,  525.  ,  345.  ,  499.  ,  396.  ,  288.  ,\n",
       "        215.  ,  583.  ,  705.  ,  185.  ,  383.  ,  530.18,  189.  ,\n",
       "        615.53,  401.  ,  885.  ,  181.  ,  422.  ,  388.  , 4390.  ,\n",
       "        274.  ,  718.  ,  382.  ,  637.  ,  715.  ,  543.  ,  423.  ,\n",
       "        465.  ,  378.  ,  387.  ,  302.  ,  209.  ,  439.  ,  413.  ,\n",
       "        434.  ,  463.7 ,  247.  ,  990.  ,  508.  ,  506.  ,  592.46,\n",
       "        433.  ,  305.  ,  545.  ,  272.  ,  337.  ,  218.  ,  401.56,\n",
       "        607.  ,  319.  ,  140.  ,  201.  ,  486.  ,  463.  ,  404.  ,\n",
       "        409.  ,  403.  ,  299.  ,  346.  ,  336.  ,  312.  ,  619.3 ,\n",
       "        238.  ,  311.  ,  322.  ,  487.61,  225.  ,  166.  ,  533.  ,\n",
       "        286.  ,  105.  ,  419.  ,  478.  ,  307.  ,  333.  ,  497.8 ,\n",
       "        454.  ,  117.  ,  326.31,  391.  ,  145.  ,  983.  ,  468.  ,\n",
       "        517.  ,  407.  ,  342.  ,  377.  ,  334.  ,  378.77,  344.  ,\n",
       "        207.  ,  526.5 ,  195.  ,  316.  ,  353.  ,  198.  ,  598.  ,\n",
       "        278.  ,  297.  ,  110.  ,  163.  ,  242.  ,  665.  ,  298.  ,\n",
       "        120.  ,  374.  ,  167.  ,  208.  ,  249.  ,  236.  ,  251.  ,\n",
       "        125.  ,  259.  ,  308.  ,  281.  ,  349.  ,  244.  ,  324.  ,\n",
       "        503.11,  529.  ,  235.  ,  234.  ,  133.  , 1150.  ,  483.  ,\n",
       "        159.  ,  435.  ,  268.  ,  449.  ])"
      ]
     },
     "execution_count": 58,
     "metadata": {},
     "output_type": "execute_result"
    }
   ],
   "source": [
    "df.rent.unique()"
   ]
  },
  {
   "cell_type": "code",
   "execution_count": 59,
   "metadata": {},
   "outputs": [
    {
     "data": {
      "text/plain": [
       "0   NaN   \n",
       "1    375.0\n",
       "2    420.0\n",
       "3   NaN   \n",
       "4   NaN   \n",
       "Name: rent, dtype: float64"
      ]
     },
     "execution_count": 59,
     "metadata": {},
     "output_type": "execute_result"
    }
   ],
   "source": [
    "df.rent.head()"
   ]
  },
  {
   "cell_type": "markdown",
   "metadata": {},
   "source": [
    "#### Market"
   ]
  },
  {
   "cell_type": "code",
   "execution_count": 60,
   "metadata": {
    "scrolled": true
   },
   "outputs": [
    {
     "data": {
      "text/plain": [
       "0    Rynek: wtórny   \n",
       "1    Rynek: wtórny   \n",
       "2    Rynek: pierwotny\n",
       "3    Rynek: pierwotny\n",
       "4    Rynek: wtórny   \n",
       "Name: market, dtype: object"
      ]
     },
     "execution_count": 60,
     "metadata": {},
     "output_type": "execute_result"
    }
   ],
   "source": [
    "df.market.head()"
   ]
  },
  {
   "cell_type": "markdown",
   "metadata": {},
   "source": [
    "<b>Rynek: pierwotny</b> <--- tak wygląda surowa wartość\n",
    "<br>\n",
    "<b>pierwotny</b> <--- docelowa wartość\n",
    "##### ENGLISH VERSION\n",
    "<b>Rynek: pierwotny</b> <--- example of a market value\n",
    "<br>\n",
    "<b>pierwotny</b> <--- target appearance"
   ]
  },
  {
   "cell_type": "code",
   "execution_count": 61,
   "metadata": {},
   "outputs": [],
   "source": [
    "df['market'] = df['market'].apply(lambda x: x.split(':')[1].strip() if pd.notnull(x) else np.NaN)"
   ]
  },
  {
   "cell_type": "code",
   "execution_count": 62,
   "metadata": {},
   "outputs": [
    {
     "data": {
      "text/plain": [
       "0    wtórny   \n",
       "1    wtórny   \n",
       "2    pierwotny\n",
       "3    pierwotny\n",
       "4    wtórny   \n",
       "Name: market, dtype: object"
      ]
     },
     "execution_count": 62,
     "metadata": {},
     "output_type": "execute_result"
    }
   ],
   "source": [
    "df.market.head()"
   ]
  },
  {
   "cell_type": "code",
   "execution_count": 63,
   "metadata": {},
   "outputs": [
    {
     "data": {
      "text/plain": [
       "array(['wtórny', 'pierwotny'], dtype=object)"
      ]
     },
     "execution_count": 63,
     "metadata": {},
     "output_type": "execute_result"
    }
   ],
   "source": [
    "df.market.unique()"
   ]
  },
  {
   "cell_type": "code",
   "execution_count": 64,
   "metadata": {},
   "outputs": [
    {
     "data": {
      "text/plain": [
       "0"
      ]
     },
     "execution_count": 64,
     "metadata": {},
     "output_type": "execute_result"
    }
   ],
   "source": [
    "df.market.isnull().sum()"
   ]
  },
  {
   "cell_type": "markdown",
   "metadata": {},
   "source": [
    "#### Building Type"
   ]
  },
  {
   "cell_type": "code",
   "execution_count": 65,
   "metadata": {},
   "outputs": [
    {
     "data": {
      "text/plain": [
       "0    Rodzaj zabudowy: kamienica      \n",
       "1    Rodzaj zabudowy: apartamentowiec\n",
       "2    Rodzaj zabudowy: apartamentowiec\n",
       "3    Rodzaj zabudowy: apartamentowiec\n",
       "4    Rodzaj zabudowy: apartamentowiec\n",
       "Name: building_type, dtype: object"
      ]
     },
     "execution_count": 65,
     "metadata": {},
     "output_type": "execute_result"
    }
   ],
   "source": [
    "df.building_type.head()"
   ]
  },
  {
   "cell_type": "markdown",
   "metadata": {},
   "source": [
    "<b>Rodzaj zabudowy: kamienica</b> <--- tak wygląda surowa wartość\n",
    "<br>\n",
    "<b>kamienica</b> <--- docelowa wartość\n",
    "##### ENGLISH VERSION\n",
    "<b>Rodzaj zabudowy: kamienica</b> <--- example of a building type value\n",
    "<br>\n",
    "<b>kamienica</b> <--- target appearance"
   ]
  },
  {
   "cell_type": "code",
   "execution_count": 66,
   "metadata": {},
   "outputs": [
    {
     "data": {
      "text/plain": [
       "array(['Rodzaj zabudowy: kamienica', 'Rodzaj zabudowy: apartamentowiec',\n",
       "       'Rodzaj zabudowy: blok', nan, 'Rodzaj zabudowy: dom wolnostojący',\n",
       "       'Rodzaj zabudowy: loft', 'Rodzaj zabudowy: szeregowiec',\n",
       "       'Rodzaj zabudowy: plomba', 'Rodzaj zabudowy:'], dtype=object)"
      ]
     },
     "execution_count": 66,
     "metadata": {},
     "output_type": "execute_result"
    }
   ],
   "source": [
    "df.building_type.unique()"
   ]
  },
  {
   "cell_type": "code",
   "execution_count": 67,
   "metadata": {},
   "outputs": [],
   "source": [
    "df['building_type'] = df['building_type'].apply(lambda x: x.split(':')[1].strip() if pd.notnull(x) else np.NaN)"
   ]
  },
  {
   "cell_type": "code",
   "execution_count": 68,
   "metadata": {},
   "outputs": [
    {
     "data": {
      "text/plain": [
       "array(['kamienica', 'apartamentowiec', 'blok', nan, 'dom wolnostojący',\n",
       "       'loft', 'szeregowiec', 'plomba', ''], dtype=object)"
      ]
     },
     "execution_count": 68,
     "metadata": {},
     "output_type": "execute_result"
    }
   ],
   "source": [
    "df.building_type.unique()"
   ]
  },
  {
   "cell_type": "markdown",
   "metadata": {},
   "source": [
    "#### Finish Condition"
   ]
  },
  {
   "cell_type": "code",
   "execution_count": 69,
   "metadata": {
    "scrolled": true
   },
   "outputs": [
    {
     "data": {
      "text/plain": [
       "0    NaN                              \n",
       "1    Stan wykończenia: do zamieszkania\n",
       "2    Stan wykończenia: do wykończenia \n",
       "3    Stan wykończenia: do zamieszkania\n",
       "4    Stan wykończenia: do zamieszkania\n",
       "Name: finish_condition, dtype: object"
      ]
     },
     "execution_count": 69,
     "metadata": {},
     "output_type": "execute_result"
    }
   ],
   "source": [
    "df.finish_condition.head()"
   ]
  },
  {
   "cell_type": "code",
   "execution_count": 70,
   "metadata": {},
   "outputs": [
    {
     "data": {
      "text/plain": [
       "array([nan, 'Stan wykończenia: do zamieszkania',\n",
       "       'Stan wykończenia: do wykończenia', 'Stan wykończenia: do remontu'],\n",
       "      dtype=object)"
      ]
     },
     "execution_count": 70,
     "metadata": {},
     "output_type": "execute_result"
    }
   ],
   "source": [
    "df.finish_condition.unique()"
   ]
  },
  {
   "cell_type": "markdown",
   "metadata": {},
   "source": [
    "<b>Stan wykończenia: do zamieszkania</b> <--- tak wygląda surowa wartość\n",
    "<br>\n",
    "<b>do zamieszkania</b> <--- docelowa wartość\n",
    "##### ENGLISH VERSION\n",
    "<b>Stan wykończenia: do zamieszkania</b> <--- example of a finish condition value\n",
    "<br>\n",
    "<b>do zamieszkania</b> <--- target appearance"
   ]
  },
  {
   "cell_type": "code",
   "execution_count": 71,
   "metadata": {},
   "outputs": [],
   "source": [
    "df['finish_condition'] = df['finish_condition'].apply(lambda x: x.split(':')[1].strip() if pd.notnull(x) else np.NaN)"
   ]
  },
  {
   "cell_type": "code",
   "execution_count": 72,
   "metadata": {},
   "outputs": [
    {
     "data": {
      "text/plain": [
       "0    NaN            \n",
       "1    do zamieszkania\n",
       "2    do wykończenia \n",
       "3    do zamieszkania\n",
       "4    do zamieszkania\n",
       "Name: finish_condition, dtype: object"
      ]
     },
     "execution_count": 72,
     "metadata": {},
     "output_type": "execute_result"
    }
   ],
   "source": [
    "df.finish_condition.head()"
   ]
  },
  {
   "cell_type": "code",
   "execution_count": 73,
   "metadata": {},
   "outputs": [
    {
     "data": {
      "text/plain": [
       "array([nan, 'do zamieszkania', 'do wykończenia', 'do remontu'],\n",
       "      dtype=object)"
      ]
     },
     "execution_count": 73,
     "metadata": {},
     "output_type": "execute_result"
    }
   ],
   "source": [
    "df.finish_condition.unique()"
   ]
  },
  {
   "cell_type": "code",
   "execution_count": 74,
   "metadata": {},
   "outputs": [
    {
     "data": {
      "text/plain": [
       "8553"
      ]
     },
     "execution_count": 74,
     "metadata": {},
     "output_type": "execute_result"
    }
   ],
   "source": [
    "df.finish_condition.isnull().sum()"
   ]
  },
  {
   "cell_type": "markdown",
   "metadata": {},
   "source": [
    "#### Flat Surface m2"
   ]
  },
  {
   "cell_type": "code",
   "execution_count": 75,
   "metadata": {},
   "outputs": [
    {
     "data": {
      "text/plain": [
       "0    71,01 m² \n",
       "1    63 m²    \n",
       "2    47,85 m² \n",
       "3    212,10 m²\n",
       "4    214,79 m²\n",
       "Name: flat_surface_m2, dtype: object"
      ]
     },
     "execution_count": 75,
     "metadata": {},
     "output_type": "execute_result"
    }
   ],
   "source": [
    "df.flat_surface_m2.head()"
   ]
  },
  {
   "cell_type": "code",
   "execution_count": 76,
   "metadata": {},
   "outputs": [
    {
     "data": {
      "text/plain": [
       "array(['71,01 m²', '63 m²', '47,85 m²', ..., '38,38 m²', '46,91 m²',\n",
       "       '49,15 m²'], dtype=object)"
      ]
     },
     "execution_count": 76,
     "metadata": {},
     "output_type": "execute_result"
    }
   ],
   "source": [
    "df.flat_surface_m2.unique()"
   ]
  },
  {
   "cell_type": "markdown",
   "metadata": {},
   "source": [
    "<b>71,01 m²</b> <--- tak wygląda surowa wartość\n",
    "<br>\n",
    "<b>71.01</b> <--- docelowa wartość\n",
    "##### ENGLISH VERSION\n",
    "<b>71,01 m²</b> <--- example of a flat surface in m2 value\n",
    "<br>\n",
    "<b>71.01</b> <--- target appearance"
   ]
  },
  {
   "cell_type": "code",
   "execution_count": 77,
   "metadata": {},
   "outputs": [],
   "source": [
    "df['flat_surface_m2'] = df['flat_surface_m2'].apply(lambda x: pd.to_numeric(x.split('m')[0].replace(',','.').strip()) \n",
    "                                                    if pd.notnull(x) else np.NaN)"
   ]
  },
  {
   "cell_type": "code",
   "execution_count": 78,
   "metadata": {},
   "outputs": [
    {
     "data": {
      "text/plain": [
       "0    71.01 \n",
       "1    63.00 \n",
       "2    47.85 \n",
       "3    212.10\n",
       "4    214.79\n",
       "Name: flat_surface_m2, dtype: float64"
      ]
     },
     "execution_count": 78,
     "metadata": {},
     "output_type": "execute_result"
    }
   ],
   "source": [
    "df.flat_surface_m2.head()"
   ]
  },
  {
   "cell_type": "code",
   "execution_count": 79,
   "metadata": {},
   "outputs": [
    {
     "data": {
      "text/plain": [
       "array([71.01, 63.  , 47.85, ..., 38.38, 46.91, 49.15])"
      ]
     },
     "execution_count": 79,
     "metadata": {},
     "output_type": "execute_result"
    }
   ],
   "source": [
    "df.flat_surface_m2.unique()"
   ]
  },
  {
   "cell_type": "markdown",
   "metadata": {},
   "source": [
    "#### Room Number"
   ]
  },
  {
   "cell_type": "code",
   "execution_count": 80,
   "metadata": {
    "scrolled": true
   },
   "outputs": [
    {
     "data": {
      "text/plain": [
       "0    6 pokoi \n",
       "1    2 pokoje\n",
       "2    2 pokoje\n",
       "3    4 pokoje\n",
       "4    4 pokoje\n",
       "Name: room_number, dtype: object"
      ]
     },
     "execution_count": 80,
     "metadata": {},
     "output_type": "execute_result"
    }
   ],
   "source": [
    "df.room_number.head()"
   ]
  },
  {
   "cell_type": "markdown",
   "metadata": {},
   "source": [
    "<b>6 pokoi</b> <--- tak wygląda surowa wartość\n",
    "<br>\n",
    "<b>6</b> <--- docelowa wartość\n",
    "<br>\n",
    "Dodatkowo pojawia się wartości w liczbie pokoii takie jak: \n",
    "<ul>\n",
    "    <li>\n",
    "        <b>>10</b> - większa ilość pokoii niż 10 brak sprecyzowania \n",
    "    </li>\n",
    "</ul>\n",
    "\n",
    "##### ENGLISH VERSION\n",
    "<b>6 pokoi</b> <--- example of a room number value\n",
    "<br>\n",
    "<b>6</b> <--- target appearance\n",
    "<br>\n",
    "Additionally there are exceptions like this: \n",
    "<ul>\n",
    "    <li>\n",
    "        <b>10</b> - in this case impute <i>np.NaN</i>\n",
    "    </li>\n",
    "</ul>"
   ]
  },
  {
   "cell_type": "code",
   "execution_count": 81,
   "metadata": {
    "scrolled": true
   },
   "outputs": [
    {
     "data": {
      "text/plain": [
       "array(['6 pokoi', '2 pokoje', '4 pokoje', '5 pokoi', '3 pokoje',\n",
       "       '7 pokoi', '10 pokoi', '9 pokoi', '1 pokój', '8 pokoi',\n",
       "       '>10 pokoi'], dtype=object)"
      ]
     },
     "execution_count": 81,
     "metadata": {},
     "output_type": "execute_result"
    }
   ],
   "source": [
    "df.room_number.unique()"
   ]
  },
  {
   "cell_type": "code",
   "execution_count": 82,
   "metadata": {},
   "outputs": [
    {
     "data": {
      "text/html": [
       "<div>\n",
       "<style scoped>\n",
       "    .dataframe tbody tr th:only-of-type {\n",
       "        vertical-align: middle;\n",
       "    }\n",
       "\n",
       "    .dataframe tbody tr th {\n",
       "        vertical-align: top;\n",
       "    }\n",
       "\n",
       "    .dataframe thead th {\n",
       "        text-align: right;\n",
       "    }\n",
       "</style>\n",
       "<table border=\"1\" class=\"dataframe\">\n",
       "  <thead>\n",
       "    <tr style=\"text-align: right;\">\n",
       "      <th></th>\n",
       "      <th>id</th>\n",
       "      <th>district</th>\n",
       "      <th>price</th>\n",
       "      <th>price_per_m2</th>\n",
       "      <th>floor</th>\n",
       "      <th>floor_number</th>\n",
       "      <th>prod_year</th>\n",
       "      <th>rent</th>\n",
       "      <th>market</th>\n",
       "      <th>building_type</th>\n",
       "      <th>finish_condition</th>\n",
       "      <th>flat_surface_m2</th>\n",
       "      <th>room_number</th>\n",
       "    </tr>\n",
       "  </thead>\n",
       "  <tbody>\n",
       "    <tr>\n",
       "      <td>127</td>\n",
       "      <td>id48CSc</td>\n",
       "      <td>Krzyki</td>\n",
       "      <td>1589500.0</td>\n",
       "      <td>15432.0</td>\n",
       "      <td>NaN</td>\n",
       "      <td>47.0</td>\n",
       "      <td>2013.0</td>\n",
       "      <td>1600.0</td>\n",
       "      <td>wtórny</td>\n",
       "      <td>apartamentowiec</td>\n",
       "      <td>do wykończenia</td>\n",
       "      <td>103.0</td>\n",
       "      <td>&gt;10 pokoi</td>\n",
       "    </tr>\n",
       "    <tr>\n",
       "      <td>7424</td>\n",
       "      <td>id48WFo</td>\n",
       "      <td>Fabryczna</td>\n",
       "      <td>440000.0</td>\n",
       "      <td>7333.0</td>\n",
       "      <td>1.0</td>\n",
       "      <td>2.0</td>\n",
       "      <td>NaN</td>\n",
       "      <td>NaN</td>\n",
       "      <td>wtórny</td>\n",
       "      <td>NaN</td>\n",
       "      <td>NaN</td>\n",
       "      <td>60.0</td>\n",
       "      <td>&gt;10 pokoi</td>\n",
       "    </tr>\n",
       "  </tbody>\n",
       "</table>\n",
       "</div>"
      ],
      "text/plain": [
       "           id   district      price  price_per_m2  floor  floor_number  \\\n",
       "127   id48CSc  Krzyki     1589500.0  15432.0      NaN     47.0           \n",
       "7424  id48WFo  Fabryczna  440000.0   7333.0        1.0    2.0            \n",
       "\n",
       "      prod_year    rent  market    building_type finish_condition  \\\n",
       "127   2013.0     1600.0  wtórny  apartamentowiec  do wykończenia    \n",
       "7424 NaN        NaN      wtórny  NaN              NaN               \n",
       "\n",
       "      flat_surface_m2 room_number  \n",
       "127   103.0            >10 pokoi   \n",
       "7424  60.0             >10 pokoi   "
      ]
     },
     "execution_count": 82,
     "metadata": {},
     "output_type": "execute_result"
    }
   ],
   "source": [
    "df[df['room_number'] == '>10 pokoi']"
   ]
  },
  {
   "cell_type": "code",
   "execution_count": 83,
   "metadata": {},
   "outputs": [],
   "source": [
    "df['room_number'] = df['room_number'].apply(lambda x: np.NaN if x == '>10 pokoi' else x)"
   ]
  },
  {
   "cell_type": "code",
   "execution_count": 84,
   "metadata": {},
   "outputs": [
    {
     "data": {
      "text/plain": [
       "2"
      ]
     },
     "execution_count": 84,
     "metadata": {},
     "output_type": "execute_result"
    }
   ],
   "source": [
    "df.room_number.isna().sum()"
   ]
  },
  {
   "cell_type": "code",
   "execution_count": 85,
   "metadata": {},
   "outputs": [],
   "source": [
    "df['room_number'] = df['room_number'].apply(lambda x: pd.to_numeric(x.split(' ')[0].strip().replace('>10','6')) if pd.notnull(x)  else np.NaN)"
   ]
  },
  {
   "cell_type": "code",
   "execution_count": 86,
   "metadata": {},
   "outputs": [
    {
     "data": {
      "text/plain": [
       "0    6.0\n",
       "1    2.0\n",
       "2    2.0\n",
       "3    4.0\n",
       "4    4.0\n",
       "Name: room_number, dtype: float64"
      ]
     },
     "execution_count": 86,
     "metadata": {},
     "output_type": "execute_result"
    }
   ],
   "source": [
    "df.room_number.head()"
   ]
  },
  {
   "cell_type": "code",
   "execution_count": 87,
   "metadata": {},
   "outputs": [
    {
     "data": {
      "text/plain": [
       "array([ 6.,  2.,  4.,  5.,  3.,  7., 10.,  9.,  1.,  8., nan])"
      ]
     },
     "execution_count": 87,
     "metadata": {},
     "output_type": "execute_result"
    }
   ],
   "source": [
    "df.room_number.unique()"
   ]
  },
  {
   "cell_type": "code",
   "execution_count": 88,
   "metadata": {},
   "outputs": [
    {
     "data": {
      "text/plain": [
       "rent                10266\n",
       "finish_condition    8553 \n",
       "building_type       5237 \n",
       "prod_year           2512 \n",
       "floor_number        2455 \n",
       "district            704  \n",
       "floor               456  \n",
       "price               297  \n",
       "price_per_m2        296  \n",
       "room_number         2    \n",
       "flat_surface_m2     0    \n",
       "market              0    \n",
       "id                  0    \n",
       "dtype: int64"
      ]
     },
     "execution_count": 88,
     "metadata": {},
     "output_type": "execute_result"
    }
   ],
   "source": [
    "df.isna().sum().sort_values(ascending=False)"
   ]
  },
  {
   "cell_type": "code",
   "execution_count": 89,
   "metadata": {},
   "outputs": [
    {
     "name": "stdout",
     "output_type": "stream",
     "text": [
      "rent                68.28\n",
      "finish_condition    56.88\n",
      "building_type       34.83\n",
      "prod_year           16.71\n",
      "floor_number        16.33\n",
      "district            4.68 \n",
      "floor               3.03 \n",
      "price               1.98 \n",
      "price_per_m2        1.97 \n",
      "room_number         0.01 \n",
      "flat_surface_m2     0.00 \n",
      "market              0.00 \n",
      "id                  0.00 \n",
      "dtype: float64\n"
     ]
    }
   ],
   "source": [
    "missing(df)"
   ]
  },
  {
   "cell_type": "code",
   "execution_count": 90,
   "metadata": {},
   "outputs": [
    {
     "data": {
      "text/plain": [
       "id                  object \n",
       "district            object \n",
       "price               float64\n",
       "price_per_m2        float64\n",
       "floor               float64\n",
       "floor_number        float64\n",
       "prod_year           float64\n",
       "rent                float64\n",
       "market              object \n",
       "building_type       object \n",
       "finish_condition    object \n",
       "flat_surface_m2     float64\n",
       "room_number         float64\n",
       "dtype: object"
      ]
     },
     "execution_count": 90,
     "metadata": {},
     "output_type": "execute_result"
    }
   ],
   "source": [
    "df.dtypes"
   ]
  },
  {
   "cell_type": "code",
   "execution_count": 91,
   "metadata": {},
   "outputs": [
    {
     "data": {
      "text/html": [
       "<div>\n",
       "<style scoped>\n",
       "    .dataframe tbody tr th:only-of-type {\n",
       "        vertical-align: middle;\n",
       "    }\n",
       "\n",
       "    .dataframe tbody tr th {\n",
       "        vertical-align: top;\n",
       "    }\n",
       "\n",
       "    .dataframe thead th {\n",
       "        text-align: right;\n",
       "    }\n",
       "</style>\n",
       "<table border=\"1\" class=\"dataframe\">\n",
       "  <thead>\n",
       "    <tr style=\"text-align: right;\">\n",
       "      <th></th>\n",
       "      <th>price</th>\n",
       "      <th>price_per_m2</th>\n",
       "      <th>floor</th>\n",
       "      <th>floor_number</th>\n",
       "      <th>prod_year</th>\n",
       "      <th>rent</th>\n",
       "      <th>flat_surface_m2</th>\n",
       "      <th>room_number</th>\n",
       "    </tr>\n",
       "  </thead>\n",
       "  <tbody>\n",
       "    <tr>\n",
       "      <td>count</td>\n",
       "      <td>1.473900e+04</td>\n",
       "      <td>14740.000000</td>\n",
       "      <td>14580.000000</td>\n",
       "      <td>12581.000000</td>\n",
       "      <td>12524.000000</td>\n",
       "      <td>4770.000000</td>\n",
       "      <td>15036.000000</td>\n",
       "      <td>15034.000000</td>\n",
       "    </tr>\n",
       "    <tr>\n",
       "      <td>mean</td>\n",
       "      <td>5.117522e+05</td>\n",
       "      <td>8739.794030</td>\n",
       "      <td>2.343278</td>\n",
       "      <td>4.739130</td>\n",
       "      <td>2007.240897</td>\n",
       "      <td>467.079935</td>\n",
       "      <td>59.319652</td>\n",
       "      <td>2.723360</td>\n",
       "    </tr>\n",
       "    <tr>\n",
       "      <td>std</td>\n",
       "      <td>2.690295e+05</td>\n",
       "      <td>2295.186654</td>\n",
       "      <td>1.966537</td>\n",
       "      <td>3.186815</td>\n",
       "      <td>28.499904</td>\n",
       "      <td>216.653692</td>\n",
       "      <td>23.146364</td>\n",
       "      <td>0.961179</td>\n",
       "    </tr>\n",
       "    <tr>\n",
       "      <td>min</td>\n",
       "      <td>1.000000e+05</td>\n",
       "      <td>2308.000000</td>\n",
       "      <td>-1.000000</td>\n",
       "      <td>1.000000</td>\n",
       "      <td>1405.000000</td>\n",
       "      <td>7.500000</td>\n",
       "      <td>13.000000</td>\n",
       "      <td>1.000000</td>\n",
       "    </tr>\n",
       "    <tr>\n",
       "      <td>25%</td>\n",
       "      <td>3.790000e+05</td>\n",
       "      <td>7300.000000</td>\n",
       "      <td>1.000000</td>\n",
       "      <td>3.000000</td>\n",
       "      <td>2010.000000</td>\n",
       "      <td>350.000000</td>\n",
       "      <td>45.472500</td>\n",
       "      <td>2.000000</td>\n",
       "    </tr>\n",
       "    <tr>\n",
       "      <td>50%</td>\n",
       "      <td>4.500000e+05</td>\n",
       "      <td>8375.000000</td>\n",
       "      <td>2.000000</td>\n",
       "      <td>4.000000</td>\n",
       "      <td>2020.000000</td>\n",
       "      <td>449.500000</td>\n",
       "      <td>54.800000</td>\n",
       "      <td>3.000000</td>\n",
       "    </tr>\n",
       "    <tr>\n",
       "      <td>75%</td>\n",
       "      <td>5.650000e+05</td>\n",
       "      <td>9673.000000</td>\n",
       "      <td>3.000000</td>\n",
       "      <td>6.000000</td>\n",
       "      <td>2021.000000</td>\n",
       "      <td>550.000000</td>\n",
       "      <td>69.000000</td>\n",
       "      <td>3.000000</td>\n",
       "    </tr>\n",
       "    <tr>\n",
       "      <td>max</td>\n",
       "      <td>7.500000e+06</td>\n",
       "      <td>107370.000000</td>\n",
       "      <td>10.000000</td>\n",
       "      <td>52.000000</td>\n",
       "      <td>2023.000000</td>\n",
       "      <td>4500.000000</td>\n",
       "      <td>750.000000</td>\n",
       "      <td>10.000000</td>\n",
       "    </tr>\n",
       "  </tbody>\n",
       "</table>\n",
       "</div>"
      ],
      "text/plain": [
       "              price   price_per_m2         floor  floor_number     prod_year  \\\n",
       "count  1.473900e+04  14740.000000   14580.000000  12581.000000  12524.000000   \n",
       "mean   5.117522e+05  8739.794030    2.343278      4.739130      2007.240897    \n",
       "std    2.690295e+05  2295.186654    1.966537      3.186815      28.499904      \n",
       "min    1.000000e+05  2308.000000   -1.000000      1.000000      1405.000000    \n",
       "25%    3.790000e+05  7300.000000    1.000000      3.000000      2010.000000    \n",
       "50%    4.500000e+05  8375.000000    2.000000      4.000000      2020.000000    \n",
       "75%    5.650000e+05  9673.000000    3.000000      6.000000      2021.000000    \n",
       "max    7.500000e+06  107370.000000  10.000000     52.000000     2023.000000    \n",
       "\n",
       "              rent  flat_surface_m2   room_number  \n",
       "count  4770.000000  15036.000000     15034.000000  \n",
       "mean   467.079935   59.319652        2.723360      \n",
       "std    216.653692   23.146364        0.961179      \n",
       "min    7.500000     13.000000        1.000000      \n",
       "25%    350.000000   45.472500        2.000000      \n",
       "50%    449.500000   54.800000        3.000000      \n",
       "75%    550.000000   69.000000        3.000000      \n",
       "max    4500.000000  750.000000       10.000000     "
      ]
     },
     "execution_count": 91,
     "metadata": {},
     "output_type": "execute_result"
    }
   ],
   "source": [
    "df.describe()"
   ]
  },
  {
   "cell_type": "code",
   "execution_count": 92,
   "metadata": {},
   "outputs": [
    {
     "data": {
      "text/html": [
       "<div>\n",
       "<style scoped>\n",
       "    .dataframe tbody tr th:only-of-type {\n",
       "        vertical-align: middle;\n",
       "    }\n",
       "\n",
       "    .dataframe tbody tr th {\n",
       "        vertical-align: top;\n",
       "    }\n",
       "\n",
       "    .dataframe thead th {\n",
       "        text-align: right;\n",
       "    }\n",
       "</style>\n",
       "<table border=\"1\" class=\"dataframe\">\n",
       "  <thead>\n",
       "    <tr style=\"text-align: right;\">\n",
       "      <th></th>\n",
       "      <th>id</th>\n",
       "      <th>district</th>\n",
       "      <th>price</th>\n",
       "      <th>price_per_m2</th>\n",
       "      <th>floor</th>\n",
       "      <th>floor_number</th>\n",
       "      <th>prod_year</th>\n",
       "      <th>rent</th>\n",
       "      <th>market</th>\n",
       "      <th>building_type</th>\n",
       "      <th>finish_condition</th>\n",
       "      <th>flat_surface_m2</th>\n",
       "      <th>room_number</th>\n",
       "    </tr>\n",
       "  </thead>\n",
       "  <tbody>\n",
       "    <tr>\n",
       "      <td>0</td>\n",
       "      <td>id48H25</td>\n",
       "      <td>Krzyki</td>\n",
       "      <td>590000.0</td>\n",
       "      <td>8309.0</td>\n",
       "      <td>3.0</td>\n",
       "      <td>3.0</td>\n",
       "      <td>1930.0</td>\n",
       "      <td>NaN</td>\n",
       "      <td>wtórny</td>\n",
       "      <td>kamienica</td>\n",
       "      <td>NaN</td>\n",
       "      <td>71.01</td>\n",
       "      <td>6.0</td>\n",
       "    </tr>\n",
       "    <tr>\n",
       "      <td>1</td>\n",
       "      <td>id48IAh</td>\n",
       "      <td>Krzyki</td>\n",
       "      <td>585000.0</td>\n",
       "      <td>9286.0</td>\n",
       "      <td>3.0</td>\n",
       "      <td>3.0</td>\n",
       "      <td>2008.0</td>\n",
       "      <td>375.0</td>\n",
       "      <td>wtórny</td>\n",
       "      <td>apartamentowiec</td>\n",
       "      <td>do zamieszkania</td>\n",
       "      <td>63.00</td>\n",
       "      <td>2.0</td>\n",
       "    </tr>\n",
       "    <tr>\n",
       "      <td>2</td>\n",
       "      <td>id48Ihn</td>\n",
       "      <td>Stare Miasto</td>\n",
       "      <td>459000.0</td>\n",
       "      <td>9592.0</td>\n",
       "      <td>4.0</td>\n",
       "      <td>7.0</td>\n",
       "      <td>2022.0</td>\n",
       "      <td>420.0</td>\n",
       "      <td>pierwotny</td>\n",
       "      <td>apartamentowiec</td>\n",
       "      <td>do wykończenia</td>\n",
       "      <td>47.85</td>\n",
       "      <td>2.0</td>\n",
       "    </tr>\n",
       "    <tr>\n",
       "      <td>3</td>\n",
       "      <td>id47fLE</td>\n",
       "      <td>Stare Miasto</td>\n",
       "      <td>7500000.0</td>\n",
       "      <td>35361.0</td>\n",
       "      <td>8.0</td>\n",
       "      <td>9.0</td>\n",
       "      <td>2016.0</td>\n",
       "      <td>NaN</td>\n",
       "      <td>pierwotny</td>\n",
       "      <td>apartamentowiec</td>\n",
       "      <td>do zamieszkania</td>\n",
       "      <td>212.10</td>\n",
       "      <td>4.0</td>\n",
       "    </tr>\n",
       "    <tr>\n",
       "      <td>4</td>\n",
       "      <td>id45AYc</td>\n",
       "      <td>Stare Miasto</td>\n",
       "      <td>7000000.0</td>\n",
       "      <td>32590.0</td>\n",
       "      <td>6.0</td>\n",
       "      <td>6.0</td>\n",
       "      <td>2016.0</td>\n",
       "      <td>NaN</td>\n",
       "      <td>wtórny</td>\n",
       "      <td>apartamentowiec</td>\n",
       "      <td>do zamieszkania</td>\n",
       "      <td>214.79</td>\n",
       "      <td>4.0</td>\n",
       "    </tr>\n",
       "    <tr>\n",
       "      <td>5</td>\n",
       "      <td>id44eWl</td>\n",
       "      <td>Krzyki</td>\n",
       "      <td>5245000.0</td>\n",
       "      <td>23106.0</td>\n",
       "      <td>NaN</td>\n",
       "      <td>48.0</td>\n",
       "      <td>2012.0</td>\n",
       "      <td>2800.0</td>\n",
       "      <td>pierwotny</td>\n",
       "      <td>apartamentowiec</td>\n",
       "      <td>do wykończenia</td>\n",
       "      <td>227.00</td>\n",
       "      <td>5.0</td>\n",
       "    </tr>\n",
       "    <tr>\n",
       "      <td>6</td>\n",
       "      <td>id44gg6</td>\n",
       "      <td>Krzyki</td>\n",
       "      <td>4800000.0</td>\n",
       "      <td>27195.0</td>\n",
       "      <td>NaN</td>\n",
       "      <td>48.0</td>\n",
       "      <td>2012.0</td>\n",
       "      <td>2000.0</td>\n",
       "      <td>pierwotny</td>\n",
       "      <td>apartamentowiec</td>\n",
       "      <td>do wykończenia</td>\n",
       "      <td>176.50</td>\n",
       "      <td>4.0</td>\n",
       "    </tr>\n",
       "    <tr>\n",
       "      <td>7</td>\n",
       "      <td>id48Le4</td>\n",
       "      <td>Krzyki</td>\n",
       "      <td>4600000.0</td>\n",
       "      <td>34074.0</td>\n",
       "      <td>NaN</td>\n",
       "      <td>51.0</td>\n",
       "      <td>2012.0</td>\n",
       "      <td>NaN</td>\n",
       "      <td>wtórny</td>\n",
       "      <td>apartamentowiec</td>\n",
       "      <td>do zamieszkania</td>\n",
       "      <td>135.00</td>\n",
       "      <td>3.0</td>\n",
       "    </tr>\n",
       "    <tr>\n",
       "      <td>8</td>\n",
       "      <td>id48jKt</td>\n",
       "      <td>Stare Miasto</td>\n",
       "      <td>4000000.0</td>\n",
       "      <td>29851.0</td>\n",
       "      <td>1.0</td>\n",
       "      <td>3.0</td>\n",
       "      <td>2013.0</td>\n",
       "      <td>NaN</td>\n",
       "      <td>wtórny</td>\n",
       "      <td>apartamentowiec</td>\n",
       "      <td>NaN</td>\n",
       "      <td>134.00</td>\n",
       "      <td>3.0</td>\n",
       "    </tr>\n",
       "    <tr>\n",
       "      <td>9</td>\n",
       "      <td>id450d0</td>\n",
       "      <td>Stare Miasto</td>\n",
       "      <td>3582800.0</td>\n",
       "      <td>20000.0</td>\n",
       "      <td>9.0</td>\n",
       "      <td>10.0</td>\n",
       "      <td>2021.0</td>\n",
       "      <td>2200.0</td>\n",
       "      <td>pierwotny</td>\n",
       "      <td>apartamentowiec</td>\n",
       "      <td>do wykończenia</td>\n",
       "      <td>179.14</td>\n",
       "      <td>6.0</td>\n",
       "    </tr>\n",
       "  </tbody>\n",
       "</table>\n",
       "</div>"
      ],
      "text/plain": [
       "        id      district      price  price_per_m2  floor  floor_number  \\\n",
       "0  id48H25  Krzyki        590000.0   8309.0        3.0    3.0            \n",
       "1  id48IAh  Krzyki        585000.0   9286.0        3.0    3.0            \n",
       "2  id48Ihn  Stare Miasto  459000.0   9592.0        4.0    7.0            \n",
       "3  id47fLE  Stare Miasto  7500000.0  35361.0       8.0    9.0            \n",
       "4  id45AYc  Stare Miasto  7000000.0  32590.0       6.0    6.0            \n",
       "5  id44eWl  Krzyki        5245000.0  23106.0      NaN     48.0           \n",
       "6  id44gg6  Krzyki        4800000.0  27195.0      NaN     48.0           \n",
       "7  id48Le4  Krzyki        4600000.0  34074.0      NaN     51.0           \n",
       "8  id48jKt  Stare Miasto  4000000.0  29851.0       1.0    3.0            \n",
       "9  id450d0  Stare Miasto  3582800.0  20000.0       9.0    10.0           \n",
       "\n",
       "   prod_year    rent     market    building_type finish_condition  \\\n",
       "0  1930.0    NaN      wtórny     kamienica        NaN               \n",
       "1  2008.0     375.0   wtórny     apartamentowiec  do zamieszkania   \n",
       "2  2022.0     420.0   pierwotny  apartamentowiec  do wykończenia    \n",
       "3  2016.0    NaN      pierwotny  apartamentowiec  do zamieszkania   \n",
       "4  2016.0    NaN      wtórny     apartamentowiec  do zamieszkania   \n",
       "5  2012.0     2800.0  pierwotny  apartamentowiec  do wykończenia    \n",
       "6  2012.0     2000.0  pierwotny  apartamentowiec  do wykończenia    \n",
       "7  2012.0    NaN      wtórny     apartamentowiec  do zamieszkania   \n",
       "8  2013.0    NaN      wtórny     apartamentowiec  NaN               \n",
       "9  2021.0     2200.0  pierwotny  apartamentowiec  do wykończenia    \n",
       "\n",
       "   flat_surface_m2  room_number  \n",
       "0  71.01            6.0          \n",
       "1  63.00            2.0          \n",
       "2  47.85            2.0          \n",
       "3  212.10           4.0          \n",
       "4  214.79           4.0          \n",
       "5  227.00           5.0          \n",
       "6  176.50           4.0          \n",
       "7  135.00           3.0          \n",
       "8  134.00           3.0          \n",
       "9  179.14           6.0          "
      ]
     },
     "execution_count": 92,
     "metadata": {},
     "output_type": "execute_result"
    }
   ],
   "source": [
    "df.head(10)"
   ]
  },
  {
   "cell_type": "code",
   "execution_count": 93,
   "metadata": {},
   "outputs": [],
   "source": [
    "df.to_csv('data_set_after_cleaning_with_NaN.csv',index=False)"
   ]
  },
  {
   "cell_type": "markdown",
   "metadata": {},
   "source": [
    "# READ FILE WITH DATA AND NAN VALUES"
   ]
  },
  {
   "cell_type": "code",
   "execution_count": 94,
   "metadata": {},
   "outputs": [],
   "source": [
    "df = pd.read_csv('data_set_after_cleaning_with_NaN.csv')"
   ]
  },
  {
   "cell_type": "code",
   "execution_count": 95,
   "metadata": {},
   "outputs": [
    {
     "name": "stdout",
     "output_type": "stream",
     "text": [
      "<class 'pandas.core.frame.DataFrame'>\n",
      "RangeIndex: 15036 entries, 0 to 15035\n",
      "Data columns (total 13 columns):\n",
      "id                  15036 non-null object\n",
      "district            14332 non-null object\n",
      "price               14739 non-null float64\n",
      "price_per_m2        14740 non-null float64\n",
      "floor               14580 non-null float64\n",
      "floor_number        12581 non-null float64\n",
      "prod_year           12524 non-null float64\n",
      "rent                4770 non-null float64\n",
      "market              15036 non-null object\n",
      "building_type       9797 non-null object\n",
      "finish_condition    6483 non-null object\n",
      "flat_surface_m2     15036 non-null float64\n",
      "room_number         15034 non-null float64\n",
      "dtypes: float64(8), object(5)\n",
      "memory usage: 1.5+ MB\n"
     ]
    }
   ],
   "source": [
    "df.info()"
   ]
  },
  {
   "cell_type": "code",
   "execution_count": 96,
   "metadata": {},
   "outputs": [],
   "source": [
    "df.drop(columns=['id','rent', 'finish_condition'], inplace=True)"
   ]
  },
  {
   "cell_type": "code",
   "execution_count": 97,
   "metadata": {},
   "outputs": [],
   "source": [
    "df = df[['district', 'building_type', 'market', 'room_number', 'floor_number', 'floor', 'prod_year', 'flat_surface_m2', \n",
    "             'price_per_m2', 'price']]"
   ]
  },
  {
   "cell_type": "code",
   "execution_count": 98,
   "metadata": {},
   "outputs": [],
   "source": [
    "# df2 = df.query('market != \"wtórny\"').copy()\n",
    "df = df[df['market'] != 'wtórny'].copy()"
   ]
  },
  {
   "cell_type": "code",
   "execution_count": 99,
   "metadata": {},
   "outputs": [
    {
     "name": "stdout",
     "output_type": "stream",
     "text": [
      "<class 'pandas.core.frame.DataFrame'>\n",
      "Int64Index: 9358 entries, 2 to 15035\n",
      "Data columns (total 10 columns):\n",
      "district           8998 non-null object\n",
      "building_type      5019 non-null object\n",
      "market             9358 non-null object\n",
      "room_number        9358 non-null float64\n",
      "floor_number       7243 non-null float64\n",
      "floor              9086 non-null float64\n",
      "prod_year          7994 non-null float64\n",
      "flat_surface_m2    9358 non-null float64\n",
      "price_per_m2       9064 non-null float64\n",
      "price              9063 non-null float64\n",
      "dtypes: float64(7), object(3)\n",
      "memory usage: 804.2+ KB\n"
     ]
    }
   ],
   "source": [
    "df.info()"
   ]
  },
  {
   "cell_type": "code",
   "execution_count": 100,
   "metadata": {},
   "outputs": [
    {
     "data": {
      "text/plain": [
       "district           360 \n",
       "building_type      4339\n",
       "market             0   \n",
       "room_number        0   \n",
       "floor_number       2115\n",
       "floor              272 \n",
       "prod_year          1364\n",
       "flat_surface_m2    0   \n",
       "price_per_m2       294 \n",
       "price              295 \n",
       "dtype: int64"
      ]
     },
     "execution_count": 100,
     "metadata": {},
     "output_type": "execute_result"
    }
   ],
   "source": [
    "df.isna().sum()"
   ]
  },
  {
   "cell_type": "code",
   "execution_count": 101,
   "metadata": {},
   "outputs": [],
   "source": [
    "# GENERATES AND RETURN LIST OF INDEXES WITH NAN VALUE\n",
    "def save_nan_index(column_name):\n",
    "    index = df[column_name].index[df[column_name].apply(np.isnan)]\n",
    "    df_index = df.index.values.tolist()\n",
    "    index_list = [df_index.index(i) for i in index]\n",
    "    return index_list"
   ]
  },
  {
   "cell_type": "code",
   "execution_count": 102,
   "metadata": {},
   "outputs": [],
   "source": [
    "price_nan_index = save_nan_index('price')\n",
    "price_per_m2_nan_index = save_nan_index('price_per_m2')\n",
    "prod_year_nan_index = save_nan_index('prod_year')\n",
    "floor_nan_index = save_nan_index('floor')\n",
    "floor_number_nan_index = save_nan_index('floor_number')\n",
    "# CATEGORICAL INDEX NO NEEDED BECAUSE I USED OTHER IMPUTE METHOD\n",
    "# building_type_nan_index = save_nan_index('building_type')\n",
    "# district_nan_index = save_nan_index('district')"
   ]
  },
  {
   "cell_type": "code",
   "execution_count": 103,
   "metadata": {},
   "outputs": [
    {
     "data": {
      "text/html": [
       "<div>\n",
       "<style scoped>\n",
       "    .dataframe tbody tr th:only-of-type {\n",
       "        vertical-align: middle;\n",
       "    }\n",
       "\n",
       "    .dataframe tbody tr th {\n",
       "        vertical-align: top;\n",
       "    }\n",
       "\n",
       "    .dataframe thead th {\n",
       "        text-align: right;\n",
       "    }\n",
       "</style>\n",
       "<table border=\"1\" class=\"dataframe\">\n",
       "  <thead>\n",
       "    <tr style=\"text-align: right;\">\n",
       "      <th></th>\n",
       "      <th>district</th>\n",
       "      <th>building_type</th>\n",
       "      <th>market</th>\n",
       "      <th>room_number</th>\n",
       "      <th>floor_number</th>\n",
       "      <th>floor</th>\n",
       "      <th>prod_year</th>\n",
       "      <th>flat_surface_m2</th>\n",
       "      <th>price_per_m2</th>\n",
       "      <th>price</th>\n",
       "    </tr>\n",
       "  </thead>\n",
       "  <tbody>\n",
       "    <tr>\n",
       "      <td>2</td>\n",
       "      <td>Stare Miasto</td>\n",
       "      <td>apartamentowiec</td>\n",
       "      <td>pierwotny</td>\n",
       "      <td>2.0</td>\n",
       "      <td>7.0</td>\n",
       "      <td>4.0</td>\n",
       "      <td>2022.0</td>\n",
       "      <td>47.85</td>\n",
       "      <td>9592.0</td>\n",
       "      <td>459000.0</td>\n",
       "    </tr>\n",
       "    <tr>\n",
       "      <td>3</td>\n",
       "      <td>Stare Miasto</td>\n",
       "      <td>apartamentowiec</td>\n",
       "      <td>pierwotny</td>\n",
       "      <td>4.0</td>\n",
       "      <td>9.0</td>\n",
       "      <td>8.0</td>\n",
       "      <td>2016.0</td>\n",
       "      <td>212.10</td>\n",
       "      <td>35361.0</td>\n",
       "      <td>7500000.0</td>\n",
       "    </tr>\n",
       "    <tr>\n",
       "      <td>5</td>\n",
       "      <td>Krzyki</td>\n",
       "      <td>apartamentowiec</td>\n",
       "      <td>pierwotny</td>\n",
       "      <td>5.0</td>\n",
       "      <td>48.0</td>\n",
       "      <td>NaN</td>\n",
       "      <td>2012.0</td>\n",
       "      <td>227.00</td>\n",
       "      <td>23106.0</td>\n",
       "      <td>5245000.0</td>\n",
       "    </tr>\n",
       "    <tr>\n",
       "      <td>6</td>\n",
       "      <td>Krzyki</td>\n",
       "      <td>apartamentowiec</td>\n",
       "      <td>pierwotny</td>\n",
       "      <td>4.0</td>\n",
       "      <td>48.0</td>\n",
       "      <td>NaN</td>\n",
       "      <td>2012.0</td>\n",
       "      <td>176.50</td>\n",
       "      <td>27195.0</td>\n",
       "      <td>4800000.0</td>\n",
       "    </tr>\n",
       "    <tr>\n",
       "      <td>9</td>\n",
       "      <td>Stare Miasto</td>\n",
       "      <td>apartamentowiec</td>\n",
       "      <td>pierwotny</td>\n",
       "      <td>6.0</td>\n",
       "      <td>10.0</td>\n",
       "      <td>9.0</td>\n",
       "      <td>2021.0</td>\n",
       "      <td>179.14</td>\n",
       "      <td>20000.0</td>\n",
       "      <td>3582800.0</td>\n",
       "    </tr>\n",
       "  </tbody>\n",
       "</table>\n",
       "</div>"
      ],
      "text/plain": [
       "       district    building_type     market  room_number  floor_number  floor  \\\n",
       "2  Stare Miasto  apartamentowiec  pierwotny  2.0          7.0           4.0     \n",
       "3  Stare Miasto  apartamentowiec  pierwotny  4.0          9.0           8.0     \n",
       "5  Krzyki        apartamentowiec  pierwotny  5.0          48.0         NaN      \n",
       "6  Krzyki        apartamentowiec  pierwotny  4.0          48.0         NaN      \n",
       "9  Stare Miasto  apartamentowiec  pierwotny  6.0          10.0          9.0     \n",
       "\n",
       "   prod_year  flat_surface_m2  price_per_m2      price  \n",
       "2  2022.0     47.85            9592.0        459000.0   \n",
       "3  2016.0     212.10           35361.0       7500000.0  \n",
       "5  2012.0     227.00           23106.0       5245000.0  \n",
       "6  2012.0     176.50           27195.0       4800000.0  \n",
       "9  2021.0     179.14           20000.0       3582800.0  "
      ]
     },
     "execution_count": 103,
     "metadata": {},
     "output_type": "execute_result"
    }
   ],
   "source": [
    "df.head()"
   ]
  },
  {
   "cell_type": "code",
   "execution_count": 104,
   "metadata": {},
   "outputs": [
    {
     "name": "stdout",
     "output_type": "stream",
     "text": [
      "Iteration: 0\n",
      "Iteration: 1\n",
      "Iteration: 2\n",
      "Iteration: 3\n",
      "Iteration: 4\n",
      "Iteration: 5\n",
      "Iteration: 6\n"
     ]
    }
   ],
   "source": [
    "from missingpy import MissForest\n",
    "imputer = MissForest(random_state=100)\n",
    "df_imputed = df.copy()\n",
    "df_imputed = df_imputed.drop(columns=['district','building_type','market'])\n",
    "df_imputed = imputer.fit_transform(df_imputed)"
   ]
  },
  {
   "cell_type": "code",
   "execution_count": 105,
   "metadata": {},
   "outputs": [],
   "source": [
    "df_imputed = pd.DataFrame(data=df_imputed,columns=['room_number','floor_number','floor','prod_year','flat_surface_m2','price_per_m2','price'])\n",
    "df_imputed = df_imputed.round(decimals=2)\n",
    "df_imputed.floor_number = df_imputed.floor_number.round(decimals=0)\n",
    "df_imputed.floor = df_imputed.floor.round(decimals=0)\n",
    "df_imputed.prod_year = df_imputed.prod_year.round(decimals=0)"
   ]
  },
  {
   "cell_type": "code",
   "execution_count": 106,
   "metadata": {},
   "outputs": [
    {
     "data": {
      "text/html": [
       "<div>\n",
       "<style scoped>\n",
       "    .dataframe tbody tr th:only-of-type {\n",
       "        vertical-align: middle;\n",
       "    }\n",
       "\n",
       "    .dataframe tbody tr th {\n",
       "        vertical-align: top;\n",
       "    }\n",
       "\n",
       "    .dataframe thead th {\n",
       "        text-align: right;\n",
       "    }\n",
       "</style>\n",
       "<table border=\"1\" class=\"dataframe\">\n",
       "  <thead>\n",
       "    <tr style=\"text-align: right;\">\n",
       "      <th></th>\n",
       "      <th>room_number</th>\n",
       "      <th>floor_number</th>\n",
       "      <th>floor</th>\n",
       "      <th>prod_year</th>\n",
       "      <th>flat_surface_m2</th>\n",
       "      <th>price_per_m2</th>\n",
       "      <th>price</th>\n",
       "    </tr>\n",
       "  </thead>\n",
       "  <tbody>\n",
       "    <tr>\n",
       "      <td>2</td>\n",
       "      <td>5.0</td>\n",
       "      <td>48.0</td>\n",
       "      <td>8.0</td>\n",
       "      <td>2012.0</td>\n",
       "      <td>227.00</td>\n",
       "      <td>23106.0</td>\n",
       "      <td>5245000.0</td>\n",
       "    </tr>\n",
       "    <tr>\n",
       "      <td>3</td>\n",
       "      <td>4.0</td>\n",
       "      <td>48.0</td>\n",
       "      <td>9.0</td>\n",
       "      <td>2012.0</td>\n",
       "      <td>176.50</td>\n",
       "      <td>27195.0</td>\n",
       "      <td>4800000.0</td>\n",
       "    </tr>\n",
       "    <tr>\n",
       "      <td>7</td>\n",
       "      <td>5.0</td>\n",
       "      <td>51.0</td>\n",
       "      <td>8.0</td>\n",
       "      <td>2012.0</td>\n",
       "      <td>183.80</td>\n",
       "      <td>18904.0</td>\n",
       "      <td>3474555.0</td>\n",
       "    </tr>\n",
       "    <tr>\n",
       "      <td>9</td>\n",
       "      <td>6.0</td>\n",
       "      <td>9.0</td>\n",
       "      <td>8.0</td>\n",
       "      <td>2021.0</td>\n",
       "      <td>179.33</td>\n",
       "      <td>19000.0</td>\n",
       "      <td>3407270.0</td>\n",
       "    </tr>\n",
       "    <tr>\n",
       "      <td>11</td>\n",
       "      <td>6.0</td>\n",
       "      <td>10.0</td>\n",
       "      <td>8.0</td>\n",
       "      <td>2021.0</td>\n",
       "      <td>180.00</td>\n",
       "      <td>18929.0</td>\n",
       "      <td>3407270.0</td>\n",
       "    </tr>\n",
       "    <tr>\n",
       "      <td>...</td>\n",
       "      <td>...</td>\n",
       "      <td>...</td>\n",
       "      <td>...</td>\n",
       "      <td>...</td>\n",
       "      <td>...</td>\n",
       "      <td>...</td>\n",
       "      <td>...</td>\n",
       "    </tr>\n",
       "    <tr>\n",
       "      <td>9349</td>\n",
       "      <td>3.0</td>\n",
       "      <td>4.0</td>\n",
       "      <td>1.0</td>\n",
       "      <td>2021.0</td>\n",
       "      <td>55.19</td>\n",
       "      <td>6570.0</td>\n",
       "      <td>362598.0</td>\n",
       "    </tr>\n",
       "    <tr>\n",
       "      <td>9350</td>\n",
       "      <td>2.0</td>\n",
       "      <td>4.0</td>\n",
       "      <td>4.0</td>\n",
       "      <td>2020.0</td>\n",
       "      <td>47.70</td>\n",
       "      <td>7600.0</td>\n",
       "      <td>362520.0</td>\n",
       "    </tr>\n",
       "    <tr>\n",
       "      <td>9352</td>\n",
       "      <td>2.0</td>\n",
       "      <td>4.0</td>\n",
       "      <td>3.0</td>\n",
       "      <td>2020.0</td>\n",
       "      <td>49.30</td>\n",
       "      <td>7350.0</td>\n",
       "      <td>362355.0</td>\n",
       "    </tr>\n",
       "    <tr>\n",
       "      <td>9354</td>\n",
       "      <td>3.0</td>\n",
       "      <td>5.0</td>\n",
       "      <td>5.0</td>\n",
       "      <td>2021.0</td>\n",
       "      <td>47.80</td>\n",
       "      <td>7575.0</td>\n",
       "      <td>362063.0</td>\n",
       "    </tr>\n",
       "    <tr>\n",
       "      <td>9355</td>\n",
       "      <td>2.0</td>\n",
       "      <td>4.0</td>\n",
       "      <td>1.0</td>\n",
       "      <td>2020.0</td>\n",
       "      <td>51.03</td>\n",
       "      <td>7094.0</td>\n",
       "      <td>362000.0</td>\n",
       "    </tr>\n",
       "  </tbody>\n",
       "</table>\n",
       "<p>4340 rows × 7 columns</p>\n",
       "</div>"
      ],
      "text/plain": [
       "      room_number  floor_number  floor  prod_year  flat_surface_m2  \\\n",
       "2     5.0          48.0          8.0    2012.0     227.00            \n",
       "3     4.0          48.0          9.0    2012.0     176.50            \n",
       "7     5.0          51.0          8.0    2012.0     183.80            \n",
       "9     6.0          9.0           8.0    2021.0     179.33            \n",
       "11    6.0          10.0          8.0    2021.0     180.00            \n",
       "...   ...           ...          ...       ...        ...            \n",
       "9349  3.0          4.0           1.0    2021.0     55.19             \n",
       "9350  2.0          4.0           4.0    2020.0     47.70             \n",
       "9352  2.0          4.0           3.0    2020.0     49.30             \n",
       "9354  3.0          5.0           5.0    2021.0     47.80             \n",
       "9355  2.0          4.0           1.0    2020.0     51.03             \n",
       "\n",
       "      price_per_m2      price  \n",
       "2     23106.0       5245000.0  \n",
       "3     27195.0       4800000.0  \n",
       "7     18904.0       3474555.0  \n",
       "9     19000.0       3407270.0  \n",
       "11    18929.0       3407270.0  \n",
       "...       ...             ...  \n",
       "9349  6570.0        362598.0   \n",
       "9350  7600.0        362520.0   \n",
       "9352  7350.0        362355.0   \n",
       "9354  7575.0        362063.0   \n",
       "9355  7094.0        362000.0   \n",
       "\n",
       "[4340 rows x 7 columns]"
      ]
     },
     "execution_count": 106,
     "metadata": {},
     "output_type": "execute_result"
    }
   ],
   "source": [
    "df_imputed.iloc[sorted([*prod_year_nan_index, *price_nan_index, *price_per_m2_nan_index, *floor_nan_index, *floor_number_nan_index])]"
   ]
  },
  {
   "cell_type": "markdown",
   "metadata": {},
   "source": [
    "## CATEGORICAL DATA IMPUTATION"
   ]
  },
  {
   "cell_type": "code",
   "execution_count": 107,
   "metadata": {},
   "outputs": [],
   "source": [
    "df_imputed['district'] = df['district'].copy()"
   ]
  },
  {
   "cell_type": "code",
   "execution_count": 108,
   "metadata": {},
   "outputs": [],
   "source": [
    "df_imputed['building_type'] = df['building_type'].copy()"
   ]
  },
  {
   "cell_type": "code",
   "execution_count": 109,
   "metadata": {},
   "outputs": [
    {
     "data": {
      "text/plain": [
       "0    Krzyki\n",
       "dtype: object"
      ]
     },
     "execution_count": 109,
     "metadata": {},
     "output_type": "execute_result"
    }
   ],
   "source": [
    "df_imputed.district.mode()"
   ]
  },
  {
   "cell_type": "code",
   "execution_count": 110,
   "metadata": {},
   "outputs": [],
   "source": [
    "df_imputed.district.fillna('Krzyki', inplace=True)"
   ]
  },
  {
   "cell_type": "code",
   "execution_count": 111,
   "metadata": {},
   "outputs": [
    {
     "data": {
      "text/plain": [
       "0    blok\n",
       "dtype: object"
      ]
     },
     "execution_count": 111,
     "metadata": {},
     "output_type": "execute_result"
    }
   ],
   "source": [
    "df_imputed.building_type.mode()"
   ]
  },
  {
   "cell_type": "code",
   "execution_count": 112,
   "metadata": {},
   "outputs": [],
   "source": [
    "df_imputed.building_type.fillna('blok', inplace=True)"
   ]
  },
  {
   "cell_type": "code",
   "execution_count": 113,
   "metadata": {},
   "outputs": [
    {
     "data": {
      "text/html": [
       "<div>\n",
       "<style scoped>\n",
       "    .dataframe tbody tr th:only-of-type {\n",
       "        vertical-align: middle;\n",
       "    }\n",
       "\n",
       "    .dataframe tbody tr th {\n",
       "        vertical-align: top;\n",
       "    }\n",
       "\n",
       "    .dataframe thead th {\n",
       "        text-align: right;\n",
       "    }\n",
       "</style>\n",
       "<table border=\"1\" class=\"dataframe\">\n",
       "  <thead>\n",
       "    <tr style=\"text-align: right;\">\n",
       "      <th></th>\n",
       "      <th>room_number</th>\n",
       "      <th>floor_number</th>\n",
       "      <th>floor</th>\n",
       "      <th>prod_year</th>\n",
       "      <th>flat_surface_m2</th>\n",
       "      <th>price_per_m2</th>\n",
       "      <th>price</th>\n",
       "      <th>district</th>\n",
       "      <th>building_type</th>\n",
       "    </tr>\n",
       "  </thead>\n",
       "  <tbody>\n",
       "    <tr>\n",
       "      <td>0</td>\n",
       "      <td>2.0</td>\n",
       "      <td>7.0</td>\n",
       "      <td>4.0</td>\n",
       "      <td>2022.0</td>\n",
       "      <td>47.85</td>\n",
       "      <td>9592.0</td>\n",
       "      <td>459000.0</td>\n",
       "      <td>Krzyki</td>\n",
       "      <td>blok</td>\n",
       "    </tr>\n",
       "    <tr>\n",
       "      <td>1</td>\n",
       "      <td>4.0</td>\n",
       "      <td>9.0</td>\n",
       "      <td>8.0</td>\n",
       "      <td>2016.0</td>\n",
       "      <td>212.10</td>\n",
       "      <td>35361.0</td>\n",
       "      <td>7500000.0</td>\n",
       "      <td>Krzyki</td>\n",
       "      <td>blok</td>\n",
       "    </tr>\n",
       "    <tr>\n",
       "      <td>2</td>\n",
       "      <td>5.0</td>\n",
       "      <td>48.0</td>\n",
       "      <td>8.0</td>\n",
       "      <td>2012.0</td>\n",
       "      <td>227.00</td>\n",
       "      <td>23106.0</td>\n",
       "      <td>5245000.0</td>\n",
       "      <td>Stare Miasto</td>\n",
       "      <td>apartamentowiec</td>\n",
       "    </tr>\n",
       "    <tr>\n",
       "      <td>3</td>\n",
       "      <td>4.0</td>\n",
       "      <td>48.0</td>\n",
       "      <td>9.0</td>\n",
       "      <td>2012.0</td>\n",
       "      <td>176.50</td>\n",
       "      <td>27195.0</td>\n",
       "      <td>4800000.0</td>\n",
       "      <td>Stare Miasto</td>\n",
       "      <td>apartamentowiec</td>\n",
       "    </tr>\n",
       "    <tr>\n",
       "      <td>4</td>\n",
       "      <td>6.0</td>\n",
       "      <td>10.0</td>\n",
       "      <td>9.0</td>\n",
       "      <td>2021.0</td>\n",
       "      <td>179.14</td>\n",
       "      <td>20000.0</td>\n",
       "      <td>3582800.0</td>\n",
       "      <td>Krzyki</td>\n",
       "      <td>blok</td>\n",
       "    </tr>\n",
       "    <tr>\n",
       "      <td>...</td>\n",
       "      <td>...</td>\n",
       "      <td>...</td>\n",
       "      <td>...</td>\n",
       "      <td>...</td>\n",
       "      <td>...</td>\n",
       "      <td>...</td>\n",
       "      <td>...</td>\n",
       "      <td>...</td>\n",
       "      <td>...</td>\n",
       "    </tr>\n",
       "    <tr>\n",
       "      <td>9353</td>\n",
       "      <td>2.0</td>\n",
       "      <td>4.0</td>\n",
       "      <td>1.0</td>\n",
       "      <td>2020.0</td>\n",
       "      <td>51.03</td>\n",
       "      <td>7100.0</td>\n",
       "      <td>362313.0</td>\n",
       "      <td>Krzyki</td>\n",
       "      <td>blok</td>\n",
       "    </tr>\n",
       "    <tr>\n",
       "      <td>9354</td>\n",
       "      <td>3.0</td>\n",
       "      <td>5.0</td>\n",
       "      <td>5.0</td>\n",
       "      <td>2021.0</td>\n",
       "      <td>47.80</td>\n",
       "      <td>7575.0</td>\n",
       "      <td>362063.0</td>\n",
       "      <td>Krzyki</td>\n",
       "      <td>blok</td>\n",
       "    </tr>\n",
       "    <tr>\n",
       "      <td>9355</td>\n",
       "      <td>2.0</td>\n",
       "      <td>4.0</td>\n",
       "      <td>1.0</td>\n",
       "      <td>2020.0</td>\n",
       "      <td>51.03</td>\n",
       "      <td>7094.0</td>\n",
       "      <td>362000.0</td>\n",
       "      <td>Krzyki</td>\n",
       "      <td>blok</td>\n",
       "    </tr>\n",
       "    <tr>\n",
       "      <td>9356</td>\n",
       "      <td>3.0</td>\n",
       "      <td>2.0</td>\n",
       "      <td>0.0</td>\n",
       "      <td>2021.0</td>\n",
       "      <td>52.20</td>\n",
       "      <td>6933.0</td>\n",
       "      <td>361900.0</td>\n",
       "      <td>Psie Pole</td>\n",
       "      <td>blok</td>\n",
       "    </tr>\n",
       "    <tr>\n",
       "      <td>9357</td>\n",
       "      <td>2.0</td>\n",
       "      <td>4.0</td>\n",
       "      <td>1.0</td>\n",
       "      <td>2021.0</td>\n",
       "      <td>38.20</td>\n",
       "      <td>9424.0</td>\n",
       "      <td>360000.0</td>\n",
       "      <td>Psie Pole</td>\n",
       "      <td>blok</td>\n",
       "    </tr>\n",
       "  </tbody>\n",
       "</table>\n",
       "<p>9358 rows × 9 columns</p>\n",
       "</div>"
      ],
      "text/plain": [
       "      room_number  floor_number  floor  prod_year  flat_surface_m2  \\\n",
       "0     2.0          7.0           4.0    2022.0     47.85             \n",
       "1     4.0          9.0           8.0    2016.0     212.10            \n",
       "2     5.0          48.0          8.0    2012.0     227.00            \n",
       "3     4.0          48.0          9.0    2012.0     176.50            \n",
       "4     6.0          10.0          9.0    2021.0     179.14            \n",
       "...   ...           ...          ...       ...        ...            \n",
       "9353  2.0          4.0           1.0    2020.0     51.03             \n",
       "9354  3.0          5.0           5.0    2021.0     47.80             \n",
       "9355  2.0          4.0           1.0    2020.0     51.03             \n",
       "9356  3.0          2.0           0.0    2021.0     52.20             \n",
       "9357  2.0          4.0           1.0    2021.0     38.20             \n",
       "\n",
       "      price_per_m2      price      district    building_type  \n",
       "0     9592.0        459000.0   Krzyki        blok             \n",
       "1     35361.0       7500000.0  Krzyki        blok             \n",
       "2     23106.0       5245000.0  Stare Miasto  apartamentowiec  \n",
       "3     27195.0       4800000.0  Stare Miasto  apartamentowiec  \n",
       "4     20000.0       3582800.0  Krzyki        blok             \n",
       "...       ...             ...     ...         ...             \n",
       "9353  7100.0        362313.0   Krzyki        blok             \n",
       "9354  7575.0        362063.0   Krzyki        blok             \n",
       "9355  7094.0        362000.0   Krzyki        blok             \n",
       "9356  6933.0        361900.0   Psie Pole     blok             \n",
       "9357  9424.0        360000.0   Psie Pole     blok             \n",
       "\n",
       "[9358 rows x 9 columns]"
      ]
     },
     "execution_count": 113,
     "metadata": {},
     "output_type": "execute_result"
    }
   ],
   "source": [
    "df_imputed"
   ]
  },
  {
   "cell_type": "code",
   "execution_count": 114,
   "metadata": {},
   "outputs": [],
   "source": [
    "df_imputed.floor = df_imputed.floor.astype('int64')\n",
    "df_imputed.floor_number = df_imputed.floor_number.astype('int64')\n",
    "df_imputed.prod_year = df_imputed.prod_year.astype('int64')\n",
    "df_imputed.room_number = df_imputed.room_number.astype('int64')"
   ]
  },
  {
   "cell_type": "code",
   "execution_count": 115,
   "metadata": {},
   "outputs": [
    {
     "data": {
      "text/html": [
       "<div>\n",
       "<style scoped>\n",
       "    .dataframe tbody tr th:only-of-type {\n",
       "        vertical-align: middle;\n",
       "    }\n",
       "\n",
       "    .dataframe tbody tr th {\n",
       "        vertical-align: top;\n",
       "    }\n",
       "\n",
       "    .dataframe thead th {\n",
       "        text-align: right;\n",
       "    }\n",
       "</style>\n",
       "<table border=\"1\" class=\"dataframe\">\n",
       "  <thead>\n",
       "    <tr style=\"text-align: right;\">\n",
       "      <th></th>\n",
       "      <th>room_number</th>\n",
       "      <th>floor_number</th>\n",
       "      <th>floor</th>\n",
       "      <th>prod_year</th>\n",
       "      <th>flat_surface_m2</th>\n",
       "      <th>price_per_m2</th>\n",
       "      <th>price</th>\n",
       "    </tr>\n",
       "  </thead>\n",
       "  <tbody>\n",
       "    <tr>\n",
       "      <td>count</td>\n",
       "      <td>9358.00</td>\n",
       "      <td>9358.00</td>\n",
       "      <td>9358.00</td>\n",
       "      <td>9358.00</td>\n",
       "      <td>9358.00</td>\n",
       "      <td>9358.00</td>\n",
       "      <td>9358.00</td>\n",
       "    </tr>\n",
       "    <tr>\n",
       "      <td>mean</td>\n",
       "      <td>2.75</td>\n",
       "      <td>4.37</td>\n",
       "      <td>2.16</td>\n",
       "      <td>2020.16</td>\n",
       "      <td>58.67</td>\n",
       "      <td>8724.95</td>\n",
       "      <td>507907.30</td>\n",
       "    </tr>\n",
       "    <tr>\n",
       "      <td>std</td>\n",
       "      <td>0.96</td>\n",
       "      <td>2.27</td>\n",
       "      <td>1.79</td>\n",
       "      <td>5.23</td>\n",
       "      <td>21.83</td>\n",
       "      <td>2077.47</td>\n",
       "      <td>270827.66</td>\n",
       "    </tr>\n",
       "    <tr>\n",
       "      <td>min</td>\n",
       "      <td>1.00</td>\n",
       "      <td>1.00</td>\n",
       "      <td>0.00</td>\n",
       "      <td>1894.00</td>\n",
       "      <td>16.97</td>\n",
       "      <td>3840.00</td>\n",
       "      <td>128944.00</td>\n",
       "    </tr>\n",
       "    <tr>\n",
       "      <td>25%</td>\n",
       "      <td>2.00</td>\n",
       "      <td>3.00</td>\n",
       "      <td>1.00</td>\n",
       "      <td>2020.00</td>\n",
       "      <td>44.90</td>\n",
       "      <td>7220.50</td>\n",
       "      <td>379000.00</td>\n",
       "    </tr>\n",
       "    <tr>\n",
       "      <td>50%</td>\n",
       "      <td>3.00</td>\n",
       "      <td>4.00</td>\n",
       "      <td>2.00</td>\n",
       "      <td>2020.00</td>\n",
       "      <td>54.00</td>\n",
       "      <td>8425.00</td>\n",
       "      <td>449000.00</td>\n",
       "    </tr>\n",
       "    <tr>\n",
       "      <td>75%</td>\n",
       "      <td>3.00</td>\n",
       "      <td>5.00</td>\n",
       "      <td>3.00</td>\n",
       "      <td>2021.00</td>\n",
       "      <td>67.87</td>\n",
       "      <td>9759.00</td>\n",
       "      <td>552716.50</td>\n",
       "    </tr>\n",
       "    <tr>\n",
       "      <td>max</td>\n",
       "      <td>8.00</td>\n",
       "      <td>51.00</td>\n",
       "      <td>10.00</td>\n",
       "      <td>2023.00</td>\n",
       "      <td>305.82</td>\n",
       "      <td>35361.00</td>\n",
       "      <td>7500000.00</td>\n",
       "    </tr>\n",
       "  </tbody>\n",
       "</table>\n",
       "</div>"
      ],
      "text/plain": [
       "       room_number  floor_number    floor  prod_year  flat_surface_m2  \\\n",
       "count  9358.00      9358.00       9358.00  9358.00    9358.00           \n",
       "mean   2.75         4.37          2.16     2020.16    58.67             \n",
       "std    0.96         2.27          1.79     5.23       21.83             \n",
       "min    1.00         1.00          0.00     1894.00    16.97             \n",
       "25%    2.00         3.00          1.00     2020.00    44.90             \n",
       "50%    3.00         4.00          2.00     2020.00    54.00             \n",
       "75%    3.00         5.00          3.00     2021.00    67.87             \n",
       "max    8.00         51.00         10.00    2023.00    305.82            \n",
       "\n",
       "       price_per_m2       price  \n",
       "count  9358.00       9358.00     \n",
       "mean   8724.95       507907.30   \n",
       "std    2077.47       270827.66   \n",
       "min    3840.00       128944.00   \n",
       "25%    7220.50       379000.00   \n",
       "50%    8425.00       449000.00   \n",
       "75%    9759.00       552716.50   \n",
       "max    35361.00      7500000.00  "
      ]
     },
     "execution_count": 115,
     "metadata": {},
     "output_type": "execute_result"
    }
   ],
   "source": [
    "df_imputed.describe().round(decimals=2)"
   ]
  },
  {
   "cell_type": "code",
   "execution_count": 116,
   "metadata": {},
   "outputs": [],
   "source": [
    "df_imputed.to_csv('flats_wroclaw_final.csv',index=False)"
   ]
  },
  {
   "cell_type": "markdown",
   "metadata": {},
   "source": [
    "## MISSFOREST ALGORITHM TEST"
   ]
  },
  {
   "cell_type": "code",
   "execution_count": 118,
   "metadata": {},
   "outputs": [],
   "source": [
    "# Generate unique lists of random integers\n",
    "inds1 = list(set(np.random.randint(0, len(df_without_nan), 10)))\n",
    "inds2 = list(set(np.random.randint(0, len(df_without_nan), 15)))\n",
    "\n",
    "# Replace the values at given index position with NaNs\n",
    "# df_nan['price'] = [val if i not in inds1 else np.nan for i, val in enumerate(df_nan['price'])]\n",
    "df_without_nan['room_number'] = [val if i not in inds1 else np.nan for i, val in enumerate(df_without_nan['room_number'])]\n",
    "df_without_nan['floor'] = [val if i not in inds2 else np.nan for i, val in enumerate(df_without_nan['floor'])]\n",
    "# df_nan['price_per_m2'] = [val if i not in inds2 else np.nan for i, val in enumerate(df_nan['price_per_m2'])]\n",
    "\n",
    "\n",
    "# Get count of missing values by column\n",
    "df_without_nan.isnull().sum()"
   ]
  },
  {
   "cell_type": "code",
   "execution_count": null,
   "metadata": {},
   "outputs": [],
   "source": [
    "df_orygi = df_nan.dropna().copy()"
   ]
  },
  {
   "cell_type": "code",
   "execution_count": null,
   "metadata": {},
   "outputs": [],
   "source": [
    "from missingpy import MissForest\n",
    "imputer = MissForest(random_state=100)\n",
    "X = df_nan_drop.drop(columns=['district','building_type','price','price_per_m2','flat_surface_m2','prod_year'],axis=1)\n",
    "X_imputed = imputer.fit_transform(X)"
   ]
  },
  {
   "cell_type": "code",
   "execution_count": null,
   "metadata": {},
   "outputs": [],
   "source": [
    "# df_nan['MF_price'] = X_imputed[:, 0]\n",
    "df_orygi['MF_room_number'] = X_imputed[:, 0]\n",
    "df_orygi['MF_floor'] = X_imputed[:, 2]\n",
    "# df_nan['MF_price_per_m2'] = X_imputed[:, 6]\n",
    "# comparison_df = df_nan[['price', 'MF_price', 'room_number', 'MF_room_number', 'floor','MF_floor','price_per_m2','MF_price_per_m2']]\n",
    "comparison_df = df_orygi[['room_number', 'MF_room_number', 'floor','MF_floor']]\n",
    "# comparison_df['ABS_ERROR_price'] = np.abs(comparison_df['price'] - comparison_df['MF_price'])\n",
    "comparison_df['ABS_ERROR_room_number'] = np.abs(comparison_df['room_number'] - comparison_df['MF_room_number'])\n",
    "comparison_df['ABS_ERROR_floor'] = np.abs(comparison_df['floor'] - comparison_df['MF_floor'])\n",
    "# comparison_df['ABS_ERROR_price_per_m2'] = np.abs(comparison_df['price_per_m2'] - comparison_df['MF_price_per_m2'])\n",
    "comparison_df.round(decimals=2)\n",
    "comparison_df.iloc[sorted([*inds1, *inds2])].head(59)"
   ]
  },
  {
   "cell_type": "code",
   "execution_count": null,
   "metadata": {},
   "outputs": [],
   "source": [
    "columns = list(df_nan.columns)\n",
    "columns.remove('district')\n",
    "columns.remove('building_type')"
   ]
  },
  {
   "cell_type": "code",
   "execution_count": null,
   "metadata": {},
   "outputs": [],
   "source": [
    "df_imputed = pd.DataFrame(data=Xtransform,columns=columns)"
   ]
  },
  {
   "cell_type": "markdown",
   "metadata": {},
   "source": [
    "#### This option displays full DataFrame"
   ]
  },
  {
   "cell_type": "code",
   "execution_count": null,
   "metadata": {},
   "outputs": [],
   "source": [
    "pd.set_option('display.max_rows', df.shape[0]+1)"
   ]
  }
 ],
 "metadata": {
  "kernelspec": {
   "display_name": "Python 3",
   "language": "python",
   "name": "python3"
  },
  "language_info": {
   "codemirror_mode": {
    "name": "ipython",
    "version": 3
   },
   "file_extension": ".py",
   "mimetype": "text/x-python",
   "name": "python",
   "nbconvert_exporter": "python",
   "pygments_lexer": "ipython3",
   "version": "3.7.4"
  }
 },
 "nbformat": 4,
 "nbformat_minor": 4
}
