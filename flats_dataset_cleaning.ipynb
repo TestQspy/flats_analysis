{
 "cells": [
  {
   "cell_type": "code",
   "execution_count": 1,
   "metadata": {},
   "outputs": [],
   "source": [
    "import pandas as pd\n",
    "import numpy as np"
   ]
  },
  {
   "cell_type": "code",
   "execution_count": 2,
   "metadata": {
    "scrolled": true
   },
   "outputs": [],
   "source": [
    "df = pd.read_csv(\"data_set_utf8.csv\")"
   ]
  },
  {
   "cell_type": "code",
   "execution_count": null,
   "metadata": {},
   "outputs": [],
   "source": [
    "df.dtypes"
   ]
  },
  {
   "cell_type": "code",
   "execution_count": null,
   "metadata": {},
   "outputs": [],
   "source": [
    "df.shape"
   ]
  },
  {
   "cell_type": "code",
   "execution_count": null,
   "metadata": {},
   "outputs": [],
   "source": [
    "print(df.isna().sum().sort_values(ascending=False))\n",
    "# print(df.isna().sum())"
   ]
  },
  {
   "cell_type": "code",
   "execution_count": 36,
   "metadata": {},
   "outputs": [],
   "source": [
    "def missing(dff):\n",
    "    print (round((dff.isnull().sum() * 100/ len(dff)),2).sort_values(ascending=False))"
   ]
  },
  {
   "cell_type": "code",
   "execution_count": null,
   "metadata": {
    "scrolled": true
   },
   "outputs": [],
   "source": [
    "df.head(30)"
   ]
  },
  {
   "cell_type": "code",
   "execution_count": 3,
   "metadata": {},
   "outputs": [],
   "source": [
    "# Wyświetlanie całego wiersza \n",
    "pd.set_option('display.max_colwidth', -1)"
   ]
  },
  {
   "cell_type": "markdown",
   "metadata": {},
   "source": [
    "#### Id"
   ]
  },
  {
   "cell_type": "code",
   "execution_count": null,
   "metadata": {},
   "outputs": [],
   "source": [
    "# ile pustych\n",
    "len(df[df.id.isna()])\n",
    "# ile unikalnych wartości\n",
    "len(df.id.unique())\n",
    "# id\n",
    "df.id.head()"
   ]
  },
  {
   "cell_type": "markdown",
   "metadata": {},
   "source": [
    "<b>offer-item-ad_id48H25</b> <--- wygląd pojedyńczej wartości\n",
    "<br>\n",
    "<b>id48H25</b> <--- wygląd docelowy"
   ]
  },
  {
   "cell_type": "code",
   "execution_count": 4,
   "metadata": {},
   "outputs": [],
   "source": [
    "df['id'] = df['id'].apply(lambda x: x.split('_')[1])"
   ]
  },
  {
   "cell_type": "code",
   "execution_count": null,
   "metadata": {},
   "outputs": [],
   "source": [
    "df.id.head()"
   ]
  },
  {
   "cell_type": "markdown",
   "metadata": {},
   "source": [
    "#### district"
   ]
  },
  {
   "cell_type": "code",
   "execution_count": null,
   "metadata": {},
   "outputs": [],
   "source": [
    "df.district.head()"
   ]
  },
  {
   "cell_type": "markdown",
   "metadata": {},
   "source": [
    "<b>Mieszkanie na sprzedaż: Wrocław, Fabryczna, Grabiszynek</b> <--- tak wygląda surowa wartość\n",
    "<br>\n",
    "<b>Fabryczna</b> <--- docelowa wartość\n",
    "<br>\n",
    "Dodatkowo pojawia się wartości dzielnicy: \n",
    "<ul>\n",
    "    <li><b>dolnośląskie</b> - w przypadku takiej wartości wstawiam <i>np.NaN</i></li>\n",
    "    <li><b>Rynek</b> - w przypadku takiej wartości wstawiam <i>Stare Miasto</i></li>\n",
    "    <li><b>Nadodrze</b> - w przypadku takiej wartości wstawiam <i>Śródmieście</i></li> \n",
    "</ul>"
   ]
  },
  {
   "cell_type": "code",
   "execution_count": 5,
   "metadata": {},
   "outputs": [],
   "source": [
    "df['district'] = df['district'].apply(lambda x: np.NaN if x.split(',')[1].strip() == 'dolnośląskie' \n",
    "                                      else x.split(',')[1].strip().replace(\"Rynek\",\"Stare Miasto\").replace(\"Nadodrze\",\"Śródmieście\")) "
   ]
  },
  {
   "cell_type": "code",
   "execution_count": null,
   "metadata": {},
   "outputs": [],
   "source": [
    "df.district.unique()"
   ]
  },
  {
   "cell_type": "code",
   "execution_count": null,
   "metadata": {},
   "outputs": [],
   "source": [
    "df.district.head()"
   ]
  },
  {
   "cell_type": "markdown",
   "metadata": {},
   "source": [
    "#### Price"
   ]
  },
  {
   "cell_type": "code",
   "execution_count": null,
   "metadata": {},
   "outputs": [],
   "source": [
    "df.price.head()"
   ]
  },
  {
   "cell_type": "markdown",
   "metadata": {},
   "source": [
    "<b>590 000 zł</b> <--- tak wygląda surowa wartość\n",
    "<br>\n",
    "<b>590000.0</b> <--- docelowa wartość\n",
    "<br>\n",
    "Dodatkowo pojawia się wartości ceny: \n",
    "<ul>\n",
    "    <li><b>Zapytaj o cenę</b> - w przypadku takiej wartości wstawiam <i>np.NaN</i></li>\n",
    "</ul>"
   ]
  },
  {
   "cell_type": "code",
   "execution_count": 6,
   "metadata": {
    "scrolled": true
   },
   "outputs": [],
   "source": [
    "df['price'] = df['price'].apply(lambda x: pd.to_numeric(x.split(' z')[0].strip().replace(' ', '').replace(',','.')) \n",
    "                                if x.lower() != 'zapytaj o cenę' else np.NaN)"
   ]
  },
  {
   "cell_type": "code",
   "execution_count": null,
   "metadata": {},
   "outputs": [],
   "source": [
    "df.price.head()"
   ]
  },
  {
   "cell_type": "code",
   "execution_count": null,
   "metadata": {},
   "outputs": [],
   "source": [
    "len(df.price.unique())"
   ]
  },
  {
   "cell_type": "code",
   "execution_count": null,
   "metadata": {},
   "outputs": [],
   "source": [
    "len(df[df.price.isna()])"
   ]
  },
  {
   "cell_type": "markdown",
   "metadata": {},
   "source": [
    "#### Price per m2"
   ]
  },
  {
   "cell_type": "code",
   "execution_count": null,
   "metadata": {
    "scrolled": true
   },
   "outputs": [],
   "source": [
    "df.price_per_m2.head()"
   ]
  },
  {
   "cell_type": "markdown",
   "metadata": {},
   "source": [
    "<b>8 309 zł/m²</b> <--- tak wygląda surowa wartość\n",
    "<br>\n",
    "<b>8309.0</b> <--- docelowa wartość"
   ]
  },
  {
   "cell_type": "code",
   "execution_count": 7,
   "metadata": {},
   "outputs": [],
   "source": [
    "df['price_per_m2'] = df['price_per_m2'].apply(lambda x: pd.to_numeric(x.split('z')[0].strip().replace(' ','')) \n",
    "                                              if pd.notna(x) else np.NaN)"
   ]
  },
  {
   "cell_type": "code",
   "execution_count": null,
   "metadata": {},
   "outputs": [],
   "source": [
    "df.price_per_m2.head()"
   ]
  },
  {
   "cell_type": "code",
   "execution_count": null,
   "metadata": {},
   "outputs": [],
   "source": [
    "len(df[df.price_per_m2.isna()])"
   ]
  },
  {
   "cell_type": "markdown",
   "metadata": {},
   "source": [
    "#### Floor"
   ]
  },
  {
   "cell_type": "code",
   "execution_count": null,
   "metadata": {},
   "outputs": [],
   "source": [
    "df.floor.head()"
   ]
  },
  {
   "cell_type": "code",
   "execution_count": null,
   "metadata": {
    "scrolled": true
   },
   "outputs": [],
   "source": [
    "df.floor.unique()"
   ]
  },
  {
   "cell_type": "code",
   "execution_count": null,
   "metadata": {},
   "outputs": [],
   "source": [
    "df2 = df[['floor_number','floor']].copy()\n",
    "df2.floor = df2.floor.apply(lambda x: x.split(':')[1].strip() if pd.notnull(x) else np.NaN)\n",
    "df2.floor_number = df.floor_number.apply(lambda x: x.split(':')[1].strip() if pd.notnull(x) else np.NaN)\n",
    "parter = df2[df2['floor'] == 'parter'].copy()\n",
    "parter.floor_number = parter.floor_number.apply(lambda x: pd.to_numeric(x))\n",
    "# średnia wartość liczby pięter w budnyku, który posiada mieszkanie na poddaszu w kolumnie floor\n",
    "print(\"Mean of floor_number column rounded up and having 'poddasze' in floor value: \", round(parter.floor_number.mean()))\n",
    "# parter[parter.floor == 'Piętro: > 10']\n",
    "df2.floor.unique()\n",
    "more_than_10 = df2[df2['floor'] == '> 10'].copy()\n",
    "# more_then_10.floor.apply(lambda x: pd.to_numeric(x.split(' ')[1]))\n",
    "more_than_10.floor_number = more_than_10.floor_number.apply(lambda x: pd.to_numeric(x))"
   ]
  },
  {
   "cell_type": "code",
   "execution_count": null,
   "metadata": {},
   "outputs": [],
   "source": [
    "more_than_10.floor_number.median()"
   ]
  },
  {
   "cell_type": "code",
   "execution_count": null,
   "metadata": {},
   "outputs": [],
   "source": [
    "print(\"Median of floor_number column rounded up and having '> 10' in floor value: \", round(more_than_10.floor_number.median()))"
   ]
  },
  {
   "cell_type": "markdown",
   "metadata": {},
   "source": [
    "<b>Piętro: 3</b> <--- tak wygląda surowa wartość\n",
    "<br>\n",
    "<b>3.0</b> <--- docelowa wartość\n",
    "<br>\n",
    "Dodatkowo pojawia się wartości pięter takie jak: \n",
    "<ul>\n",
    "    <li>\n",
    "        <b>parter</b> - w przypadku takiej wartości wstawiam <i>0</i> ponieważ w polsce liczone jest to jako zerowe piętro\n",
    "    </li>\n",
    "    <li>\n",
    "        <b>suterena</b> - w przypadku takiej wartości wstawiam <i>-1</i> ponieważ jest to mieszkanie poniżej poziomu ulicy, czasami w połowie wystające ponad\n",
    "    </li>\n",
    "    <li><b>poddasze</b> - w przypadku takiej wartości wstawiam <i>4</i> ponieważ postanowiłem wstawić w ty miejscu  wartość uśrednioną i zaokrągloną, liczby pięter we wszystkich wierszach posiadających wartość \"poddasze\" w kolumnie floor</li>\n",
    "    <li>\n",
    "        <b> 10</b> - w przypadku takiej wartości wstawiam <i>17</i> ponieważ jest to mediana wszystkich wierszy z kolumny floor_number (liczba pięter) gdzie floor = > 10 \n",
    "        \n",
    "        ALBO DAM NAN żeby algorytm wrzucił\n",
    "    </li>\n",
    "</ul>"
   ]
  },
  {
   "cell_type": "code",
   "execution_count": 8,
   "metadata": {},
   "outputs": [],
   "source": [
    "df['floor'] = df['floor'].apply(lambda x: x if x != 'Piętro: > 10' else np.NaN)"
   ]
  },
  {
   "cell_type": "code",
   "execution_count": 9,
   "metadata": {},
   "outputs": [],
   "source": [
    "df['floor'] = df['floor'].apply(lambda x: pd.to_numeric(x.split(':')[1].strip().replace('parter','0').replace('suterena','-1').replace('poddasze','4')) \n",
    "                                if pd.notnull(x) else np.NaN)"
   ]
  },
  {
   "cell_type": "code",
   "execution_count": null,
   "metadata": {},
   "outputs": [],
   "source": [
    "len(df[df.floor.isna()])"
   ]
  },
  {
   "cell_type": "code",
   "execution_count": null,
   "metadata": {},
   "outputs": [],
   "source": [
    "df.floor.unique()"
   ]
  },
  {
   "cell_type": "code",
   "execution_count": null,
   "metadata": {},
   "outputs": [],
   "source": [
    "df.floor.head()"
   ]
  },
  {
   "cell_type": "markdown",
   "metadata": {},
   "source": [
    "#### Floor number"
   ]
  },
  {
   "cell_type": "code",
   "execution_count": null,
   "metadata": {
    "scrolled": true
   },
   "outputs": [],
   "source": [
    "df.floor_number.head()"
   ]
  },
  {
   "cell_type": "code",
   "execution_count": null,
   "metadata": {},
   "outputs": [],
   "source": [
    "df.floor_number.unique()"
   ]
  },
  {
   "cell_type": "markdown",
   "metadata": {},
   "source": [
    "<b>Liczba pięter: 6</b> <--- tak wygląda surowa wartość\n",
    "<br>\n",
    "<b>6.0</b> <--- docelowa wartość\n",
    "<br>\n",
    "Dodatkowo pojawia się wartoś piętra taka jak: \n",
    "<ul>\n",
    "    <li>\n",
    "        <b>100</b> - w przypadku takiej wartości wstawiam <i>4</i> ponieważ jest to średnia wszystkich pięter\n",
    "    </li>\n",
    "</ul>"
   ]
  },
  {
   "cell_type": "code",
   "execution_count": 10,
   "metadata": {},
   "outputs": [],
   "source": [
    "df['floor_number'] = df['floor_number'].apply(lambda x: pd.to_numeric(x.split(':')[1].strip()) if pd.notnull(x) else np.NaN)"
   ]
  },
  {
   "cell_type": "code",
   "execution_count": null,
   "metadata": {},
   "outputs": [],
   "source": [
    "df.floor_number.head()"
   ]
  },
  {
   "cell_type": "code",
   "execution_count": null,
   "metadata": {},
   "outputs": [],
   "source": [
    "df.floor_number.unique()"
   ]
  },
  {
   "cell_type": "code",
   "execution_count": null,
   "metadata": {},
   "outputs": [],
   "source": [
    "df.floor_number.describe()"
   ]
  },
  {
   "cell_type": "code",
   "execution_count": null,
   "metadata": {},
   "outputs": [],
   "source": [
    "df.floor_number.median()"
   ]
  },
  {
   "cell_type": "code",
   "execution_count": 11,
   "metadata": {},
   "outputs": [],
   "source": [
    "df['floor_number'] = df['floor_number'].apply(lambda x: np.NaN if x == 100 else x)"
   ]
  },
  {
   "cell_type": "code",
   "execution_count": 12,
   "metadata": {},
   "outputs": [
    {
     "data": {
      "text/html": [
       "<div>\n",
       "<style scoped>\n",
       "    .dataframe tbody tr th:only-of-type {\n",
       "        vertical-align: middle;\n",
       "    }\n",
       "\n",
       "    .dataframe tbody tr th {\n",
       "        vertical-align: top;\n",
       "    }\n",
       "\n",
       "    .dataframe thead th {\n",
       "        text-align: right;\n",
       "    }\n",
       "</style>\n",
       "<table border=\"1\" class=\"dataframe\">\n",
       "  <thead>\n",
       "    <tr style=\"text-align: right;\">\n",
       "      <th></th>\n",
       "      <th>id</th>\n",
       "      <th>district</th>\n",
       "      <th>price</th>\n",
       "      <th>price_per_m2</th>\n",
       "      <th>floor</th>\n",
       "      <th>floor_number</th>\n",
       "      <th>prod_year</th>\n",
       "      <th>rent</th>\n",
       "      <th>market</th>\n",
       "      <th>building_type</th>\n",
       "      <th>finish_condition</th>\n",
       "      <th>flat_surface_m2</th>\n",
       "      <th>room_number</th>\n",
       "    </tr>\n",
       "  </thead>\n",
       "  <tbody>\n",
       "  </tbody>\n",
       "</table>\n",
       "</div>"
      ],
      "text/plain": [
       "Empty DataFrame\n",
       "Columns: [id, district, price, price_per_m2, floor, floor_number, prod_year, rent, market, building_type, finish_condition, flat_surface_m2, room_number]\n",
       "Index: []"
      ]
     },
     "execution_count": 12,
     "metadata": {},
     "output_type": "execute_result"
    }
   ],
   "source": [
    "df[df['floor_number'] == 100]"
   ]
  },
  {
   "cell_type": "markdown",
   "metadata": {},
   "source": [
    "#### Production Year"
   ]
  },
  {
   "cell_type": "code",
   "execution_count": null,
   "metadata": {
    "scrolled": true
   },
   "outputs": [],
   "source": [
    "df.prod_year.head()"
   ]
  },
  {
   "cell_type": "code",
   "execution_count": null,
   "metadata": {
    "scrolled": true
   },
   "outputs": [],
   "source": [
    "df.prod_year.unique()"
   ]
  },
  {
   "cell_type": "code",
   "execution_count": null,
   "metadata": {},
   "outputs": [],
   "source": [
    "print('Rok budowy: 80, ilość przypadków: ',len(df[df.prod_year == \"Rok budowy: 80\"]))\n",
    "print('Rok budowy: 90, ilość przypadków: ',len(df[df.prod_year == \"Rok budowy: 90\"]))\n",
    "print('Rok budowy: 93, ilość przypadków: ',len(df[df.prod_year == \"Rok budowy: 93\"]))\n",
    "print('Rok budowy: 95, ilość przypadków: ',len(df[df.prod_year == \"Rok budowy: 95\"]))\n",
    "print('Rok budowy: 1, ilość przypadków: ',len(df[df.prod_year == \"Rok budowy: 1\"]))\n",
    "print('Rok budowy: 19, ilość przypadków: ',len(df[df.prod_year == \"Rok budowy: 19\"]))\n",
    "print('Rok budowy: 202, ilość przypadków: ',len(df[df.prod_year == \"Rok budowy: 202\"]))\n",
    "print('Rok budowy: 1196, ilość przypadków: ',len(df[df.prod_year == \"Rok budowy: 1196\"]))\n",
    "print('Rok budowy: 20521, ilość przypadków: ',len(df[df.prod_year == \"Rok budowy: 20521\"]))"
   ]
  },
  {
   "cell_type": "markdown",
   "metadata": {},
   "source": [
    "<b>Rok budowy: 1930</b> <--- tak wygląda surowa wartość\n",
    "<br>\n",
    "<b>1930</b> <--- docelowa wartość\n",
    "<br>\n",
    "Dodatkowo pojawia się wartości rok takie jak: \n",
    "<ul>\n",
    "    <li>\n",
    "        <b>93, 95, 90, 80</b> - założenie jest takie, że w przypadku tych wartości jest to końcówka 19**, dlatego wstawiam <i>19</i> przed każdy z tych liczb\n",
    "    </li>\n",
    "    <li>\n",
    "        <b>1</b> - za tę wartość wstawiam <i>np.NaN</i> (3 obiekty)\n",
    "    </li>\n",
    "    <li>\n",
    "        <b>20521</b> - założenie, że miał być roku <i>2021</i> (rynek pierwotny)\n",
    "    </li>\n",
    "    <li>\n",
    "        <b>19</b> - założenie, że miał być roku <i>2019</i>\n",
    "    </li>\n",
    "    <li>\n",
    "        <b>202</b> - założenie, że miał być roku <i>2020</i> (rynek pierwotny)\n",
    "    </li>\n",
    "    <li>\n",
    "        <b>1196</b> - za tę wartość wstawiam <i>np.NaN</i>\n",
    "    </li>\n",
    "</ul>"
   ]
  },
  {
   "cell_type": "code",
   "execution_count": 13,
   "metadata": {},
   "outputs": [],
   "source": [
    "df['prod_year'] = df['prod_year'].apply(lambda x: pd.to_numeric(x.split(':')[1].strip()) if pd.notnull(x) else np.NaN)"
   ]
  },
  {
   "cell_type": "code",
   "execution_count": 14,
   "metadata": {},
   "outputs": [],
   "source": [
    "df['prod_year'] = df['prod_year'].apply(lambda x: x+1900 if x == 93 or x == 95 or x == 90 or x == 80 else x)"
   ]
  },
  {
   "cell_type": "code",
   "execution_count": 15,
   "metadata": {},
   "outputs": [],
   "source": [
    "df['prod_year'] = df['prod_year'].apply(lambda x: np.NaN if x == 1 else x)"
   ]
  },
  {
   "cell_type": "code",
   "execution_count": 16,
   "metadata": {},
   "outputs": [],
   "source": [
    "df['prod_year'] = df['prod_year'].apply(lambda x: x+2000 if x == 19 else x)"
   ]
  },
  {
   "cell_type": "code",
   "execution_count": 17,
   "metadata": {},
   "outputs": [],
   "source": [
    "df['prod_year'] = df['prod_year'].apply(lambda x: x+1818 if x == 202 else x)"
   ]
  },
  {
   "cell_type": "code",
   "execution_count": 18,
   "metadata": {},
   "outputs": [],
   "source": [
    "df['prod_year'] = df['prod_year'].apply(lambda x: np.NaN if x == 1196 else x)"
   ]
  },
  {
   "cell_type": "code",
   "execution_count": 19,
   "metadata": {},
   "outputs": [],
   "source": [
    "df['prod_year'] = df['prod_year'].apply(lambda x: x-18500 if x == 20521 else x)"
   ]
  },
  {
   "cell_type": "code",
   "execution_count": 20,
   "metadata": {},
   "outputs": [
    {
     "data": {
      "text/html": [
       "<div>\n",
       "<style scoped>\n",
       "    .dataframe tbody tr th:only-of-type {\n",
       "        vertical-align: middle;\n",
       "    }\n",
       "\n",
       "    .dataframe tbody tr th {\n",
       "        vertical-align: top;\n",
       "    }\n",
       "\n",
       "    .dataframe thead th {\n",
       "        text-align: right;\n",
       "    }\n",
       "</style>\n",
       "<table border=\"1\" class=\"dataframe\">\n",
       "  <thead>\n",
       "    <tr style=\"text-align: right;\">\n",
       "      <th></th>\n",
       "      <th>id</th>\n",
       "      <th>district</th>\n",
       "      <th>price</th>\n",
       "      <th>price_per_m2</th>\n",
       "      <th>floor</th>\n",
       "      <th>floor_number</th>\n",
       "      <th>prod_year</th>\n",
       "      <th>rent</th>\n",
       "      <th>market</th>\n",
       "      <th>building_type</th>\n",
       "      <th>finish_condition</th>\n",
       "      <th>flat_surface_m2</th>\n",
       "      <th>room_number</th>\n",
       "    </tr>\n",
       "  </thead>\n",
       "  <tbody>\n",
       "    <tr>\n",
       "      <td>1136</td>\n",
       "      <td>id48Fdc</td>\n",
       "      <td>Fabryczna</td>\n",
       "      <td>453177.0</td>\n",
       "      <td>6450.0</td>\n",
       "      <td>2.0</td>\n",
       "      <td>3.0</td>\n",
       "      <td>2031.0</td>\n",
       "      <td>Czynsz: 500 zł</td>\n",
       "      <td>Rynek: pierwotny</td>\n",
       "      <td>Rodzaj zabudowy: blok</td>\n",
       "      <td>Stan wykończenia: do wykończenia</td>\n",
       "      <td>70,26 m²</td>\n",
       "      <td>4 pokoje</td>\n",
       "    </tr>\n",
       "    <tr>\n",
       "      <td>2218</td>\n",
       "      <td>id48dOi</td>\n",
       "      <td>Krzyki</td>\n",
       "      <td>667275.0</td>\n",
       "      <td>7750.0</td>\n",
       "      <td>0.0</td>\n",
       "      <td>3.0</td>\n",
       "      <td>2023.0</td>\n",
       "      <td>Czynsz: 750 zł</td>\n",
       "      <td>Rynek: pierwotny</td>\n",
       "      <td>Rodzaj zabudowy: blok</td>\n",
       "      <td>Stan wykończenia: do wykończenia</td>\n",
       "      <td>86,10 m²</td>\n",
       "      <td>5 pokoi</td>\n",
       "    </tr>\n",
       "    <tr>\n",
       "      <td>7048</td>\n",
       "      <td>id48dSZ</td>\n",
       "      <td>Krzyki</td>\n",
       "      <td>448560.0</td>\n",
       "      <td>7200.0</td>\n",
       "      <td>1.0</td>\n",
       "      <td>2.0</td>\n",
       "      <td>2023.0</td>\n",
       "      <td>Czynsz: 500 zł</td>\n",
       "      <td>Rynek: pierwotny</td>\n",
       "      <td>Rodzaj zabudowy: blok</td>\n",
       "      <td>Stan wykończenia: do wykończenia</td>\n",
       "      <td>62,30 m²</td>\n",
       "      <td>3 pokoje</td>\n",
       "    </tr>\n",
       "    <tr>\n",
       "      <td>8174</td>\n",
       "      <td>id48dT1</td>\n",
       "      <td>Krzyki</td>\n",
       "      <td>426600.0</td>\n",
       "      <td>7900.0</td>\n",
       "      <td>0.0</td>\n",
       "      <td>2.0</td>\n",
       "      <td>2023.0</td>\n",
       "      <td>Czynsz: 450 zł</td>\n",
       "      <td>Rynek: pierwotny</td>\n",
       "      <td>Rodzaj zabudowy: blok</td>\n",
       "      <td>Stan wykończenia: do wykończenia</td>\n",
       "      <td>54 m²</td>\n",
       "      <td>3 pokoje</td>\n",
       "    </tr>\n",
       "  </tbody>\n",
       "</table>\n",
       "</div>"
      ],
      "text/plain": [
       "           id   district     price  price_per_m2  floor  floor_number  \\\n",
       "1136  id48Fdc  Fabryczna  453177.0  6450.0        2.0    3.0            \n",
       "2218  id48dOi  Krzyki     667275.0  7750.0        0.0    3.0            \n",
       "7048  id48dSZ  Krzyki     448560.0  7200.0        1.0    2.0            \n",
       "8174  id48dT1  Krzyki     426600.0  7900.0        0.0    2.0            \n",
       "\n",
       "      prod_year            rent            market          building_type  \\\n",
       "1136  2031.0     Czynsz: 500 zł  Rynek: pierwotny  Rodzaj zabudowy: blok   \n",
       "2218  2023.0     Czynsz: 750 zł  Rynek: pierwotny  Rodzaj zabudowy: blok   \n",
       "7048  2023.0     Czynsz: 500 zł  Rynek: pierwotny  Rodzaj zabudowy: blok   \n",
       "8174  2023.0     Czynsz: 450 zł  Rynek: pierwotny  Rodzaj zabudowy: blok   \n",
       "\n",
       "                      finish_condition flat_surface_m2 room_number  \n",
       "1136  Stan wykończenia: do wykończenia  70,26 m²        4 pokoje    \n",
       "2218  Stan wykończenia: do wykończenia  86,10 m²        5 pokoi     \n",
       "7048  Stan wykończenia: do wykończenia  62,30 m²        3 pokoje    \n",
       "8174  Stan wykończenia: do wykończenia  54 m²           3 pokoje    "
      ]
     },
     "execution_count": 20,
     "metadata": {},
     "output_type": "execute_result"
    }
   ],
   "source": [
    "df[df.prod_year >= 2023]"
   ]
  },
  {
   "cell_type": "code",
   "execution_count": 21,
   "metadata": {},
   "outputs": [],
   "source": [
    "df['prod_year'] = df['prod_year'].apply(lambda x: x - 10 if x == 2031 else x)"
   ]
  },
  {
   "cell_type": "code",
   "execution_count": null,
   "metadata": {},
   "outputs": [],
   "source": [
    "df.prod_year.unique()"
   ]
  },
  {
   "cell_type": "markdown",
   "metadata": {},
   "source": [
    "#### Rent"
   ]
  },
  {
   "cell_type": "code",
   "execution_count": null,
   "metadata": {
    "scrolled": true
   },
   "outputs": [],
   "source": [
    "df.rent.head()"
   ]
  },
  {
   "cell_type": "code",
   "execution_count": null,
   "metadata": {},
   "outputs": [],
   "source": [
    "(df.rent.unique())"
   ]
  },
  {
   "cell_type": "markdown",
   "metadata": {},
   "source": [
    "<b>Czynsz: 375 zł</b> <--- tak wygląda surowa wartość\n",
    "<br>\n",
    "<b>375.0</b> <--- docelowa wartość\n",
    "<br>\n",
    "Dodatkowo pojawia się wartości czynszu takie jak: \n",
    "<ul>\n",
    "    <li>\n",
    "        <b>9, 8, 1, 6, 7.4, 4, 12, 7, 1.1, 10, 0.1, 50, 90, 5.5, 70, 8.5, 3, 30, 2, 37, 42</b> - założenie jest takie, że w przypadku tych wartości wstawiam <i>np.NaN</i> ponieważ jest to oczywiście nie prawdziwe\n",
    "    </li>\n",
    "</ul>"
   ]
  },
  {
   "cell_type": "code",
   "execution_count": 22,
   "metadata": {},
   "outputs": [],
   "source": [
    "df['rent'] = df['rent'].apply(lambda x: pd.to_numeric(x.split(':')[1].split('z')[0].replace(' ','').replace(',','.').strip()) \n",
    "                              if pd.notnull(x) else np.NaN)"
   ]
  },
  {
   "cell_type": "code",
   "execution_count": 23,
   "metadata": {},
   "outputs": [],
   "source": [
    "df.rent = df.rent.apply(lambda x: np.NaN if x in [9, 8, 1, 6, 7.4, 4, 12, 7, 1.1, 10, 0.1, 50, 90, 5.5, 70, 8.5, 3, 30, \n",
    "                                                  2, 37, 42 ] else x)"
   ]
  },
  {
   "cell_type": "code",
   "execution_count": null,
   "metadata": {
    "scrolled": true
   },
   "outputs": [],
   "source": [
    "df.rent.unique()"
   ]
  },
  {
   "cell_type": "code",
   "execution_count": null,
   "metadata": {},
   "outputs": [],
   "source": [
    "df.rent.head()"
   ]
  },
  {
   "cell_type": "markdown",
   "metadata": {},
   "source": [
    "#### Market"
   ]
  },
  {
   "cell_type": "code",
   "execution_count": null,
   "metadata": {
    "scrolled": true
   },
   "outputs": [],
   "source": [
    "df.market.head()"
   ]
  },
  {
   "cell_type": "markdown",
   "metadata": {},
   "source": [
    "<b>Rynek: pierwotny</b> <--- tak wygląda surowa wartość\n",
    "<br>\n",
    "<b>pierwotny</b> <--- docelowa wartość"
   ]
  },
  {
   "cell_type": "code",
   "execution_count": 24,
   "metadata": {},
   "outputs": [],
   "source": [
    "df['market'] = df['market'].apply(lambda x: x.split(':')[1].strip() if pd.notnull(x) else np.NaN)"
   ]
  },
  {
   "cell_type": "code",
   "execution_count": null,
   "metadata": {},
   "outputs": [],
   "source": [
    "df.market.head()"
   ]
  },
  {
   "cell_type": "code",
   "execution_count": null,
   "metadata": {},
   "outputs": [],
   "source": [
    "df.market.unique()"
   ]
  },
  {
   "cell_type": "code",
   "execution_count": null,
   "metadata": {},
   "outputs": [],
   "source": [
    "df.market.isnull().sum()"
   ]
  },
  {
   "cell_type": "markdown",
   "metadata": {},
   "source": [
    "#### Building Type"
   ]
  },
  {
   "cell_type": "code",
   "execution_count": null,
   "metadata": {},
   "outputs": [],
   "source": [
    "df.building_type.head()"
   ]
  },
  {
   "cell_type": "markdown",
   "metadata": {},
   "source": [
    "<b>Rodzaj zabudowy: kamienica</b> <--- tak wygląda surowa wartość\n",
    "<br>\n",
    "<b>kamienica</b> <--- docelowa wartość"
   ]
  },
  {
   "cell_type": "code",
   "execution_count": null,
   "metadata": {},
   "outputs": [],
   "source": [
    "df.building_type.unique()"
   ]
  },
  {
   "cell_type": "code",
   "execution_count": 25,
   "metadata": {},
   "outputs": [],
   "source": [
    "df['building_type'] = df['building_type'].apply(lambda x: x.split(':')[1].strip() if pd.notnull(x) else np.NaN)"
   ]
  },
  {
   "cell_type": "code",
   "execution_count": null,
   "metadata": {},
   "outputs": [],
   "source": [
    "df.building_type.unique()"
   ]
  },
  {
   "cell_type": "markdown",
   "metadata": {},
   "source": [
    "#### Finish Condition"
   ]
  },
  {
   "cell_type": "code",
   "execution_count": null,
   "metadata": {
    "scrolled": true
   },
   "outputs": [],
   "source": [
    "df.finish_condition.head()"
   ]
  },
  {
   "cell_type": "code",
   "execution_count": null,
   "metadata": {},
   "outputs": [],
   "source": [
    "df.finish_condition.unique()"
   ]
  },
  {
   "cell_type": "markdown",
   "metadata": {},
   "source": [
    "<b>Stan wykończenia: do zamieszkania</b> <--- tak wygląda surowa wartość\n",
    "<br>\n",
    "<b>do zamieszkania</b> <--- docelowa wartość"
   ]
  },
  {
   "cell_type": "code",
   "execution_count": 26,
   "metadata": {},
   "outputs": [],
   "source": [
    "df['finish_condition'] = df['finish_condition'].apply(lambda x: x.split(':')[1].strip() if pd.notnull(x) else np.NaN)"
   ]
  },
  {
   "cell_type": "code",
   "execution_count": null,
   "metadata": {},
   "outputs": [],
   "source": [
    "df.finish_condition.head()"
   ]
  },
  {
   "cell_type": "code",
   "execution_count": null,
   "metadata": {},
   "outputs": [],
   "source": [
    "df.finish_condition.unique()"
   ]
  },
  {
   "cell_type": "code",
   "execution_count": null,
   "metadata": {},
   "outputs": [],
   "source": [
    "df.finish_condition.isnull().sum()"
   ]
  },
  {
   "cell_type": "markdown",
   "metadata": {},
   "source": [
    "#### Flat Surface m2"
   ]
  },
  {
   "cell_type": "code",
   "execution_count": null,
   "metadata": {},
   "outputs": [],
   "source": [
    "df.flat_surface_m2.head()"
   ]
  },
  {
   "cell_type": "code",
   "execution_count": null,
   "metadata": {},
   "outputs": [],
   "source": [
    "df.flat_surface_m2.unique()"
   ]
  },
  {
   "cell_type": "markdown",
   "metadata": {},
   "source": [
    "<b>71,01 m²</b> <--- tak wygląda surowa wartość\n",
    "<br>\n",
    "<b>71.01</b> <--- docelowa wartość"
   ]
  },
  {
   "cell_type": "code",
   "execution_count": 27,
   "metadata": {},
   "outputs": [],
   "source": [
    "df['flat_surface_m2'] = df['flat_surface_m2'].apply(lambda x: pd.to_numeric(x.split('m')[0].replace(',','.').strip()) \n",
    "                                                    if pd.notnull(x) else np.NaN)"
   ]
  },
  {
   "cell_type": "code",
   "execution_count": null,
   "metadata": {},
   "outputs": [],
   "source": [
    "df.flat_surface_m2.head()"
   ]
  },
  {
   "cell_type": "code",
   "execution_count": null,
   "metadata": {},
   "outputs": [],
   "source": [
    "df.flat_surface_m2.unique()"
   ]
  },
  {
   "cell_type": "markdown",
   "metadata": {},
   "source": [
    "#### Room Number"
   ]
  },
  {
   "cell_type": "code",
   "execution_count": null,
   "metadata": {
    "scrolled": true
   },
   "outputs": [],
   "source": [
    "df.room_number.head()"
   ]
  },
  {
   "cell_type": "markdown",
   "metadata": {},
   "source": [
    "<b>6 pokoi</b> <--- tak wygląda surowa wartość\n",
    "<br>\n",
    "<b>6</b> <--- docelowa wartość\n",
    "<br>\n",
    "Dodatkowo pojawia się wartości w liczbie pokoii takie jak: \n",
    "<ul>\n",
    "    <li>\n",
    "        <b>>10</b> - większa ilość pokoii niż 10 brak sprecyzowania \n",
    "    </li>\n",
    "</ul>"
   ]
  },
  {
   "cell_type": "code",
   "execution_count": null,
   "metadata": {
    "scrolled": true
   },
   "outputs": [],
   "source": [
    "df.room_number.unique()"
   ]
  },
  {
   "cell_type": "code",
   "execution_count": 28,
   "metadata": {},
   "outputs": [
    {
     "data": {
      "text/html": [
       "<div>\n",
       "<style scoped>\n",
       "    .dataframe tbody tr th:only-of-type {\n",
       "        vertical-align: middle;\n",
       "    }\n",
       "\n",
       "    .dataframe tbody tr th {\n",
       "        vertical-align: top;\n",
       "    }\n",
       "\n",
       "    .dataframe thead th {\n",
       "        text-align: right;\n",
       "    }\n",
       "</style>\n",
       "<table border=\"1\" class=\"dataframe\">\n",
       "  <thead>\n",
       "    <tr style=\"text-align: right;\">\n",
       "      <th></th>\n",
       "      <th>id</th>\n",
       "      <th>district</th>\n",
       "      <th>price</th>\n",
       "      <th>price_per_m2</th>\n",
       "      <th>floor</th>\n",
       "      <th>floor_number</th>\n",
       "      <th>prod_year</th>\n",
       "      <th>rent</th>\n",
       "      <th>market</th>\n",
       "      <th>building_type</th>\n",
       "      <th>finish_condition</th>\n",
       "      <th>flat_surface_m2</th>\n",
       "      <th>room_number</th>\n",
       "    </tr>\n",
       "  </thead>\n",
       "  <tbody>\n",
       "    <tr>\n",
       "      <td>127</td>\n",
       "      <td>id48CSc</td>\n",
       "      <td>Krzyki</td>\n",
       "      <td>1589500.0</td>\n",
       "      <td>15432.0</td>\n",
       "      <td>NaN</td>\n",
       "      <td>47.0</td>\n",
       "      <td>2013.0</td>\n",
       "      <td>1600.0</td>\n",
       "      <td>wtórny</td>\n",
       "      <td>apartamentowiec</td>\n",
       "      <td>do wykończenia</td>\n",
       "      <td>103.0</td>\n",
       "      <td>&gt;10 pokoi</td>\n",
       "    </tr>\n",
       "    <tr>\n",
       "      <td>7424</td>\n",
       "      <td>id48WFo</td>\n",
       "      <td>Fabryczna</td>\n",
       "      <td>440000.0</td>\n",
       "      <td>7333.0</td>\n",
       "      <td>1.0</td>\n",
       "      <td>2.0</td>\n",
       "      <td>NaN</td>\n",
       "      <td>NaN</td>\n",
       "      <td>wtórny</td>\n",
       "      <td>NaN</td>\n",
       "      <td>NaN</td>\n",
       "      <td>60.0</td>\n",
       "      <td>&gt;10 pokoi</td>\n",
       "    </tr>\n",
       "  </tbody>\n",
       "</table>\n",
       "</div>"
      ],
      "text/plain": [
       "           id   district      price  price_per_m2  floor  floor_number  \\\n",
       "127   id48CSc  Krzyki     1589500.0  15432.0      NaN     47.0           \n",
       "7424  id48WFo  Fabryczna  440000.0   7333.0        1.0    2.0            \n",
       "\n",
       "      prod_year    rent  market    building_type finish_condition  \\\n",
       "127   2013.0     1600.0  wtórny  apartamentowiec  do wykończenia    \n",
       "7424 NaN        NaN      wtórny  NaN              NaN               \n",
       "\n",
       "      flat_surface_m2 room_number  \n",
       "127   103.0            >10 pokoi   \n",
       "7424  60.0             >10 pokoi   "
      ]
     },
     "execution_count": 28,
     "metadata": {},
     "output_type": "execute_result"
    }
   ],
   "source": [
    "df[df['room_number'] == '>10 pokoi']"
   ]
  },
  {
   "cell_type": "code",
   "execution_count": 29,
   "metadata": {},
   "outputs": [],
   "source": [
    "df['room_number'] = df['room_number'].apply(lambda x: np.NaN if x == '>10 pokoi' else x)"
   ]
  },
  {
   "cell_type": "code",
   "execution_count": 32,
   "metadata": {},
   "outputs": [
    {
     "data": {
      "text/plain": [
       "2"
      ]
     },
     "execution_count": 32,
     "metadata": {},
     "output_type": "execute_result"
    }
   ],
   "source": [
    "df.room_number.isna().sum()"
   ]
  },
  {
   "cell_type": "code",
   "execution_count": 30,
   "metadata": {},
   "outputs": [],
   "source": [
    "df['room_number'] = df['room_number'].apply(lambda x: pd.to_numeric(x.split(' ')[0].strip().replace('>10','6')) if pd.notnull(x)  else np.NaN)"
   ]
  },
  {
   "cell_type": "code",
   "execution_count": null,
   "metadata": {},
   "outputs": [],
   "source": [
    "df.room_number.head()"
   ]
  },
  {
   "cell_type": "code",
   "execution_count": null,
   "metadata": {},
   "outputs": [],
   "source": [
    "df.room_number.unique()"
   ]
  },
  {
   "cell_type": "code",
   "execution_count": 33,
   "metadata": {},
   "outputs": [
    {
     "data": {
      "text/plain": [
       "rent                10266\n",
       "finish_condition    8553 \n",
       "building_type       5237 \n",
       "prod_year           2512 \n",
       "floor_number        2455 \n",
       "district            704  \n",
       "floor               456  \n",
       "price               297  \n",
       "price_per_m2        296  \n",
       "room_number         2    \n",
       "flat_surface_m2     0    \n",
       "market              0    \n",
       "id                  0    \n",
       "dtype: int64"
      ]
     },
     "execution_count": 33,
     "metadata": {},
     "output_type": "execute_result"
    }
   ],
   "source": [
    "df.isna().sum().sort_values(ascending=False)"
   ]
  },
  {
   "cell_type": "code",
   "execution_count": 37,
   "metadata": {},
   "outputs": [
    {
     "name": "stdout",
     "output_type": "stream",
     "text": [
      "rent                68.28\n",
      "finish_condition    56.88\n",
      "building_type       34.83\n",
      "prod_year           16.71\n",
      "floor_number        16.33\n",
      "district            4.68 \n",
      "floor               3.03 \n",
      "price               1.98 \n",
      "price_per_m2        1.97 \n",
      "room_number         0.01 \n",
      "flat_surface_m2     0.00 \n",
      "market              0.00 \n",
      "id                  0.00 \n",
      "dtype: float64\n"
     ]
    }
   ],
   "source": [
    "missing(df)"
   ]
  },
  {
   "cell_type": "code",
   "execution_count": null,
   "metadata": {},
   "outputs": [],
   "source": [
    "df.dtypes"
   ]
  },
  {
   "cell_type": "code",
   "execution_count": null,
   "metadata": {},
   "outputs": [],
   "source": [
    "df.describe()"
   ]
  },
  {
   "cell_type": "code",
   "execution_count": null,
   "metadata": {},
   "outputs": [],
   "source": [
    "df.head(10)"
   ]
  },
  {
   "cell_type": "code",
   "execution_count": 31,
   "metadata": {},
   "outputs": [],
   "source": [
    "df.to_csv('data_set_after_cleaning_with_NaN.csv',index=False)"
   ]
  },
  {
   "cell_type": "markdown",
   "metadata": {},
   "source": [
    "# Odczytanie oczyszczonego pliku wyłącznie z danymi i np.NaN"
   ]
  },
  {
   "cell_type": "code",
   "execution_count": 38,
   "metadata": {},
   "outputs": [],
   "source": [
    "df = pd.read_csv('data_set_after_cleaning_with_NaN.csv')"
   ]
  },
  {
   "cell_type": "code",
   "execution_count": 42,
   "metadata": {},
   "outputs": [
    {
     "name": "stdout",
     "output_type": "stream",
     "text": [
      "<class 'pandas.core.frame.DataFrame'>\n",
      "RangeIndex: 15036 entries, 0 to 15035\n",
      "Data columns (total 13 columns):\n",
      "id                  15036 non-null object\n",
      "district            14332 non-null object\n",
      "price               14739 non-null float64\n",
      "price_per_m2        14740 non-null float64\n",
      "floor               14580 non-null float64\n",
      "floor_number        12581 non-null float64\n",
      "prod_year           12524 non-null float64\n",
      "rent                4770 non-null float64\n",
      "market              15036 non-null object\n",
      "building_type       9797 non-null object\n",
      "finish_condition    6483 non-null object\n",
      "flat_surface_m2     15036 non-null float64\n",
      "room_number         15034 non-null float64\n",
      "dtypes: float64(8), object(5)\n",
      "memory usage: 1.5+ MB\n"
     ]
    }
   ],
   "source": [
    "df.info()"
   ]
  },
  {
   "cell_type": "code",
   "execution_count": 43,
   "metadata": {},
   "outputs": [],
   "source": [
    "df.drop(columns=['id','rent', 'finish_condition'], inplace=True)"
   ]
  },
  {
   "cell_type": "code",
   "execution_count": 44,
   "metadata": {},
   "outputs": [],
   "source": [
    "df = df[['district', 'building_type', 'market', 'room_number', 'floor_number', 'floor', 'prod_year', 'flat_surface_m2', \n",
    "             'price_per_m2', 'price']]"
   ]
  },
  {
   "cell_type": "code",
   "execution_count": 45,
   "metadata": {},
   "outputs": [],
   "source": [
    "# df2 = df.query('market != \"wtórny\"').copy()\n",
    "df = df[df['market'] != 'wtórny'].copy()"
   ]
  },
  {
   "cell_type": "code",
   "execution_count": 46,
   "metadata": {},
   "outputs": [
    {
     "name": "stdout",
     "output_type": "stream",
     "text": [
      "<class 'pandas.core.frame.DataFrame'>\n",
      "Int64Index: 9358 entries, 2 to 15035\n",
      "Data columns (total 10 columns):\n",
      "district           8998 non-null object\n",
      "building_type      5019 non-null object\n",
      "market             9358 non-null object\n",
      "room_number        9358 non-null float64\n",
      "floor_number       7243 non-null float64\n",
      "floor              9086 non-null float64\n",
      "prod_year          7994 non-null float64\n",
      "flat_surface_m2    9358 non-null float64\n",
      "price_per_m2       9064 non-null float64\n",
      "price              9063 non-null float64\n",
      "dtypes: float64(7), object(3)\n",
      "memory usage: 804.2+ KB\n"
     ]
    }
   ],
   "source": [
    "df.info()"
   ]
  },
  {
   "cell_type": "markdown",
   "metadata": {},
   "source": [
    "tablica numerów indeksów które mają puste pole price"
   ]
  },
  {
   "cell_type": "code",
   "execution_count": 52,
   "metadata": {},
   "outputs": [
    {
     "data": {
      "text/plain": [
       "district           360 \n",
       "building_type      4339\n",
       "market             0   \n",
       "room_number        0   \n",
       "floor_number       2115\n",
       "floor              272 \n",
       "prod_year          1364\n",
       "flat_surface_m2    0   \n",
       "price_per_m2       294 \n",
       "price              295 \n",
       "dtype: int64"
      ]
     },
     "execution_count": 52,
     "metadata": {},
     "output_type": "execute_result"
    }
   ],
   "source": [
    "df.isna().sum()"
   ]
  },
  {
   "cell_type": "code",
   "execution_count": 63,
   "metadata": {},
   "outputs": [],
   "source": [
    "def save_nan_index(column_name):\n",
    "    index = df[column_name].index[df[column_name].apply(np.isnan)]\n",
    "    df_index = df.index.values.tolist()\n",
    "    index_list = [df_index.index(i) for i in index]\n",
    "    return index_list"
   ]
  },
  {
   "cell_type": "code",
   "execution_count": 65,
   "metadata": {},
   "outputs": [],
   "source": [
    "price_nan_index = save_nan_index('price')\n",
    "price_per_m2_nan_index = save_nan_index('price_per_m2')\n",
    "prod_year_nan_index = save_nan_index('prod_year')\n",
    "floor_nan_index = save_nan_index('floor')\n",
    "floor_number_nan_index = save_nan_index('floor_number')\n",
    "# CATEGORICAL NO NEEDED BECAUSE I USED OTHER IMPUTE METHOD\n",
    "# building_type_nan_index = save_nan_index('building_type')\n",
    "# district_nan_index = save_nan_index('district')"
   ]
  },
  {
   "cell_type": "code",
   "execution_count": 68,
   "metadata": {},
   "outputs": [
    {
     "data": {
      "text/html": [
       "<div>\n",
       "<style scoped>\n",
       "    .dataframe tbody tr th:only-of-type {\n",
       "        vertical-align: middle;\n",
       "    }\n",
       "\n",
       "    .dataframe tbody tr th {\n",
       "        vertical-align: top;\n",
       "    }\n",
       "\n",
       "    .dataframe thead th {\n",
       "        text-align: right;\n",
       "    }\n",
       "</style>\n",
       "<table border=\"1\" class=\"dataframe\">\n",
       "  <thead>\n",
       "    <tr style=\"text-align: right;\">\n",
       "      <th></th>\n",
       "      <th>district</th>\n",
       "      <th>building_type</th>\n",
       "      <th>market</th>\n",
       "      <th>room_number</th>\n",
       "      <th>floor_number</th>\n",
       "      <th>floor</th>\n",
       "      <th>prod_year</th>\n",
       "      <th>flat_surface_m2</th>\n",
       "      <th>price_per_m2</th>\n",
       "      <th>price</th>\n",
       "    </tr>\n",
       "  </thead>\n",
       "  <tbody>\n",
       "    <tr>\n",
       "      <td>2</td>\n",
       "      <td>Stare Miasto</td>\n",
       "      <td>apartamentowiec</td>\n",
       "      <td>pierwotny</td>\n",
       "      <td>2.0</td>\n",
       "      <td>7.0</td>\n",
       "      <td>4.0</td>\n",
       "      <td>2022.0</td>\n",
       "      <td>47.85</td>\n",
       "      <td>9592.0</td>\n",
       "      <td>459000.0</td>\n",
       "    </tr>\n",
       "    <tr>\n",
       "      <td>3</td>\n",
       "      <td>Stare Miasto</td>\n",
       "      <td>apartamentowiec</td>\n",
       "      <td>pierwotny</td>\n",
       "      <td>4.0</td>\n",
       "      <td>9.0</td>\n",
       "      <td>8.0</td>\n",
       "      <td>2016.0</td>\n",
       "      <td>212.10</td>\n",
       "      <td>35361.0</td>\n",
       "      <td>7500000.0</td>\n",
       "    </tr>\n",
       "    <tr>\n",
       "      <td>5</td>\n",
       "      <td>Krzyki</td>\n",
       "      <td>apartamentowiec</td>\n",
       "      <td>pierwotny</td>\n",
       "      <td>5.0</td>\n",
       "      <td>48.0</td>\n",
       "      <td>NaN</td>\n",
       "      <td>2012.0</td>\n",
       "      <td>227.00</td>\n",
       "      <td>23106.0</td>\n",
       "      <td>5245000.0</td>\n",
       "    </tr>\n",
       "    <tr>\n",
       "      <td>6</td>\n",
       "      <td>Krzyki</td>\n",
       "      <td>apartamentowiec</td>\n",
       "      <td>pierwotny</td>\n",
       "      <td>4.0</td>\n",
       "      <td>48.0</td>\n",
       "      <td>NaN</td>\n",
       "      <td>2012.0</td>\n",
       "      <td>176.50</td>\n",
       "      <td>27195.0</td>\n",
       "      <td>4800000.0</td>\n",
       "    </tr>\n",
       "    <tr>\n",
       "      <td>9</td>\n",
       "      <td>Stare Miasto</td>\n",
       "      <td>apartamentowiec</td>\n",
       "      <td>pierwotny</td>\n",
       "      <td>6.0</td>\n",
       "      <td>10.0</td>\n",
       "      <td>9.0</td>\n",
       "      <td>2021.0</td>\n",
       "      <td>179.14</td>\n",
       "      <td>20000.0</td>\n",
       "      <td>3582800.0</td>\n",
       "    </tr>\n",
       "  </tbody>\n",
       "</table>\n",
       "</div>"
      ],
      "text/plain": [
       "       district    building_type     market  room_number  floor_number  floor  \\\n",
       "2  Stare Miasto  apartamentowiec  pierwotny  2.0          7.0           4.0     \n",
       "3  Stare Miasto  apartamentowiec  pierwotny  4.0          9.0           8.0     \n",
       "5  Krzyki        apartamentowiec  pierwotny  5.0          48.0         NaN      \n",
       "6  Krzyki        apartamentowiec  pierwotny  4.0          48.0         NaN      \n",
       "9  Stare Miasto  apartamentowiec  pierwotny  6.0          10.0          9.0     \n",
       "\n",
       "   prod_year  flat_surface_m2  price_per_m2      price  \n",
       "2  2022.0     47.85            9592.0        459000.0   \n",
       "3  2016.0     212.10           35361.0       7500000.0  \n",
       "5  2012.0     227.00           23106.0       5245000.0  \n",
       "6  2012.0     176.50           27195.0       4800000.0  \n",
       "9  2021.0     179.14           20000.0       3582800.0  "
      ]
     },
     "execution_count": 68,
     "metadata": {},
     "output_type": "execute_result"
    }
   ],
   "source": [
    "df.head()"
   ]
  },
  {
   "cell_type": "code",
   "execution_count": 69,
   "metadata": {},
   "outputs": [
    {
     "name": "stdout",
     "output_type": "stream",
     "text": [
      "Iteration: 0\n",
      "Iteration: 1\n",
      "Iteration: 2\n",
      "Iteration: 3\n",
      "Iteration: 4\n",
      "Iteration: 5\n",
      "Iteration: 6\n"
     ]
    }
   ],
   "source": [
    "from missingpy import MissForest\n",
    "imputer = MissForest(random_state=100)\n",
    "df_imputed = df.copy()\n",
    "df_imputed = df_imputed.drop(columns=['district','building_type','market'])\n",
    "df_imputed = imputer.fit_transform(df_imputed)"
   ]
  },
  {
   "cell_type": "code",
   "execution_count": 70,
   "metadata": {},
   "outputs": [],
   "source": [
    "df_imputed = pd.DataFrame(data=df_imputed,columns=['room_number','floor_number','floor','prod_year','flat_surface_m2','price_per_m2','price'])\n",
    "df_imputed = df_imputed.round(decimals=2)\n",
    "df_imputed.floor_number = df_imputed.floor_number.round(decimals=0)\n",
    "df_imputed.floor = df_imputed.floor.round(decimals=0)\n",
    "df_imputed.prod_year = df_imputed.prod_year.round(decimals=0)"
   ]
  },
  {
   "cell_type": "code",
   "execution_count": 72,
   "metadata": {},
   "outputs": [
    {
     "data": {
      "text/html": [
       "<div>\n",
       "<style scoped>\n",
       "    .dataframe tbody tr th:only-of-type {\n",
       "        vertical-align: middle;\n",
       "    }\n",
       "\n",
       "    .dataframe tbody tr th {\n",
       "        vertical-align: top;\n",
       "    }\n",
       "\n",
       "    .dataframe thead th {\n",
       "        text-align: right;\n",
       "    }\n",
       "</style>\n",
       "<table border=\"1\" class=\"dataframe\">\n",
       "  <thead>\n",
       "    <tr style=\"text-align: right;\">\n",
       "      <th></th>\n",
       "      <th>room_number</th>\n",
       "      <th>floor_number</th>\n",
       "      <th>floor</th>\n",
       "      <th>prod_year</th>\n",
       "      <th>flat_surface_m2</th>\n",
       "      <th>price_per_m2</th>\n",
       "      <th>price</th>\n",
       "    </tr>\n",
       "  </thead>\n",
       "  <tbody>\n",
       "    <tr>\n",
       "      <td>2</td>\n",
       "      <td>5.0</td>\n",
       "      <td>48.0</td>\n",
       "      <td>8.0</td>\n",
       "      <td>2012.0</td>\n",
       "      <td>227.00</td>\n",
       "      <td>23106.0</td>\n",
       "      <td>5245000.0</td>\n",
       "    </tr>\n",
       "    <tr>\n",
       "      <td>3</td>\n",
       "      <td>4.0</td>\n",
       "      <td>48.0</td>\n",
       "      <td>9.0</td>\n",
       "      <td>2012.0</td>\n",
       "      <td>176.50</td>\n",
       "      <td>27195.0</td>\n",
       "      <td>4800000.0</td>\n",
       "    </tr>\n",
       "    <tr>\n",
       "      <td>7</td>\n",
       "      <td>5.0</td>\n",
       "      <td>51.0</td>\n",
       "      <td>8.0</td>\n",
       "      <td>2012.0</td>\n",
       "      <td>183.80</td>\n",
       "      <td>18904.0</td>\n",
       "      <td>3474555.0</td>\n",
       "    </tr>\n",
       "    <tr>\n",
       "      <td>9</td>\n",
       "      <td>6.0</td>\n",
       "      <td>9.0</td>\n",
       "      <td>8.0</td>\n",
       "      <td>2021.0</td>\n",
       "      <td>179.33</td>\n",
       "      <td>19000.0</td>\n",
       "      <td>3407270.0</td>\n",
       "    </tr>\n",
       "    <tr>\n",
       "      <td>11</td>\n",
       "      <td>6.0</td>\n",
       "      <td>10.0</td>\n",
       "      <td>8.0</td>\n",
       "      <td>2021.0</td>\n",
       "      <td>180.00</td>\n",
       "      <td>18929.0</td>\n",
       "      <td>3407270.0</td>\n",
       "    </tr>\n",
       "    <tr>\n",
       "      <td>...</td>\n",
       "      <td>...</td>\n",
       "      <td>...</td>\n",
       "      <td>...</td>\n",
       "      <td>...</td>\n",
       "      <td>...</td>\n",
       "      <td>...</td>\n",
       "      <td>...</td>\n",
       "    </tr>\n",
       "    <tr>\n",
       "      <td>9349</td>\n",
       "      <td>3.0</td>\n",
       "      <td>4.0</td>\n",
       "      <td>1.0</td>\n",
       "      <td>2021.0</td>\n",
       "      <td>55.19</td>\n",
       "      <td>6570.0</td>\n",
       "      <td>362598.0</td>\n",
       "    </tr>\n",
       "    <tr>\n",
       "      <td>9350</td>\n",
       "      <td>2.0</td>\n",
       "      <td>4.0</td>\n",
       "      <td>4.0</td>\n",
       "      <td>2020.0</td>\n",
       "      <td>47.70</td>\n",
       "      <td>7600.0</td>\n",
       "      <td>362520.0</td>\n",
       "    </tr>\n",
       "    <tr>\n",
       "      <td>9352</td>\n",
       "      <td>2.0</td>\n",
       "      <td>4.0</td>\n",
       "      <td>3.0</td>\n",
       "      <td>2020.0</td>\n",
       "      <td>49.30</td>\n",
       "      <td>7350.0</td>\n",
       "      <td>362355.0</td>\n",
       "    </tr>\n",
       "    <tr>\n",
       "      <td>9354</td>\n",
       "      <td>3.0</td>\n",
       "      <td>5.0</td>\n",
       "      <td>5.0</td>\n",
       "      <td>2021.0</td>\n",
       "      <td>47.80</td>\n",
       "      <td>7575.0</td>\n",
       "      <td>362063.0</td>\n",
       "    </tr>\n",
       "    <tr>\n",
       "      <td>9355</td>\n",
       "      <td>2.0</td>\n",
       "      <td>4.0</td>\n",
       "      <td>1.0</td>\n",
       "      <td>2020.0</td>\n",
       "      <td>51.03</td>\n",
       "      <td>7094.0</td>\n",
       "      <td>362000.0</td>\n",
       "    </tr>\n",
       "  </tbody>\n",
       "</table>\n",
       "<p>4340 rows × 7 columns</p>\n",
       "</div>"
      ],
      "text/plain": [
       "      room_number  floor_number  floor  prod_year  flat_surface_m2  \\\n",
       "2     5.0          48.0          8.0    2012.0     227.00            \n",
       "3     4.0          48.0          9.0    2012.0     176.50            \n",
       "7     5.0          51.0          8.0    2012.0     183.80            \n",
       "9     6.0          9.0           8.0    2021.0     179.33            \n",
       "11    6.0          10.0          8.0    2021.0     180.00            \n",
       "...   ...           ...          ...       ...        ...            \n",
       "9349  3.0          4.0           1.0    2021.0     55.19             \n",
       "9350  2.0          4.0           4.0    2020.0     47.70             \n",
       "9352  2.0          4.0           3.0    2020.0     49.30             \n",
       "9354  3.0          5.0           5.0    2021.0     47.80             \n",
       "9355  2.0          4.0           1.0    2020.0     51.03             \n",
       "\n",
       "      price_per_m2      price  \n",
       "2     23106.0       5245000.0  \n",
       "3     27195.0       4800000.0  \n",
       "7     18904.0       3474555.0  \n",
       "9     19000.0       3407270.0  \n",
       "11    18929.0       3407270.0  \n",
       "...       ...             ...  \n",
       "9349  6570.0        362598.0   \n",
       "9350  7600.0        362520.0   \n",
       "9352  7350.0        362355.0   \n",
       "9354  7575.0        362063.0   \n",
       "9355  7094.0        362000.0   \n",
       "\n",
       "[4340 rows x 7 columns]"
      ]
     },
     "execution_count": 72,
     "metadata": {},
     "output_type": "execute_result"
    }
   ],
   "source": [
    "df_imputed.iloc[sorted([*prod_year_nan_index, *price_nan_index, *price_per_m2_nan_index, *floor_nan_index, *floor_number_nan_index])]"
   ]
  },
  {
   "cell_type": "markdown",
   "metadata": {},
   "source": [
    "## Wprowadzanie categorycznych danych"
   ]
  },
  {
   "cell_type": "code",
   "execution_count": 73,
   "metadata": {},
   "outputs": [],
   "source": [
    "df_imputed['district'] = df['district'].copy()"
   ]
  },
  {
   "cell_type": "code",
   "execution_count": 74,
   "metadata": {},
   "outputs": [],
   "source": [
    "df_imputed['building_type'] = df['building_type'].copy()"
   ]
  },
  {
   "cell_type": "code",
   "execution_count": 75,
   "metadata": {},
   "outputs": [
    {
     "data": {
      "text/plain": [
       "0    Krzyki\n",
       "dtype: object"
      ]
     },
     "execution_count": 75,
     "metadata": {},
     "output_type": "execute_result"
    }
   ],
   "source": [
    "df_imputed.district.mode()"
   ]
  },
  {
   "cell_type": "code",
   "execution_count": 76,
   "metadata": {},
   "outputs": [],
   "source": [
    "df_imputed.district.fillna('Krzyki', inplace=True)"
   ]
  },
  {
   "cell_type": "code",
   "execution_count": 77,
   "metadata": {},
   "outputs": [
    {
     "data": {
      "text/plain": [
       "0    blok\n",
       "dtype: object"
      ]
     },
     "execution_count": 77,
     "metadata": {},
     "output_type": "execute_result"
    }
   ],
   "source": [
    "df_imputed.building_type.mode()"
   ]
  },
  {
   "cell_type": "code",
   "execution_count": 78,
   "metadata": {},
   "outputs": [],
   "source": [
    "df_imputed.building_type.fillna('blok', inplace=True)"
   ]
  },
  {
   "cell_type": "code",
   "execution_count": 79,
   "metadata": {},
   "outputs": [
    {
     "data": {
      "text/html": [
       "<div>\n",
       "<style scoped>\n",
       "    .dataframe tbody tr th:only-of-type {\n",
       "        vertical-align: middle;\n",
       "    }\n",
       "\n",
       "    .dataframe tbody tr th {\n",
       "        vertical-align: top;\n",
       "    }\n",
       "\n",
       "    .dataframe thead th {\n",
       "        text-align: right;\n",
       "    }\n",
       "</style>\n",
       "<table border=\"1\" class=\"dataframe\">\n",
       "  <thead>\n",
       "    <tr style=\"text-align: right;\">\n",
       "      <th></th>\n",
       "      <th>room_number</th>\n",
       "      <th>floor_number</th>\n",
       "      <th>floor</th>\n",
       "      <th>prod_year</th>\n",
       "      <th>flat_surface_m2</th>\n",
       "      <th>price_per_m2</th>\n",
       "      <th>price</th>\n",
       "      <th>district</th>\n",
       "      <th>building_type</th>\n",
       "    </tr>\n",
       "  </thead>\n",
       "  <tbody>\n",
       "    <tr>\n",
       "      <td>0</td>\n",
       "      <td>2.0</td>\n",
       "      <td>7.0</td>\n",
       "      <td>4.0</td>\n",
       "      <td>2022.0</td>\n",
       "      <td>47.85</td>\n",
       "      <td>9592.0</td>\n",
       "      <td>459000.0</td>\n",
       "      <td>Krzyki</td>\n",
       "      <td>blok</td>\n",
       "    </tr>\n",
       "    <tr>\n",
       "      <td>1</td>\n",
       "      <td>4.0</td>\n",
       "      <td>9.0</td>\n",
       "      <td>8.0</td>\n",
       "      <td>2016.0</td>\n",
       "      <td>212.10</td>\n",
       "      <td>35361.0</td>\n",
       "      <td>7500000.0</td>\n",
       "      <td>Krzyki</td>\n",
       "      <td>blok</td>\n",
       "    </tr>\n",
       "    <tr>\n",
       "      <td>2</td>\n",
       "      <td>5.0</td>\n",
       "      <td>48.0</td>\n",
       "      <td>8.0</td>\n",
       "      <td>2012.0</td>\n",
       "      <td>227.00</td>\n",
       "      <td>23106.0</td>\n",
       "      <td>5245000.0</td>\n",
       "      <td>Stare Miasto</td>\n",
       "      <td>apartamentowiec</td>\n",
       "    </tr>\n",
       "    <tr>\n",
       "      <td>3</td>\n",
       "      <td>4.0</td>\n",
       "      <td>48.0</td>\n",
       "      <td>9.0</td>\n",
       "      <td>2012.0</td>\n",
       "      <td>176.50</td>\n",
       "      <td>27195.0</td>\n",
       "      <td>4800000.0</td>\n",
       "      <td>Stare Miasto</td>\n",
       "      <td>apartamentowiec</td>\n",
       "    </tr>\n",
       "    <tr>\n",
       "      <td>4</td>\n",
       "      <td>6.0</td>\n",
       "      <td>10.0</td>\n",
       "      <td>9.0</td>\n",
       "      <td>2021.0</td>\n",
       "      <td>179.14</td>\n",
       "      <td>20000.0</td>\n",
       "      <td>3582800.0</td>\n",
       "      <td>Krzyki</td>\n",
       "      <td>blok</td>\n",
       "    </tr>\n",
       "    <tr>\n",
       "      <td>...</td>\n",
       "      <td>...</td>\n",
       "      <td>...</td>\n",
       "      <td>...</td>\n",
       "      <td>...</td>\n",
       "      <td>...</td>\n",
       "      <td>...</td>\n",
       "      <td>...</td>\n",
       "      <td>...</td>\n",
       "      <td>...</td>\n",
       "    </tr>\n",
       "    <tr>\n",
       "      <td>9353</td>\n",
       "      <td>2.0</td>\n",
       "      <td>4.0</td>\n",
       "      <td>1.0</td>\n",
       "      <td>2020.0</td>\n",
       "      <td>51.03</td>\n",
       "      <td>7100.0</td>\n",
       "      <td>362313.0</td>\n",
       "      <td>Krzyki</td>\n",
       "      <td>blok</td>\n",
       "    </tr>\n",
       "    <tr>\n",
       "      <td>9354</td>\n",
       "      <td>3.0</td>\n",
       "      <td>5.0</td>\n",
       "      <td>5.0</td>\n",
       "      <td>2021.0</td>\n",
       "      <td>47.80</td>\n",
       "      <td>7575.0</td>\n",
       "      <td>362063.0</td>\n",
       "      <td>Krzyki</td>\n",
       "      <td>blok</td>\n",
       "    </tr>\n",
       "    <tr>\n",
       "      <td>9355</td>\n",
       "      <td>2.0</td>\n",
       "      <td>4.0</td>\n",
       "      <td>1.0</td>\n",
       "      <td>2020.0</td>\n",
       "      <td>51.03</td>\n",
       "      <td>7094.0</td>\n",
       "      <td>362000.0</td>\n",
       "      <td>Krzyki</td>\n",
       "      <td>blok</td>\n",
       "    </tr>\n",
       "    <tr>\n",
       "      <td>9356</td>\n",
       "      <td>3.0</td>\n",
       "      <td>2.0</td>\n",
       "      <td>0.0</td>\n",
       "      <td>2021.0</td>\n",
       "      <td>52.20</td>\n",
       "      <td>6933.0</td>\n",
       "      <td>361900.0</td>\n",
       "      <td>Psie Pole</td>\n",
       "      <td>blok</td>\n",
       "    </tr>\n",
       "    <tr>\n",
       "      <td>9357</td>\n",
       "      <td>2.0</td>\n",
       "      <td>4.0</td>\n",
       "      <td>1.0</td>\n",
       "      <td>2021.0</td>\n",
       "      <td>38.20</td>\n",
       "      <td>9424.0</td>\n",
       "      <td>360000.0</td>\n",
       "      <td>Psie Pole</td>\n",
       "      <td>blok</td>\n",
       "    </tr>\n",
       "  </tbody>\n",
       "</table>\n",
       "<p>9358 rows × 9 columns</p>\n",
       "</div>"
      ],
      "text/plain": [
       "      room_number  floor_number  floor  prod_year  flat_surface_m2  \\\n",
       "0     2.0          7.0           4.0    2022.0     47.85             \n",
       "1     4.0          9.0           8.0    2016.0     212.10            \n",
       "2     5.0          48.0          8.0    2012.0     227.00            \n",
       "3     4.0          48.0          9.0    2012.0     176.50            \n",
       "4     6.0          10.0          9.0    2021.0     179.14            \n",
       "...   ...           ...          ...       ...        ...            \n",
       "9353  2.0          4.0           1.0    2020.0     51.03             \n",
       "9354  3.0          5.0           5.0    2021.0     47.80             \n",
       "9355  2.0          4.0           1.0    2020.0     51.03             \n",
       "9356  3.0          2.0           0.0    2021.0     52.20             \n",
       "9357  2.0          4.0           1.0    2021.0     38.20             \n",
       "\n",
       "      price_per_m2      price      district    building_type  \n",
       "0     9592.0        459000.0   Krzyki        blok             \n",
       "1     35361.0       7500000.0  Krzyki        blok             \n",
       "2     23106.0       5245000.0  Stare Miasto  apartamentowiec  \n",
       "3     27195.0       4800000.0  Stare Miasto  apartamentowiec  \n",
       "4     20000.0       3582800.0  Krzyki        blok             \n",
       "...       ...             ...     ...         ...             \n",
       "9353  7100.0        362313.0   Krzyki        blok             \n",
       "9354  7575.0        362063.0   Krzyki        blok             \n",
       "9355  7094.0        362000.0   Krzyki        blok             \n",
       "9356  6933.0        361900.0   Psie Pole     blok             \n",
       "9357  9424.0        360000.0   Psie Pole     blok             \n",
       "\n",
       "[9358 rows x 9 columns]"
      ]
     },
     "execution_count": 79,
     "metadata": {},
     "output_type": "execute_result"
    }
   ],
   "source": [
    "df_imputed"
   ]
  },
  {
   "cell_type": "code",
   "execution_count": 80,
   "metadata": {},
   "outputs": [],
   "source": [
    "df_imputed.floor = df_imputed.floor.astype('int64')\n",
    "df_imputed.floor_number = df_imputed.floor_number.astype('int64')\n",
    "df_imputed.prod_year = df_imputed.prod_year.astype('int64')\n",
    "df_imputed.room_number = df_imputed.room_number.astype('int64')"
   ]
  },
  {
   "cell_type": "code",
   "execution_count": 81,
   "metadata": {},
   "outputs": [
    {
     "data": {
      "text/html": [
       "<div>\n",
       "<style scoped>\n",
       "    .dataframe tbody tr th:only-of-type {\n",
       "        vertical-align: middle;\n",
       "    }\n",
       "\n",
       "    .dataframe tbody tr th {\n",
       "        vertical-align: top;\n",
       "    }\n",
       "\n",
       "    .dataframe thead th {\n",
       "        text-align: right;\n",
       "    }\n",
       "</style>\n",
       "<table border=\"1\" class=\"dataframe\">\n",
       "  <thead>\n",
       "    <tr style=\"text-align: right;\">\n",
       "      <th></th>\n",
       "      <th>room_number</th>\n",
       "      <th>floor_number</th>\n",
       "      <th>floor</th>\n",
       "      <th>prod_year</th>\n",
       "      <th>flat_surface_m2</th>\n",
       "      <th>price_per_m2</th>\n",
       "      <th>price</th>\n",
       "    </tr>\n",
       "  </thead>\n",
       "  <tbody>\n",
       "    <tr>\n",
       "      <td>count</td>\n",
       "      <td>9358.00</td>\n",
       "      <td>9358.00</td>\n",
       "      <td>9358.00</td>\n",
       "      <td>9358.00</td>\n",
       "      <td>9358.00</td>\n",
       "      <td>9358.00</td>\n",
       "      <td>9358.00</td>\n",
       "    </tr>\n",
       "    <tr>\n",
       "      <td>mean</td>\n",
       "      <td>2.75</td>\n",
       "      <td>4.37</td>\n",
       "      <td>2.16</td>\n",
       "      <td>2020.16</td>\n",
       "      <td>58.67</td>\n",
       "      <td>8724.95</td>\n",
       "      <td>507907.30</td>\n",
       "    </tr>\n",
       "    <tr>\n",
       "      <td>std</td>\n",
       "      <td>0.96</td>\n",
       "      <td>2.27</td>\n",
       "      <td>1.79</td>\n",
       "      <td>5.23</td>\n",
       "      <td>21.83</td>\n",
       "      <td>2077.47</td>\n",
       "      <td>270827.66</td>\n",
       "    </tr>\n",
       "    <tr>\n",
       "      <td>min</td>\n",
       "      <td>1.00</td>\n",
       "      <td>1.00</td>\n",
       "      <td>0.00</td>\n",
       "      <td>1894.00</td>\n",
       "      <td>16.97</td>\n",
       "      <td>3840.00</td>\n",
       "      <td>128944.00</td>\n",
       "    </tr>\n",
       "    <tr>\n",
       "      <td>25%</td>\n",
       "      <td>2.00</td>\n",
       "      <td>3.00</td>\n",
       "      <td>1.00</td>\n",
       "      <td>2020.00</td>\n",
       "      <td>44.90</td>\n",
       "      <td>7220.50</td>\n",
       "      <td>379000.00</td>\n",
       "    </tr>\n",
       "    <tr>\n",
       "      <td>50%</td>\n",
       "      <td>3.00</td>\n",
       "      <td>4.00</td>\n",
       "      <td>2.00</td>\n",
       "      <td>2020.00</td>\n",
       "      <td>54.00</td>\n",
       "      <td>8425.00</td>\n",
       "      <td>449000.00</td>\n",
       "    </tr>\n",
       "    <tr>\n",
       "      <td>75%</td>\n",
       "      <td>3.00</td>\n",
       "      <td>5.00</td>\n",
       "      <td>3.00</td>\n",
       "      <td>2021.00</td>\n",
       "      <td>67.87</td>\n",
       "      <td>9759.00</td>\n",
       "      <td>552716.50</td>\n",
       "    </tr>\n",
       "    <tr>\n",
       "      <td>max</td>\n",
       "      <td>8.00</td>\n",
       "      <td>51.00</td>\n",
       "      <td>10.00</td>\n",
       "      <td>2023.00</td>\n",
       "      <td>305.82</td>\n",
       "      <td>35361.00</td>\n",
       "      <td>7500000.00</td>\n",
       "    </tr>\n",
       "  </tbody>\n",
       "</table>\n",
       "</div>"
      ],
      "text/plain": [
       "       room_number  floor_number    floor  prod_year  flat_surface_m2  \\\n",
       "count  9358.00      9358.00       9358.00  9358.00    9358.00           \n",
       "mean   2.75         4.37          2.16     2020.16    58.67             \n",
       "std    0.96         2.27          1.79     5.23       21.83             \n",
       "min    1.00         1.00          0.00     1894.00    16.97             \n",
       "25%    2.00         3.00          1.00     2020.00    44.90             \n",
       "50%    3.00         4.00          2.00     2020.00    54.00             \n",
       "75%    3.00         5.00          3.00     2021.00    67.87             \n",
       "max    8.00         51.00         10.00    2023.00    305.82            \n",
       "\n",
       "       price_per_m2       price  \n",
       "count  9358.00       9358.00     \n",
       "mean   8724.95       507907.30   \n",
       "std    2077.47       270827.66   \n",
       "min    3840.00       128944.00   \n",
       "25%    7220.50       379000.00   \n",
       "50%    8425.00       449000.00   \n",
       "75%    9759.00       552716.50   \n",
       "max    35361.00      7500000.00  "
      ]
     },
     "execution_count": 81,
     "metadata": {},
     "output_type": "execute_result"
    }
   ],
   "source": [
    "df_imputed.describe().round(decimals=2)"
   ]
  },
  {
   "cell_type": "code",
   "execution_count": 87,
   "metadata": {},
   "outputs": [],
   "source": [
    "df_imputed.to_csv('flats_wroclaw_final.csv',index=False)"
   ]
  },
  {
   "cell_type": "markdown",
   "metadata": {},
   "source": [
    "## TEST ALGORYTMU MISSFOREST"
   ]
  },
  {
   "cell_type": "code",
   "execution_count": null,
   "metadata": {},
   "outputs": [],
   "source": [
    "# Generate unique lists of random integers\n",
    "inds1 = list(set(np.random.randint(0, len(df_nan_drop), 10)))\n",
    "inds2 = list(set(np.random.randint(0, len(df_nan_drop), 15)))\n",
    "\n",
    "# Replace the values at given index position with NaNs\n",
    "# df_nan['price'] = [val if i not in inds1 else np.nan for i, val in enumerate(df_nan['price'])]\n",
    "df_nan_drop['room_number'] = [val if i not in inds1 else np.nan for i, val in enumerate(df_nan_drop['room_number'])]\n",
    "df_nan_drop['floor'] = [val if i not in inds2 else np.nan for i, val in enumerate(df_nan_drop['floor'])]\n",
    "# df_nan['price_per_m2'] = [val if i not in inds2 else np.nan for i, val in enumerate(df_nan['price_per_m2'])]\n",
    "\n",
    "\n",
    "# Get count of missing values by column\n",
    "df_nan_drop.isnull().sum()"
   ]
  },
  {
   "cell_type": "code",
   "execution_count": null,
   "metadata": {},
   "outputs": [],
   "source": [
    "df_orygi = df_nan.dropna().copy()"
   ]
  },
  {
   "cell_type": "code",
   "execution_count": null,
   "metadata": {},
   "outputs": [],
   "source": [
    "from missingpy import MissForest\n",
    "imputer = MissForest(random_state=100)\n",
    "X = df_nan_drop.drop(columns=['district','building_type','price','price_per_m2','flat_surface_m2','prod_year'],axis=1)\n",
    "# cat_cols = [df_orygi.columns.get_loc(col) for col in df_orygi.select_dtypes(['category']).columns.tolist()]\n",
    "# cat_cols\n",
    "# X.dtypes\n",
    "X_imputed = imputer.fit_transform(X)"
   ]
  },
  {
   "cell_type": "code",
   "execution_count": null,
   "metadata": {},
   "outputs": [],
   "source": [
    "# df_nan['MF_price'] = X_imputed[:, 0]\n",
    "df_orygi['MF_room_number'] = X_imputed[:, 0]\n",
    "df_orygi['MF_floor'] = X_imputed[:, 2]\n",
    "# df_nan['MF_price_per_m2'] = X_imputed[:, 6]\n",
    "# comparison_df = df_nan[['price', 'MF_price', 'room_number', 'MF_room_number', 'floor','MF_floor','price_per_m2','MF_price_per_m2']]\n",
    "comparison_df = df_orygi[['room_number', 'MF_room_number', 'floor','MF_floor']]\n",
    "# comparison_df['ABS_ERROR_price'] = np.abs(comparison_df['price'] - comparison_df['MF_price'])\n",
    "comparison_df['ABS_ERROR_room_number'] = np.abs(comparison_df['room_number'] - comparison_df['MF_room_number'])\n",
    "comparison_df['ABS_ERROR_floor'] = np.abs(comparison_df['floor'] - comparison_df['MF_floor'])\n",
    "# comparison_df['ABS_ERROR_price_per_m2'] = np.abs(comparison_df['price_per_m2'] - comparison_df['MF_price_per_m2'])\n",
    "comparison_df.round(decimals=2)\n",
    "comparison_df.iloc[sorted([*inds1, *inds2])].head(59)"
   ]
  },
  {
   "cell_type": "code",
   "execution_count": null,
   "metadata": {},
   "outputs": [],
   "source": [
    "columns = list(df_nan.columns)\n",
    "columns.remove('district')\n",
    "columns.remove('building_type')"
   ]
  },
  {
   "cell_type": "code",
   "execution_count": null,
   "metadata": {},
   "outputs": [],
   "source": [
    "df_imputed = pd.DataFrame(data=Xtransform,columns=columns)"
   ]
  },
  {
   "cell_type": "code",
   "execution_count": null,
   "metadata": {},
   "outputs": [],
   "source": [
    "df_imputed.round(decimals=2)"
   ]
  },
  {
   "cell_type": "code",
   "execution_count": null,
   "metadata": {},
   "outputs": [],
   "source": [
    "df_orygi.district = df_orygi.district.astype('category')\n",
    "df_orygi.building_type = df_orygi.building_type.astype('category')"
   ]
  },
  {
   "cell_type": "markdown",
   "metadata": {},
   "source": [
    "#### This option displays full DataFrame"
   ]
  },
  {
   "cell_type": "code",
   "execution_count": null,
   "metadata": {},
   "outputs": [],
   "source": [
    "pd.set_option('display.max_rows', df.shape[0]+1)"
   ]
  }
 ],
 "metadata": {
  "kernelspec": {
   "display_name": "Python 3",
   "language": "python",
   "name": "python3"
  },
  "language_info": {
   "codemirror_mode": {
    "name": "ipython",
    "version": 3
   },
   "file_extension": ".py",
   "mimetype": "text/x-python",
   "name": "python",
   "nbconvert_exporter": "python",
   "pygments_lexer": "ipython3",
   "version": "3.7.4"
  }
 },
 "nbformat": 4,
 "nbformat_minor": 4
}
